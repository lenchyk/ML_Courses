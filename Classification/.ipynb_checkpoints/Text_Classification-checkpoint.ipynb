{
 "cells": [
  {
   "cell_type": "code",
   "execution_count": 1,
   "metadata": {},
   "outputs": [
    {
     "ename": "ModuleNotFoundError",
     "evalue": "No module named 'nltk'",
     "output_type": "error",
     "traceback": [
      "\u001b[0;31m---------------------------------------------------------------------------\u001b[0m",
      "\u001b[0;31mModuleNotFoundError\u001b[0m                       Traceback (most recent call last)",
      "\u001b[0;32m<ipython-input-1-b5a898103117>\u001b[0m in \u001b[0;36m<module>\u001b[0;34m\u001b[0m\n\u001b[1;32m      1\u001b[0m \u001b[0;32mimport\u001b[0m \u001b[0mnumpy\u001b[0m \u001b[0;32mas\u001b[0m \u001b[0mnp\u001b[0m\u001b[0;34m\u001b[0m\u001b[0;34m\u001b[0m\u001b[0m\n\u001b[1;32m      2\u001b[0m \u001b[0;32mimport\u001b[0m \u001b[0mre\u001b[0m\u001b[0;34m\u001b[0m\u001b[0;34m\u001b[0m\u001b[0m\n\u001b[0;32m----> 3\u001b[0;31m \u001b[0;32mimport\u001b[0m \u001b[0mnltk\u001b[0m\u001b[0;34m\u001b[0m\u001b[0;34m\u001b[0m\u001b[0m\n\u001b[0m\u001b[1;32m      4\u001b[0m \u001b[0;32mfrom\u001b[0m \u001b[0msklearn\u001b[0m\u001b[0;34m.\u001b[0m\u001b[0mdatasets\u001b[0m \u001b[0;32mimport\u001b[0m \u001b[0mload_files\u001b[0m\u001b[0;34m\u001b[0m\u001b[0;34m\u001b[0m\u001b[0m\n\u001b[1;32m      5\u001b[0m \u001b[0mnltk\u001b[0m\u001b[0;34m.\u001b[0m\u001b[0mdownload\u001b[0m\u001b[0;34m(\u001b[0m\u001b[0;34m'stopwords'\u001b[0m\u001b[0;34m)\u001b[0m\u001b[0;34m\u001b[0m\u001b[0;34m\u001b[0m\u001b[0m\n",
      "\u001b[0;31mModuleNotFoundError\u001b[0m: No module named 'nltk'"
     ]
    }
   ],
   "source": [
    "import numpy as np\n",
    "import re\n",
    "import nltk\n",
    "from sklearn.datasets import load_files\n",
    "nltk.download('stopwords')\n",
    "from nltk.corpus import stopwords\n",
    "from sklearn.feature_extraction.text import CountVectorizer, TfidfVectorizer\n",
    "from sklearn.model_selection import train_test_split\n",
    "from sklearn.metrics import classification_report, confusion_matrix, accuracy_score, roc_auc_score\n",
    "import matplotlib.pyplot as plt\n",
    "import seaborn as sns\n",
    "from sklearn.linear_model import LogisticRegression\n",
    "from sklearn.ensemble import RandomForestClassifier"
   ]
  },
  {
   "cell_type": "code",
   "execution_count": null,
   "metadata": {},
   "outputs": [],
   "source": [
    "movie_data = load_files(\"txt_sentoken\")\n",
    "X, y = movie_data.data, movie_data.target"
   ]
  },
  {
   "cell_type": "code",
   "execution_count": null,
   "metadata": {},
   "outputs": [],
   "source": [
    "'''\n",
    "=======\n",
    "\n",
    "Introduction\n",
    "\n",
    "This README v2.0 (June, 2004) for the v2.0 polarity dataset comes from\n",
    "the URL http://www.cs.cornell.edu/people/pabo/movie-review-data .\n",
    "\n",
    "=======\n",
    "\n",
    "What's New -- June, 2004\n",
    "\n",
    "This dataset represents an enhancement of the review corpus v1.0\n",
    "described in README v1.1: it contains more reviews, and labels were\n",
    "created with an improved rating-extraction system.\n",
    "\n",
    "=======\n",
    "\n",
    "Citation Info \n",
    "\n",
    "This data was first used in Bo Pang and Lillian Lee,\n",
    "``A Sentimental Education: Sentiment Analysis Using Subjectivity Summarization \n",
    "Based on Minimum Cuts'',  Proceedings of the ACL, 2004.\n",
    "\n",
    "@InProceedings{Pang+Lee:04a,\n",
    "  author =       {Bo Pang and Lillian Lee},\n",
    "  title =        {A Sentimental Education: Sentiment Analysis Using Subjectivity Summarization Based on Minimum Cuts},\n",
    "  booktitle =    \"Proceedings of the ACL\",\n",
    "  year =         2004\n",
    "}\n",
    "\n",
    "=======\n",
    "\n",
    "Data Format Summary \n",
    "\n",
    "- review_polarity.tar.gz: contains this readme and  data used in\n",
    "  the experiments described in Pang/Lee ACL 2004.\n",
    "\n",
    "  Specifically:\n",
    "\n",
    "  Within the folder \"txt_sentoken\" are the 2000 processed down-cased\n",
    "  text files used in Pang/Lee ACL 2004; the names of the two\n",
    "  subdirectories in that folder, \"pos\" and \"neg\", indicate the true\n",
    "  classification (sentiment) of the component files according to our\n",
    "  automatic rating classifier (see section \"Rating Decision\" below).\n",
    "\n",
    "  File names consist of a cross-validation tag plus the name of the\n",
    "  original html file.  The ten folds used in the Pang/Lee ACL 2004 paper's\n",
    "  experiments were:\n",
    "\n",
    "     fold 1: files tagged cv000 through cv099, in numerical order\n",
    "     fold 2: files tagged cv100 through cv199, in numerical order     \n",
    "     ...\n",
    "     fold 10: files tagged cv900 through cv999, in numerical order\n",
    "\n",
    "  Hence, the file neg/cv114_19501.txt, for example, was labeled as\n",
    "  negative, served as a member of fold 2, and was extracted from the\n",
    "  file 19501.html in polarity_html.zip (see below).\n",
    "\n",
    "  Each line in each text file corresponds to a single sentence, as\n",
    "  determined by Adwait Ratnaparkhi's sentence boundary detector\n",
    "  MXTERMINATOR.\n",
    " \n",
    "  Preliminary steps were taken to remove rating information from the\n",
    "  text files, but only the rating information upon which the rating\n",
    "  decision was based is guaranteed to have been removed. Thus, if the\n",
    "  original review contains several instances of rating information,\n",
    "  potentially given in different forms, those not recognized as valid\n",
    "  ratings remain part of the review text.\n",
    "\t\n",
    "- polarity_html.zip: The original source files from which the\n",
    "  processed, labeled, and (randomly) selected data in\n",
    "  review_polarity.tar.gz was derived.\n",
    "\n",
    "  Specifically:  \n",
    "\n",
    "  This data consists of unprocessed, unlabeled html files from the\n",
    "  IMDb archive of the rec.arts.movies.reviews newsgroup,\n",
    "  http://reviews.imdb.com/Reviews. The files in review_polarity.tar.gz\n",
    "  represent a processed subset of these files. \n",
    "\n",
    "=======\n",
    "\n",
    "Rating Decision (Appendix A)\n",
    "\n",
    "This section describes how we determined whether a review was positive\n",
    "or negative.\n",
    "\n",
    "The original html files do not have consistent formats -- a review may\n",
    "not have the author's rating with it, and when it does, the rating can\n",
    "appear at different places in the file in different forms.  We only\n",
    "recognize some of the more explicit ratings, which are extracted via a\n",
    "set of ad-hoc rules.  In essence, a file's classification is determined\n",
    "based on the first rating we were able to identify.\n",
    "\n",
    "\n",
    "- In order to obtain more accurate rating decisions, the maximum\n",
    "\trating must be specified explicitly, both for numerical ratings\n",
    "\tand star ratings.  (\"8/10\", \"four out of five\", and \"OUT OF\n",
    "\t****: ***\" are examples of rating indications we recognize.)\n",
    "\n",
    "- With a five-star system (or compatible number systems):\n",
    "\tthree-and-a-half stars and up are considered positive, \n",
    "\ttwo stars and below are considered negative.\n",
    "- With a four-star system (or compatible number system):\n",
    "\tthree stars and up are considered positive, \n",
    "\tone-and-a-half stars and below are considered negative.  \n",
    "- With a letter grade system:\n",
    "\tB or above is considered positive,\n",
    "\tC- or below is considered negative.\n",
    "\n",
    "We attempted to recognize half stars, but they are specified in an\n",
    "especially free way, which makes them difficult to recognize.  Hence,\n",
    "we may lose a half star very occasionally; but this only results in 2.5\n",
    "stars in five star system being categorized as negative, which is \n",
    "still reasonable.\n",
    "\n",
    "'''"
   ]
  },
  {
   "cell_type": "code",
   "execution_count": null,
   "metadata": {},
   "outputs": [],
   "source": [
    "X[0]"
   ]
  },
  {
   "cell_type": "code",
   "execution_count": null,
   "metadata": {},
   "outputs": [],
   "source": [
    "y[0]"
   ]
  },
  {
   "cell_type": "code",
   "execution_count": null,
   "metadata": {},
   "outputs": [],
   "source": [
    "len(y)"
   ]
  },
  {
   "cell_type": "code",
   "execution_count": null,
   "metadata": {},
   "outputs": [],
   "source": [
    "set(y)"
   ]
  },
  {
   "cell_type": "code",
   "execution_count": null,
   "metadata": {},
   "outputs": [],
   "source": [
    "y.sum()"
   ]
  },
  {
   "cell_type": "code",
   "execution_count": null,
   "metadata": {},
   "outputs": [],
   "source": [
    "# Preprocessing\n",
    "\n",
    "documents = []\n",
    "\n",
    "from nltk.stem import WordNetLemmatizer\n",
    "\n",
    "stemmer = WordNetLemmatizer()\n",
    "\n",
    "for item in range(0, len(X)):\n",
    "    # remove all the special characters\n",
    "    document = re.sub(r'\\W', ' ', str(X[item]))\n",
    "    \n",
    "    # remove all single characters\n",
    "    document = re.sub(r'\\s+[a-zA-Z]\\s+', ' ', document)\n",
    "    \n",
    "    # Remove single characters from the start\n",
    "    document = re.sub(r'\\^[a-zA-Z]\\s+', ' ', document) \n",
    "    \n",
    "    # Removing prefixed 'b'\n",
    "    document = re.sub(r'^b\\s+', '', document)\n",
    "    \n",
    "    # Converting to Lowercase\n",
    "    document = document.lower()\n",
    "    \n",
    "    # Lemmatization\n",
    "    document = document.split()\n",
    "\n",
    "    document = [stemmer.lemmatize(word) for word in document]\n",
    "    document = list(filter(lambda word: word != '', document))\n",
    "    document = ' '.join(document)\n",
    "    \n",
    "    documents.append(document)"
   ]
  },
  {
   "cell_type": "code",
   "execution_count": null,
   "metadata": {},
   "outputs": [],
   "source": [
    "documents[0]"
   ]
  },
  {
   "cell_type": "markdown",
   "metadata": {},
   "source": [
    "### BoW"
   ]
  },
  {
   "cell_type": "code",
   "execution_count": null,
   "metadata": {},
   "outputs": [],
   "source": [
    "vectorizer = CountVectorizer(max_features=1500, stop_words=stopwords.words('english'))\n",
    "X = vectorizer.fit_transform(documents).toarray()"
   ]
  },
  {
   "cell_type": "code",
   "execution_count": null,
   "metadata": {},
   "outputs": [],
   "source": [
    "X.shape"
   ]
  },
  {
   "cell_type": "code",
   "execution_count": null,
   "metadata": {},
   "outputs": [],
   "source": [
    "X[0]"
   ]
  },
  {
   "cell_type": "code",
   "execution_count": null,
   "metadata": {},
   "outputs": [],
   "source": [
    "X_train, X_test, y_train, y_test = train_test_split(X, y, test_size=0.2, random_state=42)"
   ]
  },
  {
   "cell_type": "code",
   "execution_count": null,
   "metadata": {},
   "outputs": [],
   "source": [
    "lr = LogisticRegression(C=1)\n",
    "lr.fit(X_train, y_train) \n",
    "y_pred = lr.predict(X_test)"
   ]
  },
  {
   "cell_type": "code",
   "execution_count": null,
   "metadata": {},
   "outputs": [],
   "source": [
    "fig = plt.figure(figsize=(6, 4))\n",
    "heatmap = sns.heatmap(confusion_matrix(y_test,y_pred), annot=True, cmap='PuRd', \n",
    "                      linewidths=.5, linecolor='gray',fmt=\"d\")\n",
    "plt.ylabel('True label')\n",
    "plt.xlabel('Predicted label')\n",
    "plt.show()"
   ]
  },
  {
   "cell_type": "code",
   "execution_count": null,
   "metadata": {},
   "outputs": [],
   "source": [
    "print(classification_report(y_test,y_pred))\n",
    "print(\"Accuracy: \",accuracy_score(y_test, y_pred))\n",
    "print(\"Roc-auc: \", roc_auc_score(y_test,y_pred))"
   ]
  },
  {
   "cell_type": "code",
   "execution_count": null,
   "metadata": {},
   "outputs": [],
   "source": [
    "rf = RandomForestClassifier(n_estimators=1000, random_state=42)\n",
    "rf.fit(X_train, y_train) \n",
    "y_pred = rf.predict(X_test)"
   ]
  },
  {
   "cell_type": "code",
   "execution_count": null,
   "metadata": {},
   "outputs": [],
   "source": [
    "fig = plt.figure(figsize=(6, 4))\n",
    "heatmap = sns.heatmap(confusion_matrix(y_test,y_pred), annot=True, cmap='PuRd', \n",
    "                      linewidths=.5, linecolor='gray',fmt=\"d\")\n",
    "plt.ylabel('True label')\n",
    "plt.xlabel('Predicted label')\n",
    "plt.show()"
   ]
  },
  {
   "cell_type": "code",
   "execution_count": null,
   "metadata": {},
   "outputs": [],
   "source": [
    "print(classification_report(y_test,y_pred))\n",
    "print(\"Accuracy: \",accuracy_score(y_test, y_pred))\n",
    "print(\"Roc-auc: \", roc_auc_score(y_test,y_pred))"
   ]
  },
  {
   "cell_type": "code",
   "execution_count": null,
   "metadata": {},
   "outputs": [],
   "source": [
    "from sklearn.naive_bayes import MultinomialNB\n",
    "\n",
    "model = MultinomialNB()\n",
    "model.fit(X_train, y_train)\n",
    "y_pred = model.predict(X_test)"
   ]
  },
  {
   "cell_type": "code",
   "execution_count": null,
   "metadata": {},
   "outputs": [],
   "source": [
    "fig = plt.figure(figsize=(6, 4))\n",
    "heatmap = sns.heatmap(confusion_matrix(y_test,y_pred), annot=True, cmap='PuRd', \n",
    "                      linewidths=.5, linecolor='gray',fmt=\"d\")\n",
    "plt.ylabel('True label')\n",
    "plt.xlabel('Predicted label')\n",
    "plt.show()"
   ]
  },
  {
   "cell_type": "code",
   "execution_count": null,
   "metadata": {},
   "outputs": [],
   "source": [
    "print(classification_report(y_test,y_pred))\n",
    "print(\"Accuracy: \",accuracy_score(y_test, y_pred))\n",
    "print(\"Roc-auc: \", roc_auc_score(y_test,y_pred))"
   ]
  },
  {
   "cell_type": "markdown",
   "metadata": {},
   "source": [
    "### TF-IDF"
   ]
  },
  {
   "cell_type": "code",
   "execution_count": null,
   "metadata": {},
   "outputs": [],
   "source": [
    "tfidfconverter = TfidfVectorizer(max_features=2000, stop_words=stopwords.words('english'))\n",
    "X = tfidfconverter.fit_transform(documents).toarray()"
   ]
  },
  {
   "cell_type": "code",
   "execution_count": null,
   "metadata": {},
   "outputs": [],
   "source": [
    "X[0][:20]"
   ]
  },
  {
   "cell_type": "code",
   "execution_count": null,
   "metadata": {},
   "outputs": [],
   "source": [
    "X_train, X_test, y_train, y_test = train_test_split(X, y, test_size=0.2, random_state=42)"
   ]
  },
  {
   "cell_type": "code",
   "execution_count": null,
   "metadata": {},
   "outputs": [],
   "source": [
    "lr = LogisticRegression(C=1)\n",
    "lr.fit(X_train, y_train) \n",
    "y_pred = lr.predict(X_test)"
   ]
  },
  {
   "cell_type": "code",
   "execution_count": null,
   "metadata": {},
   "outputs": [],
   "source": [
    "fig = plt.figure(figsize=(6, 4))\n",
    "heatmap = sns.heatmap(confusion_matrix(y_test,y_pred), annot=True, cmap='PuRd', \n",
    "                      linewidths=.5, linecolor='gray',fmt=\"d\")\n",
    "plt.ylabel('True label')\n",
    "plt.xlabel('Predicted label')\n",
    "plt.show()"
   ]
  },
  {
   "cell_type": "code",
   "execution_count": null,
   "metadata": {},
   "outputs": [],
   "source": [
    "print(classification_report(y_test,y_pred))\n",
    "print(\"Accuracy: \",accuracy_score(y_test, y_pred))\n",
    "print(\"Roc-auc: \", roc_auc_score(y_test,y_pred))"
   ]
  },
  {
   "cell_type": "code",
   "execution_count": null,
   "metadata": {},
   "outputs": [],
   "source": [
    "rf = RandomForestClassifier(n_estimators=500, random_state=42)\n",
    "rf.fit(X_train, y_train) \n",
    "y_pred = rf.predict(X_test)"
   ]
  },
  {
   "cell_type": "code",
   "execution_count": null,
   "metadata": {},
   "outputs": [],
   "source": [
    "fig = plt.figure(figsize=(6, 4))\n",
    "heatmap = sns.heatmap(confusion_matrix(y_test,y_pred), annot=True, cmap='PuRd', \n",
    "                      linewidths=.5, linecolor='gray',fmt=\"d\")\n",
    "plt.ylabel('True label')\n",
    "plt.xlabel('Predicted label')\n",
    "plt.show()"
   ]
  },
  {
   "cell_type": "code",
   "execution_count": null,
   "metadata": {},
   "outputs": [],
   "source": [
    "print(classification_report(y_test,y_pred))\n",
    "print(\"Accuracy: \",accuracy_score(y_test, y_pred))\n",
    "print(\"Roc-auc: \", roc_auc_score(y_test,y_pred))"
   ]
  },
  {
   "cell_type": "code",
   "execution_count": null,
   "metadata": {},
   "outputs": [],
   "source": [
    "model = MultinomialNB()\n",
    "model.fit(X_train, y_train)\n",
    "y_pred = model.predict(X_test)"
   ]
  },
  {
   "cell_type": "code",
   "execution_count": null,
   "metadata": {},
   "outputs": [],
   "source": [
    "fig = plt.figure(figsize=(6, 4))\n",
    "heatmap = sns.heatmap(confusion_matrix(y_test,y_pred), annot=True, cmap='PuRd', \n",
    "                      linewidths=.5, linecolor='gray',fmt=\"d\")\n",
    "plt.ylabel('True label')\n",
    "plt.xlabel('Predicted label')\n",
    "plt.show()"
   ]
  },
  {
   "cell_type": "code",
   "execution_count": null,
   "metadata": {},
   "outputs": [],
   "source": [
    "print(classification_report(y_test,y_pred))\n",
    "print(\"Accuracy: \",accuracy_score(y_test, y_pred))\n",
    "print(\"Roc-auc: \", roc_auc_score(y_test,y_pred))"
   ]
  },
  {
   "cell_type": "markdown",
   "metadata": {},
   "source": [
    "### Exercises:\n",
    "1) Try other classifiers, compare results;  \n",
    "2) Find best meta parameters using GridSearch/RandomSearch."
   ]
  },
  {
   "cell_type": "code",
   "execution_count": null,
   "metadata": {},
   "outputs": [],
   "source": []
  }
 ],
 "metadata": {
  "kernelspec": {
   "display_name": "Python 3",
   "language": "python",
   "name": "python3"
  },
  "language_info": {
   "codemirror_mode": {
    "name": "ipython",
    "version": 3
   },
   "file_extension": ".py",
   "mimetype": "text/x-python",
   "name": "python",
   "nbconvert_exporter": "python",
   "pygments_lexer": "ipython3",
   "version": "3.7.4"
  }
 },
 "nbformat": 4,
 "nbformat_minor": 2
}
