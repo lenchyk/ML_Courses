{
 "cells": [
  {
   "cell_type": "code",
   "execution_count": null,
   "metadata": {},
   "outputs": [],
   "source": [
    "import numpy as np\n",
    "import pandas as pd\n",
    "import matplotlib.pyplot as plt\n",
    "import seaborn as sns\n",
    "from sklearn.linear_model import LogisticRegression\n",
    "from sklearn.metrics import classification_report, accuracy_score, auc, roc_auc_score, roc_curve, f1_score, precision_score, recall_score\n",
    "\n",
    "%matplotlib inline"
   ]
  },
  {
   "cell_type": "markdown",
   "metadata": {},
   "source": [
    "### Logistic Regression"
   ]
  },
  {
   "cell_type": "code",
   "execution_count": null,
   "metadata": {},
   "outputs": [],
   "source": [
    "sns.set()"
   ]
  },
  {
   "cell_type": "code",
   "execution_count": null,
   "metadata": {},
   "outputs": [],
   "source": [
    "# data\n",
    "x = np.array([0,1,1.5,2,3,4,5,8,11,12,13,14,15]).reshape(-1,1)\n",
    "y = np.array([1,1,1,1,0,0,1,0,1,0,0,0,0])"
   ]
  },
  {
   "cell_type": "code",
   "execution_count": null,
   "metadata": {},
   "outputs": [],
   "source": [
    "model = LogisticRegression(C=10).fit(x, y)"
   ]
  },
  {
   "cell_type": "code",
   "execution_count": null,
   "metadata": {},
   "outputs": [],
   "source": [
    "# parameters of the model\n",
    "a0 = model.coef_\n",
    "b0 = model.intercept_"
   ]
  },
  {
   "cell_type": "code",
   "execution_count": null,
   "metadata": {},
   "outputs": [],
   "source": [
    "print(a0[0], b0)"
   ]
  },
  {
   "cell_type": "code",
   "execution_count": null,
   "metadata": {},
   "outputs": [],
   "source": [
    "def sigmoid(x):\n",
    "    return (1 / (1 + np.exp(-x)))"
   ]
  },
  {
   "cell_type": "code",
   "execution_count": null,
   "metadata": {},
   "outputs": [],
   "source": [
    "plt.figure(figsize=(8,6))\n",
    "plt.scatter(x,y,color='b')\n",
    "x_ = np.linspace(-5, 25, 100)\n",
    "y_lr1 = sigmoid(a0[0]*x_ + b0[0])\n",
    "plt.plot(x_, y_lr1, linestyle='dashed', color='g')\n",
    "plt.axhline(y=0.5, xmin=0.05, xmax=0.36, linewidth=1, linestyle='dashed', color='r')\n",
    "plt.axvline(x=5.5, ymin=0.12, ymax=0.92, linewidth=1, linestyle='dashed', color='r')\n",
    "plt.yticks([0, 0.25,0.5,0.75,1])\n",
    "plt.ylim([-0.2,1.2])\n",
    "plt.legend(['Logit function'])\n",
    "plt.show()"
   ]
  },
  {
   "cell_type": "code",
   "execution_count": null,
   "metadata": {},
   "outputs": [],
   "source": [
    "pred_train = model.predict(x)"
   ]
  },
  {
   "cell_type": "code",
   "execution_count": null,
   "metadata": {},
   "outputs": [],
   "source": [
    "pred_train"
   ]
  },
  {
   "cell_type": "code",
   "execution_count": null,
   "metadata": {},
   "outputs": [],
   "source": [
    "probabilities = model.predict_proba(x)\n",
    "probabilities[:,1]"
   ]
  },
  {
   "cell_type": "code",
   "execution_count": null,
   "metadata": {},
   "outputs": [],
   "source": [
    "accuracy_score(y, pred_train)"
   ]
  },
  {
   "cell_type": "code",
   "execution_count": null,
   "metadata": {},
   "outputs": [],
   "source": [
    "precision_score(y, pred_train)"
   ]
  },
  {
   "cell_type": "code",
   "execution_count": null,
   "metadata": {},
   "outputs": [],
   "source": [
    "recall_score(y,pred_test)"
   ]
  },
  {
   "cell_type": "code",
   "execution_count": null,
   "metadata": {},
   "outputs": [],
   "source": [
    "print(classification_report(y, pred_train))"
   ]
  },
  {
   "cell_type": "code",
   "execution_count": null,
   "metadata": {},
   "outputs": [],
   "source": [
    "roc_auc_score(y, pred_train)"
   ]
  },
  {
   "cell_type": "code",
   "execution_count": null,
   "metadata": {},
   "outputs": [],
   "source": [
    "roc_auc_score(y, probabilities[:,1])"
   ]
  },
  {
   "cell_type": "code",
   "execution_count": null,
   "metadata": {},
   "outputs": [],
   "source": [
    "# fpr, tpr, thresholds and roc auc\n",
    "fpr, tpr, thresholds = roc_curve(y, probabilities[:,1])\n",
    "roc_auc = auc(fpr, tpr)\n",
    "\n",
    "# Plot ROC curve\n",
    "plt.plot(fpr, tpr, label='ROC curve (area = %0.3f)' % roc_auc)\n",
    "plt.plot([0, 1], [0, 1], 'k--')  # random predictions curve\n",
    "plt.xlim([-0.1, 1.1])\n",
    "plt.ylim([-0.1, 1.1])\n",
    "plt.xlabel('False Positive Rate')\n",
    "plt.ylabel('True Positive Rate')\n",
    "plt.title('Receiver Operating Characteristic')\n",
    "plt.legend(loc=\"lower right\")\n",
    "plt.show()"
   ]
  },
  {
   "cell_type": "code",
   "execution_count": null,
   "metadata": {},
   "outputs": [],
   "source": [
    "from sklearn.preprocessing import PolynomialFeatures"
   ]
  },
  {
   "cell_type": "code",
   "execution_count": null,
   "metadata": {},
   "outputs": [],
   "source": [
    "transformer = PolynomialFeatures(degree=3, include_bias=False)\n",
    "transformer.fit(x)"
   ]
  },
  {
   "cell_type": "code",
   "execution_count": null,
   "metadata": {},
   "outputs": [],
   "source": [
    "x_3 = transformer.transform(x)"
   ]
  },
  {
   "cell_type": "code",
   "execution_count": null,
   "metadata": {},
   "outputs": [],
   "source": [
    "x_3"
   ]
  },
  {
   "cell_type": "code",
   "execution_count": null,
   "metadata": {},
   "outputs": [],
   "source": [
    "model2 = LogisticRegression(C=1000).fit(x_3, y)"
   ]
  },
  {
   "cell_type": "code",
   "execution_count": null,
   "metadata": {},
   "outputs": [],
   "source": [
    "model2.coef_"
   ]
  },
  {
   "cell_type": "code",
   "execution_count": null,
   "metadata": {},
   "outputs": [],
   "source": [
    "model2.intercept_"
   ]
  },
  {
   "cell_type": "code",
   "execution_count": null,
   "metadata": {},
   "outputs": [],
   "source": [
    "b2 = model2.coef_[0][2]\n",
    "c2 = model2.coef_[0][1]\n",
    "d2 = model2.coef_[0][0]\n",
    "e2 = model2.intercept_[0]"
   ]
  },
  {
   "cell_type": "code",
   "execution_count": null,
   "metadata": {},
   "outputs": [],
   "source": [
    "plt.figure(figsize=(8,6))\n",
    "plt.scatter(x,y,color='b')\n",
    "y_lr2 = sigmoid(b2*(x_**3) + c2*(x_)**2 + d2*x_ + e2)\n",
    "plt.plot(x_, y_lr2, linestyle='dashed', color='g')\n",
    "plt.axhline(y=0.5, xmin=0.05, xmax=0.54, linewidth=1, linestyle='dashed', color='r')\n",
    "plt.axvline(x=2.8, ymin=0.12, ymax=0.92, linewidth=1, linestyle='dashed', color='r')\n",
    "plt.axvline(x=7.6, ymin=0.12, ymax=0.92, linewidth=1, linestyle='dashed', color='r')\n",
    "plt.axvline(x=11.15, ymin=0.12, ymax=0.92, linewidth=1, linestyle='dashed', color='r')\n",
    "plt.yticks([0, 0.25,0.5,0.75,1])\n",
    "plt.ylim([-0.2,1.2])\n",
    "plt.legend(['Logit function'])\n",
    "plt.show()"
   ]
  },
  {
   "cell_type": "code",
   "execution_count": null,
   "metadata": {},
   "outputs": [],
   "source": [
    "y_pred = model2.predict(x_3)"
   ]
  },
  {
   "cell_type": "code",
   "execution_count": null,
   "metadata": {},
   "outputs": [],
   "source": [
    "y_pred "
   ]
  },
  {
   "cell_type": "code",
   "execution_count": null,
   "metadata": {},
   "outputs": [],
   "source": [
    "accuracy_score(y, y_pred)"
   ]
  },
  {
   "cell_type": "code",
   "execution_count": null,
   "metadata": {},
   "outputs": [],
   "source": [
    "print(classification_report(y, y_pred))"
   ]
  },
  {
   "cell_type": "code",
   "execution_count": null,
   "metadata": {},
   "outputs": [],
   "source": [
    "# fpr, tpr, thresholds and roc auc\n",
    "fpr, tpr, thresholds = roc_curve(y, model2.predict_proba(x_3)[:,1])\n",
    "roc_auc = auc(fpr, tpr)\n",
    "\n",
    "# Plot ROC curve\n",
    "plt.plot(fpr, tpr, label='ROC curve (area = %0.3f)' % roc_auc)\n",
    "plt.plot([0, 1], [0, 1], 'k--')  # random predictions curve\n",
    "plt.xlim([-0.1, 1.1])\n",
    "plt.ylim([-0.1, 1.1])\n",
    "plt.xlabel('False Positive Rate')\n",
    "plt.ylabel('True Positive Rate')\n",
    "plt.title('Receiver Operating Characteristic')\n",
    "plt.legend(loc=\"lower right\")\n",
    "plt.show()"
   ]
  },
  {
   "cell_type": "code",
   "execution_count": null,
   "metadata": {},
   "outputs": [],
   "source": [
    "model3 = LogisticRegression(C=0.1).fit(x_3, y)"
   ]
  },
  {
   "cell_type": "code",
   "execution_count": null,
   "metadata": {},
   "outputs": [],
   "source": [
    "model3.coef_"
   ]
  },
  {
   "cell_type": "code",
   "execution_count": null,
   "metadata": {},
   "outputs": [],
   "source": [
    "model3.intercept_"
   ]
  },
  {
   "cell_type": "code",
   "execution_count": null,
   "metadata": {},
   "outputs": [],
   "source": [
    "b2 = model3.coef_[0][2]\n",
    "c2 = model3.coef_[0][1]\n",
    "d2 = model3.coef_[0][0]\n",
    "e2 = model3.intercept_[0]"
   ]
  },
  {
   "cell_type": "code",
   "execution_count": null,
   "metadata": {},
   "outputs": [],
   "source": [
    "plt.figure(figsize=(8,6))\n",
    "plt.scatter(x,y,color='b')\n",
    "y_lr3 = sigmoid(b2*(x_**3) + c2*(x_)**2 + d2*x_ + e2)\n",
    "plt.plot(x_, y_lr3, linestyle='dashed', color='g')\n",
    "plt.axhline(y=0.5, xmin=0.05, xmax=0.43, linewidth=1, linestyle='dashed', color='r')\n",
    "plt.axvline(x=7.7, ymin=0.12, ymax=0.92, linewidth=1, linestyle='dashed', color='r')\n",
    "plt.yticks([0, 0.25,0.5,0.75,1])\n",
    "plt.ylim([-0.2,1.2])\n",
    "plt.legend(['Logit function'])\n",
    "plt.show()"
   ]
  },
  {
   "cell_type": "code",
   "execution_count": null,
   "metadata": {},
   "outputs": [],
   "source": [
    "y_pred3 = model3.predict(x_3)"
   ]
  },
  {
   "cell_type": "code",
   "execution_count": null,
   "metadata": {},
   "outputs": [],
   "source": [
    "y_pred3"
   ]
  },
  {
   "cell_type": "code",
   "execution_count": null,
   "metadata": {},
   "outputs": [],
   "source": [
    "accuracy_score(y, y_pred3)"
   ]
  },
  {
   "cell_type": "code",
   "execution_count": null,
   "metadata": {},
   "outputs": [],
   "source": [
    "print(classification_report(y, y_pred3))"
   ]
  },
  {
   "cell_type": "code",
   "execution_count": null,
   "metadata": {},
   "outputs": [],
   "source": [
    "# fpr, tpr, thresholds and roc auc\n",
    "fpr, tpr, thresholds = roc_curve(y, model3.predict_proba(x_3)[:,1])\n",
    "roc_auc = auc(fpr, tpr)\n",
    "\n",
    "# Plot ROC curve\n",
    "plt.plot(fpr, tpr, label='ROC curve (area = %0.3f)' % roc_auc)\n",
    "plt.plot([0, 1], [0, 1], 'k--')  # random predictions curve\n",
    "plt.xlim([-0.1, 1.1])\n",
    "plt.ylim([-0.1, 1.1])\n",
    "plt.xlabel('False Positive Rate')\n",
    "plt.ylabel('True Positive Rate')\n",
    "plt.title('Receiver Operating Characteristic')\n",
    "plt.legend(loc=\"lower right\")\n",
    "plt.show()"
   ]
  },
  {
   "cell_type": "code",
   "execution_count": null,
   "metadata": {},
   "outputs": [],
   "source": [
    "x_test = np.array([0.5, 3.5, 5.5, 10, 19]).reshape(-1,1)\n",
    "y_test = np.array([1, 0, 1, 0, 0])"
   ]
  },
  {
   "cell_type": "code",
   "execution_count": null,
   "metadata": {},
   "outputs": [],
   "source": [
    "plt.figure(figsize=(8,6))\n",
    "plt.scatter(x,y,color='b')\n",
    "plt.scatter(x_test, y_test, color='black', marker='*')\n",
    "plt.plot(x_, y_lr1, linestyle='dashed', color='magenta')\n",
    "plt.plot(x_, y_lr2, linestyle='dashed', color='g')\n",
    "plt.plot(x_, y_lr3, linestyle='dashed', color='orange')\n",
    "plt.axhline(y=0.5, xmin=0.05, xmax=0.93, linewidth=1, linestyle='dotted', color='r')\n",
    "plt.yticks([0, 0.25,0.5,0.75,1])\n",
    "plt.ylim([-0.2,1.2])\n",
    "plt.legend(['1 degree','3 degree, C=1000', '3 degree, C=0.1'])\n",
    "plt.show()\n",
    "plt.show()"
   ]
  },
  {
   "cell_type": "code",
   "execution_count": null,
   "metadata": {},
   "outputs": [],
   "source": [
    "x_test_3 = transformer.fit_transform(x_test)"
   ]
  },
  {
   "cell_type": "code",
   "execution_count": null,
   "metadata": {},
   "outputs": [],
   "source": [
    "# fpr, tpr, thresholds and roc auc\n",
    "fpr1, tpr1, thresholds1 = roc_curve(y_test, model.predict_proba(x_test)[:,1])\n",
    "fpr2, tpr2, thresholds2 = roc_curve(y_test, model2.predict_proba(x_test_3)[:,1])\n",
    "fpr3, tpr3, thresholds3 = roc_curve(y_test, model3.predict_proba(x_test_3)[:,1])\n",
    "roc_auc1 = auc(fpr1, tpr1)\n",
    "roc_auc2 = auc(fpr2, tpr2)\n",
    "roc_auc3 = auc(fpr3, tpr3)\n",
    "# Plot ROC curve\n",
    "plt.plot(fpr1, tpr1, label='ROC curve (area = %0.3f)' % roc_auc1, color='magenta')\n",
    "plt.plot(fpr2, tpr2, label='ROC curve (area = %0.3f)' % roc_auc2, color='g')\n",
    "plt.plot(fpr3, tpr3, label='ROC curve (area = %0.3f)' % roc_auc3, color='orange')\n",
    "plt.plot([0, 1], [0, 1], 'k--')  # random predictions curve\n",
    "plt.xlim([-0.1, 1.1])\n",
    "plt.ylim([-0.1, 1.1])\n",
    "plt.xlabel('False Positive Rate')\n",
    "plt.ylabel('True Positive Rate')\n",
    "plt.title('Receiver Operating Characteristic')\n",
    "plt.legend(loc=\"lower right\")\n",
    "plt.show()"
   ]
  },
  {
   "cell_type": "markdown",
   "metadata": {},
   "source": [
    "### Exercise\n",
    "Compare other metrics for train and tets dataset, make conclusions"
   ]
  },
  {
   "cell_type": "markdown",
   "metadata": {},
   "source": [
    "### K-nearest Neighbours"
   ]
  },
  {
   "cell_type": "code",
   "execution_count": null,
   "metadata": {},
   "outputs": [],
   "source": [
    "from sklearn.neighbors import KNeighborsClassifier\n",
    "neigh = KNeighborsClassifier(n_neighbors=2)\n",
    "neigh.fit(x, y) "
   ]
  },
  {
   "cell_type": "code",
   "execution_count": null,
   "metadata": {},
   "outputs": [],
   "source": [
    "test_pr_knn = neigh.predict(x_test)\n",
    "train_knn = neigh.predict(x)"
   ]
  },
  {
   "cell_type": "code",
   "execution_count": null,
   "metadata": {},
   "outputs": [],
   "source": [
    "print(classification_report(y_test,test_pr_knn))"
   ]
  },
  {
   "cell_type": "code",
   "execution_count": null,
   "metadata": {},
   "outputs": [],
   "source": [
    "print(classification_report(y,train_knn))"
   ]
  },
  {
   "cell_type": "code",
   "execution_count": null,
   "metadata": {},
   "outputs": [],
   "source": [
    "roc_auc_score(y_test,test_pr_knn)"
   ]
  },
  {
   "cell_type": "code",
   "execution_count": null,
   "metadata": {},
   "outputs": [],
   "source": [
    "roc_auc_score(y,train_knn)"
   ]
  },
  {
   "cell_type": "code",
   "execution_count": null,
   "metadata": {},
   "outputs": [],
   "source": [
    "x_linsp = np.linspace(0,25,100).reshape(-1,1)\n",
    "model1 = KNeighborsClassifier(n_neighbors=1).fit(x,y)\n",
    "y_knn_1 = model1.predict_proba(x_linsp)[:,1]\n",
    "model2 = KNeighborsClassifier(n_neighbors=2).fit(x,y)\n",
    "y_knn_2 = model2.predict_proba(x_linsp)[:,1]\n",
    "model3 = KNeighborsClassifier(n_neighbors=5, weights='distance').fit(x,y)\n",
    "y_knn_3 = model3.predict_proba(x_linsp)[:,1]"
   ]
  },
  {
   "cell_type": "code",
   "execution_count": null,
   "metadata": {},
   "outputs": [],
   "source": [
    "plt.figure(figsize=(8,6))\n",
    "plt.scatter(x,y,color='b')\n",
    "plt.scatter(x_test, y_test, color='black', marker='*')\n",
    "plt.plot(x_linsp, y_knn_1, linestyle='dashed', color='orange')\n",
    "plt.plot(x_linsp, y_knn_2, linestyle='dashed', color='green')\n",
    "plt.plot(x_linsp, y_knn_3, linestyle='dashed', color='red')\n",
    "\n",
    "plt.legend(['knn-1', 'knn-2','knn-5', 'data', 'test'])\n",
    "plt.yticks([0, 0.25,0.5,0.75,1])\n",
    "plt.ylim([-0.2,1.2])\n",
    "plt.show()"
   ]
  },
  {
   "cell_type": "markdown",
   "metadata": {},
   "source": [
    "### Decision Tree"
   ]
  },
  {
   "cell_type": "code",
   "execution_count": null,
   "metadata": {},
   "outputs": [],
   "source": [
    "from sklearn.tree import DecisionTreeClassifier"
   ]
  },
  {
   "cell_type": "code",
   "execution_count": null,
   "metadata": {},
   "outputs": [],
   "source": [
    "dt = DecisionTreeClassifier(max_depth=2)\n",
    "dt.fit(x, y)\n",
    "test_pred = dt.predict(x_test)\n",
    "train_pred = dt.predict(x)"
   ]
  },
  {
   "cell_type": "code",
   "execution_count": null,
   "metadata": {},
   "outputs": [],
   "source": [
    "x_linsp = np.linspace(0,25,100).reshape(-1,1)\n",
    "model1 = DecisionTreeClassifier(max_depth=2).fit(x,y)\n",
    "y_dt_1 = model1.predict_proba(x_linsp)[:,1]\n",
    "model2 = DecisionTreeClassifier(max_depth=3).fit(x,y)\n",
    "y_dt_2 = model2.predict_proba(x_linsp)[:,1]\n",
    "model3 = DecisionTreeClassifier(max_depth=5).fit(x,y)\n",
    "y_dt_3 = model3.predict_proba(x_linsp)[:,1]"
   ]
  },
  {
   "cell_type": "code",
   "execution_count": null,
   "metadata": {},
   "outputs": [],
   "source": [
    "plt.figure(figsize=(8,6))\n",
    "plt.scatter(x,y,color='b')\n",
    "plt.scatter(x_test, y_test, color='black', marker='*')\n",
    "plt.plot(x_linsp, y_dt_1, linestyle='dashed', color='orange')\n",
    "plt.plot(x_linsp, y_dt_2, linestyle='dashed', color='green')\n",
    "plt.plot(x_linsp, y_dt_3, linestyle='dashed', color='red')\n",
    "plt.legend(['max_depth=2', 'max_depth=3', 'max_depth=5', 'data', 'test'])\n",
    "plt.yticks([0, 0.25,0.5,0.75,1])\n",
    "plt.ylim([-0.2,1.2])\n",
    "plt.show()"
   ]
  },
  {
   "cell_type": "markdown",
   "metadata": {},
   "source": [
    "### Random forest"
   ]
  },
  {
   "cell_type": "code",
   "execution_count": null,
   "metadata": {},
   "outputs": [],
   "source": [
    "from sklearn.ensemble import RandomForestClassifier"
   ]
  },
  {
   "cell_type": "code",
   "execution_count": null,
   "metadata": {},
   "outputs": [],
   "source": [
    "rf = RandomForestClassifier(n_estimators=6, random_state=40)\n",
    "rf.fit(x, y)\n",
    "test_pred = rf.predict(x_test)\n",
    "train_pred = rf.predict(x)"
   ]
  },
  {
   "cell_type": "code",
   "execution_count": null,
   "metadata": {},
   "outputs": [],
   "source": [
    "rf1 = RandomForestClassifier(n_estimators=3, max_depth=3).fit(x,y)\n",
    "y_rf_1 = rf1.predict_proba(x_linsp)[:,1]\n",
    "rf2 = RandomForestClassifier(n_estimators=5, max_depth=3).fit(x,y)\n",
    "y_rf_2 = rf2.predict_proba(x_linsp)[:,1]\n",
    "rf3 = RandomForestClassifier(n_estimators=6, max_depth=3).fit(x,y)\n",
    "y_rf_3 = rf3.predict_proba(x_linsp)[:,1]"
   ]
  },
  {
   "cell_type": "code",
   "execution_count": null,
   "metadata": {},
   "outputs": [],
   "source": [
    "plt.figure(figsize=(8,6))\n",
    "plt.scatter(x,y,color='b')\n",
    "plt.scatter(x_test, y_test, color='black', marker='*')\n",
    "plt.plot(x_linsp, y_rf_1, linestyle='dashed', color='orange')\n",
    "plt.plot(x_linsp, y_rf_2, linestyle='dashed', color='green')\n",
    "plt.plot(x_linsp, y_rf_3, linestyle='dashed', color='red')\n",
    "plt.legend(['RF_4trees', 'RF_5trees', 'RF_6trees', 'data', 'test'])\n",
    "plt.yticks([0, 0.25,0.5,0.75,1])\n",
    "plt.ylim([-0.2,1.2])\n",
    "plt.show()"
   ]
  },
  {
   "cell_type": "markdown",
   "metadata": {},
   "source": [
    "### Gradient Boosting"
   ]
  },
  {
   "cell_type": "code",
   "execution_count": null,
   "metadata": {},
   "outputs": [],
   "source": [
    "from sklearn.ensemble import GradientBoostingClassifier"
   ]
  },
  {
   "cell_type": "code",
   "execution_count": null,
   "metadata": {},
   "outputs": [],
   "source": [
    "gbc = GradientBoostingClassifier(n_estimators=50, learning_rate=0.02, max_depth=2)\n",
    "gbc.fit(x, y)\n",
    "test_pred = gbc.predict(x_test)\n",
    "train_pred = gbc.predict(x)"
   ]
  },
  {
   "cell_type": "code",
   "execution_count": null,
   "metadata": {},
   "outputs": [],
   "source": [
    "gbc1 =  GradientBoostingClassifier(n_estimators=5, max_depth=2).fit(x,y)\n",
    "y_gbc_1 = gbc1.predict_proba(x_linsp)[:,1]\n",
    "gbc2 =  GradientBoostingClassifier(n_estimators=10, max_depth=2).fit(x,y)\n",
    "y_gbc_2 = gbc2.predict_proba(x_linsp)[:,1]\n",
    "gbc3 =  GradientBoostingClassifier(n_estimators=20, max_depth=2).fit(x,y)\n",
    "y_gbc_3 = gbc3.predict_proba(x_linsp)[:,1]\n",
    "gbc4 =  GradientBoostingClassifier(n_estimators=50, max_depth=2).fit(x,y)\n",
    "y_gbc_4 = gbc4.predict_proba(x_linsp)[:,1]"
   ]
  },
  {
   "cell_type": "code",
   "execution_count": null,
   "metadata": {},
   "outputs": [],
   "source": [
    "plt.figure(figsize=(8,6))\n",
    "plt.scatter(x,y,color='b')\n",
    "plt.scatter(x_test, y_test, color='black', marker='*')\n",
    "plt.plot(x_linsp, y_gbc_1, linestyle='dashed', color='orange')\n",
    "plt.plot(x_linsp, y_gbc_2, linestyle='dashed', color='green')\n",
    "plt.plot(x_linsp, y_gbc_3, linestyle='dashed', color='grey')\n",
    "plt.plot(x_linsp, y_gbc_4, linestyle='dashed', color='red')\n",
    "plt.legend(['5 estimators', '10 estimators', '20 estimators', '50 estimators', 'data', 'test'])\n",
    "plt.yticks([0, 0.25,0.5,0.75,1])\n",
    "plt.ylim([-0.2,1.2])\n",
    "plt.show()"
   ]
  },
  {
   "cell_type": "code",
   "execution_count": null,
   "metadata": {},
   "outputs": [],
   "source": []
  }
 ],
 "metadata": {
  "kernelspec": {
   "display_name": "Python 3",
   "language": "python",
   "name": "python3"
  },
  "language_info": {
   "codemirror_mode": {
    "name": "ipython",
    "version": 3
   },
   "file_extension": ".py",
   "mimetype": "text/x-python",
   "name": "python",
   "nbconvert_exporter": "python",
   "pygments_lexer": "ipython3",
   "version": "3.7.4"
  }
 },
 "nbformat": 4,
 "nbformat_minor": 2
}
