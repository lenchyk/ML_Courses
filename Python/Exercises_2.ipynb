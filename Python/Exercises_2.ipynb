{
 "cells": [
  {
   "cell_type": "markdown",
   "metadata": {},
   "source": [
    "### Exercises"
   ]
  },
  {
   "cell_type": "markdown",
   "metadata": {},
   "source": [
    "1) For the input of your function, you will be given one sentence. You have to return a corrected version, that starts with a capital letter and ends with a period (dot).\n",
    "\n",
    "Pay attention to the fact that not all of the fixes are necessary. If a sentence already ends with a period (dot), then adding another one will be a mistake.\n",
    "\n",
    "Input: A string.\n",
    "\n",
    "Output: A string."
   ]
  },
  {
   "cell_type": "code",
   "execution_count": 4,
   "metadata": {},
   "outputs": [
    {
     "name": "stdout",
     "output_type": "stream",
     "text": [
      "Hello.\n"
     ]
    }
   ],
   "source": [
    "def correct_sentence(text: str) -> str:\n",
    "    \"\"\"\n",
    "        returns a corrected sentence which starts with a capital letter\n",
    "        and ends with a dot.\n",
    "    \"\"\"\n",
    "    if text.istitle() and text[len(text)-1] == '.':\n",
    "        pass\n",
    "    elif text.istitle():\n",
    "        text = text + '.'\n",
    "    elif text[len(text)-1] == '.':\n",
    "        text = text.capitalize()\n",
    "    else:\n",
    "        text = text.capitalize() + '.'\n",
    "    return text\n",
    "print(correct_sentence(\"hello.\"))"
   ]
  },
  {
   "cell_type": "markdown",
   "metadata": {},
   "source": [
    "2) Write a function that takes a list and returns a new list that contains all the elements of the first list minus all the duplicates.  \n",
    "\n",
    "Input: A list.\n",
    "\n",
    "Output: A list."
   ]
  },
  {
   "cell_type": "code",
   "execution_count": 6,
   "metadata": {},
   "outputs": [
    {
     "name": "stdout",
     "output_type": "stream",
     "text": [
      "[1, 2]\n"
     ]
    }
   ],
   "source": [
    "def drop_duplicates(lst):\n",
    "    \"\"\"\n",
    "        returns a list without duplicates.\n",
    "    \"\"\"\n",
    "    return list(set(lst))\n",
    "list1 = [1, 1, 1, 2]\n",
    "print(drop_duplicates(list1))"
   ]
  },
  {
   "cell_type": "markdown",
   "metadata": {},
   "source": [
    "3) Let's try some sorting. Here is an array with the specific rules.\n",
    "\n",
    "The array (a tuple) has various numbers. You should sort it, but sort it by absolute value in ascending order. For example, the sequence (-20, -5, 10, 15) will be sorted like so: (-5, 10, 15, -20). Your function should return the sorted list or tuple.\n",
    "\n",
    "Precondition: The numbers in the array are unique by their absolute values.\n",
    "\n",
    "Input: A tuple.\n",
    "\n",
    "Output: The list or tuple (but not a generator) sorted by absolute values in ascending order."
   ]
  },
  {
   "cell_type": "code",
   "execution_count": 8,
   "metadata": {},
   "outputs": [
    {
     "name": "stdout",
     "output_type": "stream",
     "text": [
      "[1, -5, 10, 15, 20]\n"
     ]
    }
   ],
   "source": [
    "#finish this function!!!\n",
    "def abs_sort(some_tuple):\n",
    "    some_list = list(some_tuple)\n",
    "    sorted_list = sorted([abs(i) for i in some_list])\n",
    "    result = [j for i in sorted_list for j in some_list if i == abs(j)]\n",
    "    return result\n",
    "\n",
    "print(abs_sort((1, 20, -5, 10, 15)))"
   ]
  },
  {
   "cell_type": "markdown",
   "metadata": {},
   "source": [
    "4) *List comprehensions*\n",
    "\n",
    "Create these lists:\n",
    "\n",
    "a) [-10,-9,-8,-7,-6,-5,-4,-3,-2,-1,0]\n",
    "\n",
    "b) A list of all consonants in the sentence 'The quick brown fox jumped over the lazy dog'\n",
    "\n",
    "c) A list of all the capital letters (and not white space) in 'The Quick Brown Fox Jumped Over The Lazy Dog'"
   ]
  },
  {
   "cell_type": "code",
   "execution_count": 9,
   "metadata": {},
   "outputs": [
    {
     "name": "stdout",
     "output_type": "stream",
     "text": [
      "[-10, -9, -8, -7, -6, -5, -4, -3, -2, -1, 0] \n",
      " ['T', 'h', 'q', 'c', 'k', 'b', 'r', 'w', 'n', 'f', 'x', 'j', 'm', 'p', 'd', 'v', 'r', 't', 'h', 'l', 'z', 'y', 'd', 'g'] \n",
      " ['T', 'Q', 'B', 'F', 'J', 'O', 'T', 'L', 'D']\n"
     ]
    }
   ],
   "source": [
    "a = [i for i in range(-10, 1, 1)]\n",
    "b = [i for i in 'The quick brown fox jumped over the lazy dog' if i not in \" oieua\"]\n",
    "c = [i for i in 'The Quick Brown Fox Jumped Over The Lazy Dog' if i.isupper()]\n",
    "print(a, '\\n', b, '\\n', c)"
   ]
  },
  {
   "cell_type": "markdown",
   "metadata": {},
   "source": [
    "5) *List comprehensions*  \n",
    "\n",
    "a) Create a sample list of random integers with list comprehension and the random module. (length 30, import included)  \n",
    "\n",
    "b) Modify this sample list that only random numbers that have a digital sum of 5 occures in that sample."
   ]
  },
  {
   "cell_type": "code",
   "execution_count": 23,
   "metadata": {},
   "outputs": [
    {
     "name": "stdout",
     "output_type": "stream",
     "text": [
      "[264, 189, 353, 384, 310, 22, 121, 447, 183, 464, 135, 230, 439, 404, 437, 226, 15, 321, 40, 208, 396, 371, 481, 187, 463, 397, 12, 297, 479, 105, 300]\n",
      "[230]\n"
     ]
    }
   ],
   "source": [
    "import random\n",
    "def digit_sum(n):\n",
    "    s = 0\n",
    "    while n:\n",
    "        s += n % 10\n",
    "        n //= 10\n",
    "    return s\n",
    "def digit_sum1(number):\n",
    "    return sum(int(i) for i in str(number))\n",
    "list_a = [random.randint(0, 500) for _ in range(31)]\n",
    "print(list_a) \n",
    "list_b = [i for i in list_a if digit_sum(i) == 5]\n",
    "print(list_b)"
   ]
  },
  {
   "cell_type": "markdown",
   "metadata": {},
   "source": [
    "6) Write a function that takes two lists and returns *True* if they have at least one common member."
   ]
  },
  {
   "cell_type": "code",
   "execution_count": 12,
   "metadata": {},
   "outputs": [
    {
     "name": "stdout",
     "output_type": "stream",
     "text": [
      "False\n"
     ]
    }
   ],
   "source": [
    "def one(list1, list2):\n",
    "    same_elem = [i for i in list1 for j in list2 if i == j]\n",
    "    return True if len(same_elem) == 1 else False\n",
    "l1 = [1, 2, 3]\n",
    "l2 = [0]\n",
    "print(one(l1, l2)"
   ]
  },
  {
   "cell_type": "markdown",
   "metadata": {},
   "source": [
    "7) Write a function to map two lists into a dictionary. "
   ]
  },
  {
   "cell_type": "code",
   "execution_count": 13,
   "metadata": {},
   "outputs": [],
   "source": [
    "lst1 = [1,2,8,9,0]\n",
    "lst2 = ['s','2','df','g','']"
   ]
  },
  {
   "cell_type": "code",
   "execution_count": 18,
   "metadata": {},
   "outputs": [
    {
     "name": "stdout",
     "output_type": "stream",
     "text": [
      "{1: 's', 2: '2', 8: 'df', 9: 'g', 0: ''}\n"
     ]
    }
   ],
   "source": [
    "d = {i:j for i,j in zip(lst1, lst2)}\n",
    "print(d)"
   ]
  },
  {
   "cell_type": "markdown",
   "metadata": {},
   "source": [
    "8) Write a function to combine two dictionary adding values for common keys.  \n",
    "\n",
    "d1 = {'a': 100, 'b': 200, 'c':300}  \n",
    "d2 = {'a': 300, 'b': 200, 'd':400}  \n",
    "Sample output: Counter({'a': 400, 'b': 400, 'd': 400, 'c': 300})"
   ]
  },
  {
   "cell_type": "code",
   "execution_count": 3,
   "metadata": {},
   "outputs": [
    {
     "name": "stdout",
     "output_type": "stream",
     "text": [
      "dict_items([('a', 300), ('b', 200), ('c', 300), ('d', 400)])\n",
      "{'a': 400, 'b': 400, 'c': 300, 'd': 400}\n"
     ]
    }
   ],
   "source": [
    "d1 = {'a': 100, 'b': 200, 'c':300}\n",
    "d2 = {'a': 300, 'b': 200, 'd':400}\n",
    "\n",
    "def dict_merge(d1, d2):\n",
    "    d = {**d1, **d2}\n",
    "    for k, v in d.items():\n",
    "        if k in d1 and k in d2:\n",
    "            d[k] = d1[k] + d2[k]\n",
    "    return d\n",
    "\n",
    "print(dict_merge(d1, d2))\n"
   ]
  },
  {
   "cell_type": "markdown",
   "metadata": {},
   "source": [
    "9) Write a function to create a dictionary from a string.  \n",
    "\n",
    "Note: Track the count of the letters from the string. \n",
    "\n",
    "Sample string : 'w3resource'  \n",
    "Expected output: {'3': 1, 's': 1, 'r': 2, 'u': 1, 'w': 1, 'c': 1, 'e': 2, 'o': 1}"
   ]
  },
  {
   "cell_type": "code",
   "execution_count": 43,
   "metadata": {},
   "outputs": [
    {
     "name": "stdout",
     "output_type": "stream",
     "text": [
      "Counter({'r': 2, 'e': 2, 'w': 1, '3': 1, 's': 1, 'o': 1, 'u': 1, 'c': 1})\n"
     ]
    }
   ],
   "source": [
    "from collections import Counter\n",
    "\n",
    "string = 'w3resource'\n",
    "def dictionary(string):\n",
    "    return Counter(string)\n",
    "print(Counter(string))"
   ]
  },
  {
   "cell_type": "markdown",
   "metadata": {},
   "source": [
    "10) Write a function to count the elements in a list which are tuples."
   ]
  },
  {
   "cell_type": "code",
   "execution_count": 11,
   "metadata": {},
   "outputs": [],
   "source": [
    "lst = [2, 0, (2.2, 8), 5, (2,), 0, (2,1,5)]"
   ]
  },
  {
   "cell_type": "code",
   "execution_count": 12,
   "metadata": {},
   "outputs": [
    {
     "name": "stdout",
     "output_type": "stream",
     "text": [
      "3\n"
     ]
    }
   ],
   "source": [
    "def tuple_count(lst):\n",
    "    count = 0\n",
    "    for i in lst:\n",
    "        if type(i) == tuple:\n",
    "            count += 1\n",
    "    return count\n",
    "print(tuple_count(lst))"
   ]
  },
  {
   "cell_type": "markdown",
   "metadata": {},
   "source": [
    "11) You are given the current stock prices. You have to find out which stocks cost more.\n",
    "\n",
    "Input: The dictionary where the market identifier code is a key and the value is a stock price.\n",
    "\n",
    "Output: The market identifier code as a string."
   ]
  },
  {
   "cell_type": "code",
   "execution_count": 19,
   "metadata": {},
   "outputs": [],
   "source": [
    "dct = {'12jkudr': 123,\n",
    "       '34Rt2': 345.5,\n",
    "       'ert3s': 25,\n",
    "       'rtyi3e': 250,\n",
    "       'wfe4m': 100\n",
    "      }"
   ]
  },
  {
   "cell_type": "code",
   "execution_count": 28,
   "metadata": {},
   "outputs": [
    {
     "name": "stdout",
     "output_type": "stream",
     "text": [
      "34Rt2\n"
     ]
    }
   ],
   "source": [
    "from collections import Counter\n",
    "# the first way using Counter\n",
    "def max_price(dct):\n",
    "    d = Counter(dct)\n",
    "    return d.most_common(1)[0][0] if d else None\n",
    "\n",
    "# the second way using values()\n",
    "def max_price2(dct):\n",
    "    for k, v in dct.items():\n",
    "        if v == max(dct.values()):\n",
    "            return k\n",
    "print(max_price2(dct))\n"
   ]
  },
  {
   "cell_type": "markdown",
   "metadata": {},
   "source": [
    "12) *Secret message*\n",
    "\n",
    "You are given a chunk of text. Gather all capital letters in one word in the order that they appear in the text.\n",
    "\n",
    "For example: text = \"How are you? Eh, ok. Low or Lower? Ohhh.\", if we collect all of the capital letters, we get the message \"HELLO\".\n",
    "\n",
    "Input: A text as a string (unicode).\n",
    "\n",
    "Output: The secret message as a string or an empty string."
   ]
  },
  {
   "cell_type": "code",
   "execution_count": 52,
   "metadata": {},
   "outputs": [
    {
     "name": "stdout",
     "output_type": "stream",
     "text": [
      "['H', 'E', 'L', 'L', 'O', 'H', 'E', 'L', 'L', 'O']\n"
     ]
    }
   ],
   "source": [
    "text = \"\"\"How are you? Eh, ok. Low or Lower? Ohhh.\", if we collect all of the capital letters, \n",
    "we get the message \"HELLO\"\"\"\"\"\n",
    "\n",
    "def message(string):\n",
    "    return str([i for i in string if i.isupper()])\n",
    "print(message(text))"
   ]
  }
 ],
 "metadata": {
  "kernelspec": {
   "display_name": "Python 3",
   "language": "python",
   "name": "python3"
  },
  "language_info": {
   "codemirror_mode": {
    "name": "ipython",
    "version": 3
   },
   "file_extension": ".py",
   "mimetype": "text/x-python",
   "name": "python",
   "nbconvert_exporter": "python",
   "pygments_lexer": "ipython3",
   "version": "3.7.4"
  }
 },
 "nbformat": 4,
 "nbformat_minor": 2
}
