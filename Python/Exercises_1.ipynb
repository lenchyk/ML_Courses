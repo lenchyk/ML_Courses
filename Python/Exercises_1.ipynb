{
 "cells": [
  {
   "cell_type": "markdown",
   "metadata": {},
   "source": [
    "### Exercises"
   ]
  },
  {
   "cell_type": "markdown",
   "metadata": {},
   "source": [
    "1) Write a Python program to get a string from a given string where all occurrences of its first char have been changed to '\\$', except the first char itself.  \n",
    "*Sample String* : 'restart'  \n",
    "*Expected Result*: 'resta$t' "
   ]
  },
  {
   "cell_type": "code",
   "execution_count": 3,
   "metadata": {},
   "outputs": [
    {
     "name": "stdout",
     "output_type": "stream",
     "text": [
      "what are the t$o types of rivers$?\n"
     ]
    }
   ],
   "source": [
    "str1 = 'what are the two types of rivers?'\n",
    "str2 = str1[0] + str1[1:].replace(str1[0], '$')\n",
    "print(str2)"
   ]
  },
  {
   "cell_type": "markdown",
   "metadata": {},
   "source": [
    "2) Write a Python program to add 'ing' at the end of a given string (length should be at least 3).  \n",
    "If the given string is already ends with 'ing' then add 'ly' instead.  \n",
    "If the string length of the given string is less than 3, leave it unchanged.  \n",
    "*Sample String* : 'abc'  \n",
    "*Expected Result* : 'abcing'  \n",
    "*Sample String* : 'string'  \n",
    "*Expected Result* : 'stringly'  "
   ]
  },
  {
   "cell_type": "code",
   "execution_count": 3,
   "metadata": {},
   "outputs": [
    {
     "name": "stdout",
     "output_type": "stream",
     "text": [
      "Hi\n"
     ]
    }
   ],
   "source": [
    "#str1 = 'scoring'\n",
    "#str1 = 'detect'\n",
    "str1 = 'Hi'\n",
    "if len(str1) >= 3:\n",
    "    if \"ing\" in str1 :\n",
    "        str2 = str1 + \"ly\"\n",
    "    else:\n",
    "        str2 = str1 + \"ing\"\n",
    "else:\n",
    "    str2 = str1\n",
    "print(str2)"
   ]
  },
  {
   "cell_type": "markdown",
   "metadata": {},
   "source": [
    "3) Write a Python program to test whether an input is an integer."
   ]
  },
  {
   "cell_type": "code",
   "execution_count": 21,
   "metadata": {},
   "outputs": [
    {
     "name": "stdout",
     "output_type": "stream",
     "text": [
      "a is an integer!\n"
     ]
    }
   ],
   "source": [
    "#a = 4.6\n",
    "a = 15\n",
    "#if a == int(a):\n",
    "#if isinstance(a, int):\n",
    "if type(a) == int:\n",
    "    print(\"a is an integer!\")\n",
    "else:\n",
    "    print(\"a is not an integer\")\n",
    "    "
   ]
  },
  {
   "cell_type": "markdown",
   "metadata": {},
   "source": [
    "4) Write a program that print a given string containing multiple words in back order.  \n",
    "*Sample string* : 'My name is Ann'  \n",
    "*Expected Result* : 'Ann is name My'  "
   ]
  },
  {
   "cell_type": "code",
   "execution_count": 5,
   "metadata": {},
   "outputs": [
    {
     "name": "stdout",
     "output_type": "stream",
     "text": [
      "Ann is name My\n"
     ]
    }
   ],
   "source": [
    "str1 = 'My name is Ann'\n",
    "words = str1.split()\n",
    "reversed_str1_words = [words[-i] for i in range(1, len(words) + 1)]\n",
    "print(\" \".join(reversed_str1_words))"
   ]
  },
  {
   "cell_type": "markdown",
   "metadata": {},
   "source": [
    "5) Create a program that asks the user for a number and then prints out a list of all the divisors of that number. "
   ]
  },
  {
   "cell_type": "code",
   "execution_count": 8,
   "metadata": {},
   "outputs": [
    {
     "name": "stdout",
     "output_type": "stream",
     "text": [
      "49\n",
      "[1, 7, 49]\n"
     ]
    }
   ],
   "source": [
    "number = int(input())\n",
    "#number = 50\n",
    "divisors = [i for i in range(1, number + 1) if number % i == 0]\n",
    "print(divisors)"
   ]
  }
 ],
 "metadata": {
  "kernelspec": {
   "display_name": "Python 3",
   "language": "python",
   "name": "python3"
  },
  "language_info": {
   "codemirror_mode": {
    "name": "ipython",
    "version": 3
   },
   "file_extension": ".py",
   "mimetype": "text/x-python",
   "name": "python",
   "nbconvert_exporter": "python",
   "pygments_lexer": "ipython3",
   "version": "3.7.4"
  }
 },
 "nbformat": 4,
 "nbformat_minor": 2
}
