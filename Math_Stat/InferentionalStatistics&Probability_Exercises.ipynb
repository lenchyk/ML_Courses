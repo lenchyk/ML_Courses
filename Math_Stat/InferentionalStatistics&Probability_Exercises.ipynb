{
 "cells": [
  {
   "cell_type": "markdown",
   "metadata": {},
   "source": [
    "### Binomial distrubution"
   ]
  },
  {
   "cell_type": "markdown",
   "metadata": {},
   "source": [
    "Find $P(k\\ge20)$ for $n=40$, $p=0.25$."
   ]
  },
  {
   "cell_type": "code",
   "execution_count": 2,
   "metadata": {},
   "outputs": [],
   "source": [
    "from scipy.stats import binom"
   ]
  },
  {
   "cell_type": "code",
   "execution_count": 9,
   "metadata": {},
   "outputs": [
    {
     "name": "stdout",
     "output_type": "stream",
     "text": [
      "0.0005724311071760857\n",
      "0.0005724311071761385\n"
     ]
    }
   ],
   "source": [
    "n, k, p = 40, 20, 0.25\n",
    "# binom.cdf(x<=19, n=40, p=0.25)\n",
    "prob1 = 1 - binom.cdf(k - 1, n, p)\n",
    "prob2 = binom.sf(k - 1, n, p)\n",
    "print(prob1)\n",
    "print(prob2)"
   ]
  },
  {
   "cell_type": "markdown",
   "metadata": {},
   "source": [
    "### Central Limit Theorem"
   ]
  },
  {
   "cell_type": "markdown",
   "metadata": {},
   "source": [
    "1) Genarate 200 samples of size 50 from Uniform distribution with parameters a=0, b=10;  \n",
    "2) Find mean of each sample;  \n",
    "3) Draw histogram of sample means;  \n",
    "4) What is a shape of distribution we've got?  \n",
    "5) Calculate average of sample means. How far is it to the population mean?  \n",
    "6) Find standart deviation of means of generated samples. What is standard deviation value according to CLT (not connected with generated samples)?  "
   ]
  },
  {
   "cell_type": "code",
   "execution_count": null,
   "metadata": {},
   "outputs": [],
   "source": [
    "sample = []"
   ]
  },
  {
   "cell_type": "markdown",
   "metadata": {},
   "source": [
    "### Confidence intervals"
   ]
  },
  {
   "cell_type": "markdown",
   "metadata": {},
   "source": [
    "Read data from **train.csv** \n",
    "\n",
    "1) Calculate 95% confidence interval for average SalePrice of houses built in 1990  \n",
    "2) Calculate 98% confidence interval for proportion of houses sold in 2009 with Gas-A heating  \n",
    "3) Find confidence interval for the difference between two population means of house sale price with garage for two cars and for one. Is this difference statistically significant? Make a conclusion."
   ]
  },
  {
   "cell_type": "code",
   "execution_count": null,
   "metadata": {},
   "outputs": [],
   "source": []
  }
 ],
 "metadata": {
  "kernelspec": {
   "display_name": "Python 3",
   "language": "python",
   "name": "python3"
  },
  "language_info": {
   "codemirror_mode": {
    "name": "ipython",
    "version": 3
   },
   "file_extension": ".py",
   "mimetype": "text/x-python",
   "name": "python",
   "nbconvert_exporter": "python",
   "pygments_lexer": "ipython3",
   "version": "3.7.4"
  }
 },
 "nbformat": 4,
 "nbformat_minor": 2
}
