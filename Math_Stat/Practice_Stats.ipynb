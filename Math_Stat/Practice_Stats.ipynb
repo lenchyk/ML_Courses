{
 "cells": [
  {
   "cell_type": "markdown",
   "metadata": {},
   "source": [
    "### Your task:"
   ]
  },
  {
   "cell_type": "markdown",
   "metadata": {},
   "source": [
    "- Read data from **train.csv**  \n",
    "Form new dataset from rows (houses) with high OverallQual (8,9,10) and following columns:  \n",
    "'LotArea', 'YearBuilt', 'LotShape', 'HouseStyle', 'OverallCond', 'Heating', 'KitchenQual',   \n",
    "'Functional', 'YearRemodAdd', 'GarageCars', 'GarageArea', 'GarageQual','GarageFinish','PoolArea',  \n",
    " 'SalePrice'"
   ]
  },
  {
   "cell_type": "markdown",
   "metadata": {},
   "source": [
    "\n",
    "1) Find averages (mean, mode, median), standard deviation, skew and kurtosis for 3 numerical columns (your choice);  \n",
    "comment the results  \n",
    "2) Draw histograms, boxplots for data from chosen columns   \n",
    "3) Provide _**log**_ transformation for columns with skewness > 1 and plot histograms for scaled data;  \n",
    "compare histograms before and after transformation  \n",
    "4) Find mode for all nominal columns (create a table); plot bar charts for any two of them  \n",
    "5) Create new column which groups LotArea into 3 bins: Small, Medium, Large (your choise for thresholds);  \n",
    "draw scatter plot to show dependency between SalePrice, YearRemodAdd colored by Small/Medium/Large groups  \n",
    "6) Draw graph to show changes of average SalePrice grouped by YearBuilt  \n",
    "7) Draw box-plots of SalePrice grouped by OverallCond score  "
   ]
  },
  {
   "cell_type": "markdown",
   "metadata": {},
   "source": [
    "- Provide in-depth analysis of the dataset (find as many insights in data as possible ;))"
   ]
  },
  {
   "cell_type": "code",
   "execution_count": 2,
   "metadata": {},
   "outputs": [],
   "source": [
    "import pandas as pd\n",
    "import matplotlib.pyplot as plt\n",
    "import seaborn as sns"
   ]
  },
  {
   "cell_type": "code",
   "execution_count": 3,
   "metadata": {},
   "outputs": [],
   "source": [
    "# reading train.csv\n",
    "data = pd.read_csv(\"train.csv\")"
   ]
  },
  {
   "cell_type": "code",
   "execution_count": 4,
   "metadata": {},
   "outputs": [
    {
     "data": {
      "text/html": [
       "<div>\n",
       "<style scoped>\n",
       "    .dataframe tbody tr th:only-of-type {\n",
       "        vertical-align: middle;\n",
       "    }\n",
       "\n",
       "    .dataframe tbody tr th {\n",
       "        vertical-align: top;\n",
       "    }\n",
       "\n",
       "    .dataframe thead th {\n",
       "        text-align: right;\n",
       "    }\n",
       "</style>\n",
       "<table border=\"1\" class=\"dataframe\">\n",
       "  <thead>\n",
       "    <tr style=\"text-align: right;\">\n",
       "      <th></th>\n",
       "      <th>LotArea</th>\n",
       "      <th>OverallQual</th>\n",
       "      <th>YearBuilt</th>\n",
       "      <th>LotShape</th>\n",
       "      <th>HouseStyle</th>\n",
       "      <th>OverallCond</th>\n",
       "      <th>Heating</th>\n",
       "      <th>KitchenQual</th>\n",
       "      <th>Functional</th>\n",
       "      <th>YearRemodAdd</th>\n",
       "      <th>GarageCars</th>\n",
       "      <th>GarageArea</th>\n",
       "      <th>GarageQual</th>\n",
       "      <th>GarageFinish</th>\n",
       "      <th>PoolArea</th>\n",
       "      <th>SalePrice</th>\n",
       "    </tr>\n",
       "  </thead>\n",
       "  <tbody>\n",
       "    <tr>\n",
       "      <th>4</th>\n",
       "      <td>14260</td>\n",
       "      <td>8</td>\n",
       "      <td>2000</td>\n",
       "      <td>IR1</td>\n",
       "      <td>2Story</td>\n",
       "      <td>5</td>\n",
       "      <td>GasA</td>\n",
       "      <td>Gd</td>\n",
       "      <td>Typ</td>\n",
       "      <td>2000</td>\n",
       "      <td>3</td>\n",
       "      <td>836</td>\n",
       "      <td>TA</td>\n",
       "      <td>RFn</td>\n",
       "      <td>0</td>\n",
       "      <td>250000</td>\n",
       "    </tr>\n",
       "    <tr>\n",
       "      <th>6</th>\n",
       "      <td>10084</td>\n",
       "      <td>8</td>\n",
       "      <td>2004</td>\n",
       "      <td>Reg</td>\n",
       "      <td>1Story</td>\n",
       "      <td>5</td>\n",
       "      <td>GasA</td>\n",
       "      <td>Gd</td>\n",
       "      <td>Typ</td>\n",
       "      <td>2005</td>\n",
       "      <td>2</td>\n",
       "      <td>636</td>\n",
       "      <td>TA</td>\n",
       "      <td>RFn</td>\n",
       "      <td>0</td>\n",
       "      <td>307000</td>\n",
       "    </tr>\n",
       "    <tr>\n",
       "      <th>11</th>\n",
       "      <td>11924</td>\n",
       "      <td>9</td>\n",
       "      <td>2005</td>\n",
       "      <td>IR1</td>\n",
       "      <td>2Story</td>\n",
       "      <td>5</td>\n",
       "      <td>GasA</td>\n",
       "      <td>Ex</td>\n",
       "      <td>Typ</td>\n",
       "      <td>2006</td>\n",
       "      <td>3</td>\n",
       "      <td>736</td>\n",
       "      <td>TA</td>\n",
       "      <td>Fin</td>\n",
       "      <td>0</td>\n",
       "      <td>345000</td>\n",
       "    </tr>\n",
       "    <tr>\n",
       "      <th>20</th>\n",
       "      <td>14215</td>\n",
       "      <td>8</td>\n",
       "      <td>2005</td>\n",
       "      <td>IR1</td>\n",
       "      <td>2Story</td>\n",
       "      <td>5</td>\n",
       "      <td>GasA</td>\n",
       "      <td>Gd</td>\n",
       "      <td>Typ</td>\n",
       "      <td>2006</td>\n",
       "      <td>3</td>\n",
       "      <td>853</td>\n",
       "      <td>TA</td>\n",
       "      <td>RFn</td>\n",
       "      <td>0</td>\n",
       "      <td>325300</td>\n",
       "    </tr>\n",
       "    <tr>\n",
       "      <th>22</th>\n",
       "      <td>9742</td>\n",
       "      <td>8</td>\n",
       "      <td>2002</td>\n",
       "      <td>Reg</td>\n",
       "      <td>1Story</td>\n",
       "      <td>5</td>\n",
       "      <td>GasA</td>\n",
       "      <td>Gd</td>\n",
       "      <td>Typ</td>\n",
       "      <td>2002</td>\n",
       "      <td>2</td>\n",
       "      <td>534</td>\n",
       "      <td>TA</td>\n",
       "      <td>RFn</td>\n",
       "      <td>0</td>\n",
       "      <td>230000</td>\n",
       "    </tr>\n",
       "    <tr>\n",
       "      <th>...</th>\n",
       "      <td>...</td>\n",
       "      <td>...</td>\n",
       "      <td>...</td>\n",
       "      <td>...</td>\n",
       "      <td>...</td>\n",
       "      <td>...</td>\n",
       "      <td>...</td>\n",
       "      <td>...</td>\n",
       "      <td>...</td>\n",
       "      <td>...</td>\n",
       "      <td>...</td>\n",
       "      <td>...</td>\n",
       "      <td>...</td>\n",
       "      <td>...</td>\n",
       "      <td>...</td>\n",
       "      <td>...</td>\n",
       "    </tr>\n",
       "    <tr>\n",
       "      <th>1417</th>\n",
       "      <td>16545</td>\n",
       "      <td>8</td>\n",
       "      <td>1998</td>\n",
       "      <td>IR1</td>\n",
       "      <td>2Story</td>\n",
       "      <td>5</td>\n",
       "      <td>GasA</td>\n",
       "      <td>Gd</td>\n",
       "      <td>Typ</td>\n",
       "      <td>1998</td>\n",
       "      <td>3</td>\n",
       "      <td>1069</td>\n",
       "      <td>TA</td>\n",
       "      <td>Fin</td>\n",
       "      <td>0</td>\n",
       "      <td>340000</td>\n",
       "    </tr>\n",
       "    <tr>\n",
       "      <th>1437</th>\n",
       "      <td>12444</td>\n",
       "      <td>8</td>\n",
       "      <td>2008</td>\n",
       "      <td>Reg</td>\n",
       "      <td>1Story</td>\n",
       "      <td>5</td>\n",
       "      <td>GasA</td>\n",
       "      <td>Ex</td>\n",
       "      <td>Typ</td>\n",
       "      <td>2008</td>\n",
       "      <td>3</td>\n",
       "      <td>774</td>\n",
       "      <td>TA</td>\n",
       "      <td>Fin</td>\n",
       "      <td>0</td>\n",
       "      <td>394617</td>\n",
       "    </tr>\n",
       "    <tr>\n",
       "      <th>1442</th>\n",
       "      <td>11003</td>\n",
       "      <td>10</td>\n",
       "      <td>2008</td>\n",
       "      <td>Reg</td>\n",
       "      <td>2Story</td>\n",
       "      <td>5</td>\n",
       "      <td>GasA</td>\n",
       "      <td>Ex</td>\n",
       "      <td>Typ</td>\n",
       "      <td>2008</td>\n",
       "      <td>3</td>\n",
       "      <td>812</td>\n",
       "      <td>TA</td>\n",
       "      <td>Fin</td>\n",
       "      <td>0</td>\n",
       "      <td>310000</td>\n",
       "    </tr>\n",
       "    <tr>\n",
       "      <th>1447</th>\n",
       "      <td>10000</td>\n",
       "      <td>8</td>\n",
       "      <td>1995</td>\n",
       "      <td>Reg</td>\n",
       "      <td>2Story</td>\n",
       "      <td>5</td>\n",
       "      <td>GasA</td>\n",
       "      <td>Gd</td>\n",
       "      <td>Typ</td>\n",
       "      <td>1996</td>\n",
       "      <td>2</td>\n",
       "      <td>556</td>\n",
       "      <td>TA</td>\n",
       "      <td>RFn</td>\n",
       "      <td>0</td>\n",
       "      <td>240000</td>\n",
       "    </tr>\n",
       "    <tr>\n",
       "      <th>1451</th>\n",
       "      <td>9262</td>\n",
       "      <td>8</td>\n",
       "      <td>2008</td>\n",
       "      <td>Reg</td>\n",
       "      <td>1Story</td>\n",
       "      <td>5</td>\n",
       "      <td>GasA</td>\n",
       "      <td>Ex</td>\n",
       "      <td>Typ</td>\n",
       "      <td>2009</td>\n",
       "      <td>3</td>\n",
       "      <td>840</td>\n",
       "      <td>TA</td>\n",
       "      <td>Fin</td>\n",
       "      <td>0</td>\n",
       "      <td>287090</td>\n",
       "    </tr>\n",
       "  </tbody>\n",
       "</table>\n",
       "<p>229 rows × 16 columns</p>\n",
       "</div>"
      ],
      "text/plain": [
       "      LotArea  OverallQual  YearBuilt LotShape HouseStyle  OverallCond  \\\n",
       "4       14260            8       2000      IR1     2Story            5   \n",
       "6       10084            8       2004      Reg     1Story            5   \n",
       "11      11924            9       2005      IR1     2Story            5   \n",
       "20      14215            8       2005      IR1     2Story            5   \n",
       "22       9742            8       2002      Reg     1Story            5   \n",
       "...       ...          ...        ...      ...        ...          ...   \n",
       "1417    16545            8       1998      IR1     2Story            5   \n",
       "1437    12444            8       2008      Reg     1Story            5   \n",
       "1442    11003           10       2008      Reg     2Story            5   \n",
       "1447    10000            8       1995      Reg     2Story            5   \n",
       "1451     9262            8       2008      Reg     1Story            5   \n",
       "\n",
       "     Heating KitchenQual Functional  YearRemodAdd  GarageCars  GarageArea  \\\n",
       "4       GasA          Gd        Typ          2000           3         836   \n",
       "6       GasA          Gd        Typ          2005           2         636   \n",
       "11      GasA          Ex        Typ          2006           3         736   \n",
       "20      GasA          Gd        Typ          2006           3         853   \n",
       "22      GasA          Gd        Typ          2002           2         534   \n",
       "...      ...         ...        ...           ...         ...         ...   \n",
       "1417    GasA          Gd        Typ          1998           3        1069   \n",
       "1437    GasA          Ex        Typ          2008           3         774   \n",
       "1442    GasA          Ex        Typ          2008           3         812   \n",
       "1447    GasA          Gd        Typ          1996           2         556   \n",
       "1451    GasA          Ex        Typ          2009           3         840   \n",
       "\n",
       "     GarageQual GarageFinish  PoolArea  SalePrice  \n",
       "4            TA          RFn         0     250000  \n",
       "6            TA          RFn         0     307000  \n",
       "11           TA          Fin         0     345000  \n",
       "20           TA          RFn         0     325300  \n",
       "22           TA          RFn         0     230000  \n",
       "...         ...          ...       ...        ...  \n",
       "1417         TA          Fin         0     340000  \n",
       "1437         TA          Fin         0     394617  \n",
       "1442         TA          Fin         0     310000  \n",
       "1447         TA          RFn         0     240000  \n",
       "1451         TA          Fin         0     287090  \n",
       "\n",
       "[229 rows x 16 columns]"
      ]
     },
     "execution_count": 4,
     "metadata": {},
     "output_type": "execute_result"
    }
   ],
   "source": [
    "# forming new dataset with specific features\n",
    "data_set = pd.DataFrame(data[data.OverallQual >= 8], columns=['LotArea', 'OverallQual', \n",
    "'YearBuilt', 'LotShape', 'HouseStyle', 'OverallCond', 'Heating', 'KitchenQual',\n",
    "'Functional', 'YearRemodAdd', 'GarageCars', 'GarageArea', 'GarageQual','GarageFinish',\n",
    "'PoolArea', 'SalePrice'])\n",
    "data_set"
   ]
  },
  {
   "cell_type": "code",
   "execution_count": 7,
   "metadata": {},
   "outputs": [
    {
     "data": {
      "text/plain": [
       "63887"
      ]
     },
     "execution_count": 7,
     "metadata": {},
     "output_type": "execute_result"
    }
   ],
   "source": [
    "analyze_3 = data_set[[\"LotArea\", \"YearBuilt\", \"SalePrice\"]]\n",
    "data_set.LotArea.max()"
   ]
  },
  {
   "cell_type": "code",
   "execution_count": 37,
   "metadata": {},
   "outputs": [
    {
     "data": {
      "text/plain": [
       "LotArea       12228.576419\n",
       "YearBuilt      1997.991266\n",
       "SalePrice    305035.899563\n",
       "dtype: float64"
      ]
     },
     "execution_count": 37,
     "metadata": {},
     "output_type": "execute_result"
    }
   ],
   "source": [
    "# mean value \n",
    "analyze_3.mean()"
   ]
  },
  {
   "cell_type": "code",
   "execution_count": 38,
   "metadata": {},
   "outputs": [
    {
     "data": {
      "text/plain": [
       "LotArea       11362.0\n",
       "YearBuilt      2004.0\n",
       "SalePrice    285000.0\n",
       "dtype: float64"
      ]
     },
     "execution_count": 38,
     "metadata": {},
     "output_type": "execute_result"
    }
   ],
   "source": [
    "# median\n",
    "analyze_3.median()"
   ]
  },
  {
   "cell_type": "code",
   "execution_count": 39,
   "metadata": {},
   "outputs": [
    {
     "data": {
      "text/html": [
       "<div>\n",
       "<style scoped>\n",
       "    .dataframe tbody tr th:only-of-type {\n",
       "        vertical-align: middle;\n",
       "    }\n",
       "\n",
       "    .dataframe tbody tr th {\n",
       "        vertical-align: top;\n",
       "    }\n",
       "\n",
       "    .dataframe thead th {\n",
       "        text-align: right;\n",
       "    }\n",
       "</style>\n",
       "<table border=\"1\" class=\"dataframe\">\n",
       "  <thead>\n",
       "    <tr style=\"text-align: right;\">\n",
       "      <th></th>\n",
       "      <th>LotArea</th>\n",
       "      <th>YearBuilt</th>\n",
       "      <th>SalePrice</th>\n",
       "    </tr>\n",
       "  </thead>\n",
       "  <tbody>\n",
       "    <tr>\n",
       "      <th>0</th>\n",
       "      <td>9000.0</td>\n",
       "      <td>2006.0</td>\n",
       "      <td>275000</td>\n",
       "    </tr>\n",
       "    <tr>\n",
       "      <th>1</th>\n",
       "      <td>NaN</td>\n",
       "      <td>NaN</td>\n",
       "      <td>290000</td>\n",
       "    </tr>\n",
       "    <tr>\n",
       "      <th>2</th>\n",
       "      <td>NaN</td>\n",
       "      <td>NaN</td>\n",
       "      <td>315000</td>\n",
       "    </tr>\n",
       "    <tr>\n",
       "      <th>3</th>\n",
       "      <td>NaN</td>\n",
       "      <td>NaN</td>\n",
       "      <td>325000</td>\n",
       "    </tr>\n",
       "  </tbody>\n",
       "</table>\n",
       "</div>"
      ],
      "text/plain": [
       "   LotArea  YearBuilt  SalePrice\n",
       "0   9000.0     2006.0     275000\n",
       "1      NaN        NaN     290000\n",
       "2      NaN        NaN     315000\n",
       "3      NaN        NaN     325000"
      ]
     },
     "execution_count": 39,
     "metadata": {},
     "output_type": "execute_result"
    }
   ],
   "source": [
    "# mode\n",
    "analyze_3.mode()"
   ]
  },
  {
   "cell_type": "markdown",
   "metadata": {},
   "source": [
    "### Mean:\n",
    "In the average all houses were built in the 1997 (+-1y) year with LotArea ~12228.5 sq. feet\n",
    "and sale price ~305036 (Uah/Usd?).\n",
    "### Median:\n",
    "We see that median house is the house built in 2004 with lot area of 11362.0 sq. feet and sale price of 285000.0 dollars.\n",
    "### Mode:\n",
    "Most of the houses were built in 2006. And their lot area is 9000 sq.f.\n",
    "Interestingly that this dataset has four mode values for SalePrice column. And this is correct!\n"
   ]
  },
  {
   "cell_type": "code",
   "execution_count": 40,
   "metadata": {},
   "outputs": [
    {
     "data": {
      "text/plain": [
       "LotArea       7049.946574\n",
       "YearBuilt       20.427448\n",
       "SalePrice    94509.488446\n",
       "dtype: float64"
      ]
     },
     "execution_count": 40,
     "metadata": {},
     "output_type": "execute_result"
    }
   ],
   "source": [
    "# standard deviation (the difference from the mean value)\n",
    "analyze_3.std()"
   ]
  },
  {
   "cell_type": "code",
   "execution_count": 126,
   "metadata": {},
   "outputs": [
    {
     "data": {
      "text/plain": [
       "4.194497264920147"
      ]
     },
     "execution_count": 126,
     "metadata": {},
     "output_type": "execute_result"
    }
   ],
   "source": [
    "# skewness, or in other words assymetry (positive - skewness tail to the right\n",
    "# and negative - tail to the left)\n",
    "analyze_3.skew()\n",
    "analyze_3.LotArea.skew()"
   ]
  },
  {
   "cell_type": "code",
   "execution_count": 42,
   "metadata": {},
   "outputs": [
    {
     "data": {
      "text/plain": [
       "LotArea      23.548107\n",
       "YearBuilt    18.344215\n",
       "SalePrice     4.383314\n",
       "dtype: float64"
      ]
     },
     "execution_count": 42,
     "metadata": {},
     "output_type": "execute_result"
    }
   ],
   "source": [
    "# kurtosis - the highest (positive) or the lowest (negative) slope (normal distribution = 0)\n",
    "# the more the number is, the better results are \n",
    "analyze_3.kurt()"
   ]
  },
  {
   "cell_type": "markdown",
   "metadata": {},
   "source": [
    "### Visualizations"
   ]
  },
  {
   "cell_type": "code",
   "execution_count": 85,
   "metadata": {},
   "outputs": [
    {
     "data": {
      "image/png": "[encoded data removed]",
      "text/plain": [
       "<Figure size 1440x1440 with 3 Axes>"
      ]
     },
     "metadata": {
      "needs_background": "light"
     },
     "output_type": "display_data"
    }
   ],
   "source": [
    "# histogram\n",
    "figure = plt.figure(figsize=(20, 20))\n",
    "ax1 = figure.add_subplot(231)\n",
    "ax1.hist(analyze[\"YearBuilt\"], bins=20, rwidth=0.90, color=\"yellow\", edgecolor=\"black\")\n",
    "ax1.set_title('YearBuilt', fontsize=20)\n",
    "ax2 = figure.add_subplot(232)\n",
    "ax2.hist(analyze[\"SalePrice\"], bins=20, rwidth=0.90, color=\"violet\", edgecolor=\"black\")\n",
    "ax2.set_title('SalePrice', fontsize=20)\n",
    "ax3 = figure.add_subplot(233)\n",
    "ax3.hist(analyze[\"LotArea\"], bins=20, rwidth=0.90, color=\"green\", edgecolor=\"black\")\n",
    "ax3.set_title('LotArea', fontsize=20)\n",
    "ax1.grid()\n",
    "ax2.grid()\n",
    "ax3.grid()\n",
    "plt.show()"
   ]
  },
  {
   "cell_type": "code",
   "execution_count": 111,
   "metadata": {},
   "outputs": [
    {
     "data": {
      "image/png": "[encoded data removed]",
      "text/plain": [
       "<Figure size 432x720 with 1 Axes>"
      ]
     },
     "metadata": {
      "needs_background": "light"
     },
     "output_type": "display_data"
    }
   ],
   "source": [
    "# boxplots\n",
    "figure = plt.figure(figsize=(6, 10))\n",
    "ax = sns.boxplot(analyze_3.LotArea, orient=\"vertical\", color='g')\n",
    "ax.set_title(\"LotArea boxplot\")\n",
    "plt.show()"
   ]
  },
  {
   "cell_type": "code",
   "execution_count": 112,
   "metadata": {},
   "outputs": [
    {
     "data": {
      "image/png": "[encoded data removed]",
      "text/plain": [
       "<Figure size 432x720 with 1 Axes>"
      ]
     },
     "metadata": {
      "needs_background": "light"
     },
     "output_type": "display_data"
    }
   ],
   "source": [
    "figure = plt.figure(figsize=(6, 10))\n",
    "ax = sns.boxplot(analyze_3.SalePrice, orient=\"vertical\", color='violet')\n",
    "ax.set_title(\"SalePrice boxplot\")\n",
    "plt.show()"
   ]
  },
  {
   "cell_type": "code",
   "execution_count": 113,
   "metadata": {},
   "outputs": [
    {
     "data": {
      "image/png": "[encoded data removed]",
      "text/plain": [
       "<Figure size 432x720 with 1 Axes>"
      ]
     },
     "metadata": {
      "needs_background": "light"
     },
     "output_type": "display_data"
    }
   ],
   "source": [
    "figure = plt.figure(figsize=(6, 10))\n",
    "ax = sns.boxplot(analyze_3.YearBuilt, orient=\"vertical\", color='yellow')\n",
    "ax.set_title(\"YearBuilt boxplot\")\n",
    "plt.show()"
   ]
  },
  {
   "cell_type": "markdown",
   "metadata": {},
   "source": [
    "### Log transformation"
   ]
  },
  {
   "cell_type": "code",
   "execution_count": 137,
   "metadata": {},
   "outputs": [
    {
     "data": {
      "text/html": [
       "<div>\n",
       "<style scoped>\n",
       "    .dataframe tbody tr th:only-of-type {\n",
       "        vertical-align: middle;\n",
       "    }\n",
       "\n",
       "    .dataframe tbody tr th {\n",
       "        vertical-align: top;\n",
       "    }\n",
       "\n",
       "    .dataframe thead th {\n",
       "        text-align: right;\n",
       "    }\n",
       "</style>\n",
       "<table border=\"1\" class=\"dataframe\">\n",
       "  <thead>\n",
       "    <tr style=\"text-align: right;\">\n",
       "      <th></th>\n",
       "      <th>LotArea</th>\n",
       "      <th>SalePrice</th>\n",
       "    </tr>\n",
       "  </thead>\n",
       "  <tbody>\n",
       "    <tr>\n",
       "      <th>4</th>\n",
       "      <td>14260</td>\n",
       "      <td>250000</td>\n",
       "    </tr>\n",
       "    <tr>\n",
       "      <th>6</th>\n",
       "      <td>10084</td>\n",
       "      <td>307000</td>\n",
       "    </tr>\n",
       "    <tr>\n",
       "      <th>11</th>\n",
       "      <td>11924</td>\n",
       "      <td>345000</td>\n",
       "    </tr>\n",
       "    <tr>\n",
       "      <th>20</th>\n",
       "      <td>14215</td>\n",
       "      <td>325300</td>\n",
       "    </tr>\n",
       "    <tr>\n",
       "      <th>22</th>\n",
       "      <td>9742</td>\n",
       "      <td>230000</td>\n",
       "    </tr>\n",
       "    <tr>\n",
       "      <th>...</th>\n",
       "      <td>...</td>\n",
       "      <td>...</td>\n",
       "    </tr>\n",
       "    <tr>\n",
       "      <th>1417</th>\n",
       "      <td>16545</td>\n",
       "      <td>340000</td>\n",
       "    </tr>\n",
       "    <tr>\n",
       "      <th>1437</th>\n",
       "      <td>12444</td>\n",
       "      <td>394617</td>\n",
       "    </tr>\n",
       "    <tr>\n",
       "      <th>1442</th>\n",
       "      <td>11003</td>\n",
       "      <td>310000</td>\n",
       "    </tr>\n",
       "    <tr>\n",
       "      <th>1447</th>\n",
       "      <td>10000</td>\n",
       "      <td>240000</td>\n",
       "    </tr>\n",
       "    <tr>\n",
       "      <th>1451</th>\n",
       "      <td>9262</td>\n",
       "      <td>287090</td>\n",
       "    </tr>\n",
       "  </tbody>\n",
       "</table>\n",
       "<p>229 rows × 2 columns</p>\n",
       "</div>"
      ],
      "text/plain": [
       "      LotArea  SalePrice\n",
       "4       14260     250000\n",
       "6       10084     307000\n",
       "11      11924     345000\n",
       "20      14215     325300\n",
       "22       9742     230000\n",
       "...       ...        ...\n",
       "1417    16545     340000\n",
       "1437    12444     394617\n",
       "1442    11003     310000\n",
       "1447    10000     240000\n",
       "1451     9262     287090\n",
       "\n",
       "[229 rows x 2 columns]"
      ]
     },
     "execution_count": 137,
     "metadata": {},
     "output_type": "execute_result"
    }
   ],
   "source": [
    "import numpy as np\n",
    "# selecting the columns with skew > 1\n",
    "data_set2 = analyze_3[[i for i in analyze_3.columns if analyze_3[i].skew() > 1]]\n",
    "data_set2"
   ]
  },
  {
   "cell_type": "code",
   "execution_count": 141,
   "metadata": {},
   "outputs": [
    {
     "data": {
      "text/html": [
       "<div>\n",
       "<style scoped>\n",
       "    .dataframe tbody tr th:only-of-type {\n",
       "        vertical-align: middle;\n",
       "    }\n",
       "\n",
       "    .dataframe tbody tr th {\n",
       "        vertical-align: top;\n",
       "    }\n",
       "\n",
       "    .dataframe thead th {\n",
       "        text-align: right;\n",
       "    }\n",
       "</style>\n",
       "<table border=\"1\" class=\"dataframe\">\n",
       "  <thead>\n",
       "    <tr style=\"text-align: right;\">\n",
       "      <th></th>\n",
       "      <th>LotArea</th>\n",
       "      <th>SalePrice</th>\n",
       "    </tr>\n",
       "  </thead>\n",
       "  <tbody>\n",
       "    <tr>\n",
       "      <th>4</th>\n",
       "      <td>9.565214</td>\n",
       "      <td>12.429216</td>\n",
       "    </tr>\n",
       "    <tr>\n",
       "      <th>6</th>\n",
       "      <td>9.218705</td>\n",
       "      <td>12.634603</td>\n",
       "    </tr>\n",
       "    <tr>\n",
       "      <th>11</th>\n",
       "      <td>9.386308</td>\n",
       "      <td>12.751300</td>\n",
       "    </tr>\n",
       "    <tr>\n",
       "      <th>20</th>\n",
       "      <td>9.562053</td>\n",
       "      <td>12.692503</td>\n",
       "    </tr>\n",
       "    <tr>\n",
       "      <th>22</th>\n",
       "      <td>9.184202</td>\n",
       "      <td>12.345835</td>\n",
       "    </tr>\n",
       "    <tr>\n",
       "      <th>...</th>\n",
       "      <td>...</td>\n",
       "      <td>...</td>\n",
       "    </tr>\n",
       "    <tr>\n",
       "      <th>1417</th>\n",
       "      <td>9.713839</td>\n",
       "      <td>12.736701</td>\n",
       "    </tr>\n",
       "    <tr>\n",
       "      <th>1437</th>\n",
       "      <td>9.428994</td>\n",
       "      <td>12.885671</td>\n",
       "    </tr>\n",
       "    <tr>\n",
       "      <th>1442</th>\n",
       "      <td>9.305923</td>\n",
       "      <td>12.644328</td>\n",
       "    </tr>\n",
       "    <tr>\n",
       "      <th>1447</th>\n",
       "      <td>9.210340</td>\n",
       "      <td>12.388394</td>\n",
       "    </tr>\n",
       "    <tr>\n",
       "      <th>1451</th>\n",
       "      <td>9.133675</td>\n",
       "      <td>12.567551</td>\n",
       "    </tr>\n",
       "  </tbody>\n",
       "</table>\n",
       "<p>229 rows × 2 columns</p>\n",
       "</div>"
      ],
      "text/plain": [
       "       LotArea  SalePrice\n",
       "4     9.565214  12.429216\n",
       "6     9.218705  12.634603\n",
       "11    9.386308  12.751300\n",
       "20    9.562053  12.692503\n",
       "22    9.184202  12.345835\n",
       "...        ...        ...\n",
       "1417  9.713839  12.736701\n",
       "1437  9.428994  12.885671\n",
       "1442  9.305923  12.644328\n",
       "1447  9.210340  12.388394\n",
       "1451  9.133675  12.567551\n",
       "\n",
       "[229 rows x 2 columns]"
      ]
     },
     "execution_count": 141,
     "metadata": {},
     "output_type": "execute_result"
    }
   ],
   "source": [
    "data_set_log = data_set2.apply(np.log)\n",
    "data_set_log"
   ]
  },
  {
   "cell_type": "code",
   "execution_count": 145,
   "metadata": {},
   "outputs": [
    {
     "data": {
      "image/png": "[encoded data removed]",
      "text/plain": [
       "<Figure size 1440x1440 with 2 Axes>"
      ]
     },
     "metadata": {
      "needs_background": "light"
     },
     "output_type": "display_data"
    }
   ],
   "source": [
    "figure = plt.figure(figsize=(20, 20))\n",
    "ax1 = figure.add_subplot(231)\n",
    "ax1.hist(data_set2[\"LotArea\"], bins=20, rwidth=0.90, color=\"yellow\", edgecolor=\"black\")\n",
    "ax1.set_title('LotArea Before', fontsize=20)\n",
    "ax2 = figure.add_subplot(232)\n",
    "ax2.hist(data_set_log[\"LotArea\"], bins=20, rwidth=0.90, color=\"violet\", edgecolor=\"black\")\n",
    "ax2.set_title('LotArea After', fontsize=20)\n",
    "plt.show()"
   ]
  },
  {
   "cell_type": "code",
   "execution_count": 146,
   "metadata": {},
   "outputs": [
    {
     "data": {
      "image/png": "[encoded data removed]",
      "text/plain": [
       "<Figure size 1440x1440 with 2 Axes>"
      ]
     },
     "metadata": {
      "needs_background": "light"
     },
     "output_type": "display_data"
    }
   ],
   "source": [
    "figure = plt.figure(figsize=(20, 20))\n",
    "ax1 = figure.add_subplot(231)\n",
    "ax1.hist(data_set2[\"SalePrice\"], bins=20, rwidth=0.90, color=\"yellow\", edgecolor=\"black\")\n",
    "ax1.set_title('SalePrice Before', fontsize=20)\n",
    "ax2 = figure.add_subplot(232)\n",
    "ax2.hist(data_set_log[\"SalePrice\"], bins=20, rwidth=0.90, color=\"violet\", edgecolor=\"black\")\n",
    "ax2.set_title('SalePrice After', fontsize=20)\n",
    "plt.show()"
   ]
  },
  {
   "cell_type": "code",
   "execution_count": 4,
   "metadata": {},
   "outputs": [
    {
     "data": {
      "text/html": [
       "<div>\n",
       "<style scoped>\n",
       "    .dataframe tbody tr th:only-of-type {\n",
       "        vertical-align: middle;\n",
       "    }\n",
       "\n",
       "    .dataframe tbody tr th {\n",
       "        vertical-align: top;\n",
       "    }\n",
       "\n",
       "    .dataframe thead th {\n",
       "        text-align: right;\n",
       "    }\n",
       "</style>\n",
       "<table border=\"1\" class=\"dataframe\">\n",
       "  <thead>\n",
       "    <tr style=\"text-align: right;\">\n",
       "      <th></th>\n",
       "      <th>LotShape</th>\n",
       "      <th>HouseStyle</th>\n",
       "      <th>Heating</th>\n",
       "      <th>KitchenQual</th>\n",
       "      <th>Functional</th>\n",
       "      <th>GarageQual</th>\n",
       "      <th>GarageFinish</th>\n",
       "    </tr>\n",
       "  </thead>\n",
       "  <tbody>\n",
       "    <tr>\n",
       "      <th>4</th>\n",
       "      <td>IR1</td>\n",
       "      <td>2Story</td>\n",
       "      <td>GasA</td>\n",
       "      <td>Gd</td>\n",
       "      <td>Typ</td>\n",
       "      <td>TA</td>\n",
       "      <td>RFn</td>\n",
       "    </tr>\n",
       "    <tr>\n",
       "      <th>6</th>\n",
       "      <td>Reg</td>\n",
       "      <td>1Story</td>\n",
       "      <td>GasA</td>\n",
       "      <td>Gd</td>\n",
       "      <td>Typ</td>\n",
       "      <td>TA</td>\n",
       "      <td>RFn</td>\n",
       "    </tr>\n",
       "    <tr>\n",
       "      <th>11</th>\n",
       "      <td>IR1</td>\n",
       "      <td>2Story</td>\n",
       "      <td>GasA</td>\n",
       "      <td>Ex</td>\n",
       "      <td>Typ</td>\n",
       "      <td>TA</td>\n",
       "      <td>Fin</td>\n",
       "    </tr>\n",
       "    <tr>\n",
       "      <th>20</th>\n",
       "      <td>IR1</td>\n",
       "      <td>2Story</td>\n",
       "      <td>GasA</td>\n",
       "      <td>Gd</td>\n",
       "      <td>Typ</td>\n",
       "      <td>TA</td>\n",
       "      <td>RFn</td>\n",
       "    </tr>\n",
       "    <tr>\n",
       "      <th>22</th>\n",
       "      <td>Reg</td>\n",
       "      <td>1Story</td>\n",
       "      <td>GasA</td>\n",
       "      <td>Gd</td>\n",
       "      <td>Typ</td>\n",
       "      <td>TA</td>\n",
       "      <td>RFn</td>\n",
       "    </tr>\n",
       "    <tr>\n",
       "      <th>...</th>\n",
       "      <td>...</td>\n",
       "      <td>...</td>\n",
       "      <td>...</td>\n",
       "      <td>...</td>\n",
       "      <td>...</td>\n",
       "      <td>...</td>\n",
       "      <td>...</td>\n",
       "    </tr>\n",
       "    <tr>\n",
       "      <th>1417</th>\n",
       "      <td>IR1</td>\n",
       "      <td>2Story</td>\n",
       "      <td>GasA</td>\n",
       "      <td>Gd</td>\n",
       "      <td>Typ</td>\n",
       "      <td>TA</td>\n",
       "      <td>Fin</td>\n",
       "    </tr>\n",
       "    <tr>\n",
       "      <th>1437</th>\n",
       "      <td>Reg</td>\n",
       "      <td>1Story</td>\n",
       "      <td>GasA</td>\n",
       "      <td>Ex</td>\n",
       "      <td>Typ</td>\n",
       "      <td>TA</td>\n",
       "      <td>Fin</td>\n",
       "    </tr>\n",
       "    <tr>\n",
       "      <th>1442</th>\n",
       "      <td>Reg</td>\n",
       "      <td>2Story</td>\n",
       "      <td>GasA</td>\n",
       "      <td>Ex</td>\n",
       "      <td>Typ</td>\n",
       "      <td>TA</td>\n",
       "      <td>Fin</td>\n",
       "    </tr>\n",
       "    <tr>\n",
       "      <th>1447</th>\n",
       "      <td>Reg</td>\n",
       "      <td>2Story</td>\n",
       "      <td>GasA</td>\n",
       "      <td>Gd</td>\n",
       "      <td>Typ</td>\n",
       "      <td>TA</td>\n",
       "      <td>RFn</td>\n",
       "    </tr>\n",
       "    <tr>\n",
       "      <th>1451</th>\n",
       "      <td>Reg</td>\n",
       "      <td>1Story</td>\n",
       "      <td>GasA</td>\n",
       "      <td>Ex</td>\n",
       "      <td>Typ</td>\n",
       "      <td>TA</td>\n",
       "      <td>Fin</td>\n",
       "    </tr>\n",
       "  </tbody>\n",
       "</table>\n",
       "<p>229 rows × 7 columns</p>\n",
       "</div>"
      ],
      "text/plain": [
       "     LotShape HouseStyle Heating KitchenQual Functional GarageQual  \\\n",
       "4         IR1     2Story    GasA          Gd        Typ         TA   \n",
       "6         Reg     1Story    GasA          Gd        Typ         TA   \n",
       "11        IR1     2Story    GasA          Ex        Typ         TA   \n",
       "20        IR1     2Story    GasA          Gd        Typ         TA   \n",
       "22        Reg     1Story    GasA          Gd        Typ         TA   \n",
       "...       ...        ...     ...         ...        ...        ...   \n",
       "1417      IR1     2Story    GasA          Gd        Typ         TA   \n",
       "1437      Reg     1Story    GasA          Ex        Typ         TA   \n",
       "1442      Reg     2Story    GasA          Ex        Typ         TA   \n",
       "1447      Reg     2Story    GasA          Gd        Typ         TA   \n",
       "1451      Reg     1Story    GasA          Ex        Typ         TA   \n",
       "\n",
       "     GarageFinish  \n",
       "4             RFn  \n",
       "6             RFn  \n",
       "11            Fin  \n",
       "20            RFn  \n",
       "22            RFn  \n",
       "...           ...  \n",
       "1417          Fin  \n",
       "1437          Fin  \n",
       "1442          Fin  \n",
       "1447          RFn  \n",
       "1451          Fin  \n",
       "\n",
       "[229 rows x 7 columns]"
      ]
     },
     "execution_count": 4,
     "metadata": {},
     "output_type": "execute_result"
    }
   ],
   "source": [
    "# selecting only string type - nominal columns\n",
    "df = data_set.select_dtypes(include=[\"object\"])\n",
    "df"
   ]
  },
  {
   "cell_type": "code",
   "execution_count": 5,
   "metadata": {},
   "outputs": [
    {
     "data": {
      "text/html": [
       "<div>\n",
       "<style scoped>\n",
       "    .dataframe tbody tr th:only-of-type {\n",
       "        vertical-align: middle;\n",
       "    }\n",
       "\n",
       "    .dataframe tbody tr th {\n",
       "        vertical-align: top;\n",
       "    }\n",
       "\n",
       "    .dataframe thead th {\n",
       "        text-align: right;\n",
       "    }\n",
       "</style>\n",
       "<table border=\"1\" class=\"dataframe\">\n",
       "  <thead>\n",
       "    <tr style=\"text-align: right;\">\n",
       "      <th></th>\n",
       "      <th>LotShape</th>\n",
       "      <th>HouseStyle</th>\n",
       "      <th>Heating</th>\n",
       "      <th>KitchenQual</th>\n",
       "      <th>Functional</th>\n",
       "      <th>GarageQual</th>\n",
       "      <th>GarageFinish</th>\n",
       "    </tr>\n",
       "  </thead>\n",
       "  <tbody>\n",
       "    <tr>\n",
       "      <th>0</th>\n",
       "      <td>Reg</td>\n",
       "      <td>1Story</td>\n",
       "      <td>GasA</td>\n",
       "      <td>Gd</td>\n",
       "      <td>Typ</td>\n",
       "      <td>TA</td>\n",
       "      <td>Fin</td>\n",
       "    </tr>\n",
       "  </tbody>\n",
       "</table>\n",
       "</div>"
      ],
      "text/plain": [
       "  LotShape HouseStyle Heating KitchenQual Functional GarageQual GarageFinish\n",
       "0      Reg     1Story    GasA          Gd        Typ         TA          Fin"
      ]
     },
     "execution_count": 5,
     "metadata": {},
     "output_type": "execute_result"
    }
   ],
   "source": [
    "mode_df = df.mode()\n",
    "mode_df"
   ]
  },
  {
   "cell_type": "code",
   "execution_count": 168,
   "metadata": {},
   "outputs": [
    {
     "data": {
      "image/png": "[encoded data removed]",
      "text/plain": [
       "<Figure size 432x288 with 1 Axes>"
      ]
     },
     "metadata": {},
     "output_type": "display_data"
    }
   ],
   "source": [
    "# bar plot for LotShape feature\n",
    "sns.set()\n",
    "sns.countplot(x='LotShape', data=df)\n",
    "plt.title('LotShape Bar Chart')\n",
    "plt.show()"
   ]
  },
  {
   "cell_type": "code",
   "execution_count": 169,
   "metadata": {},
   "outputs": [
    {
     "data": {
      "image/png": "[encoded data removed]",
      "text/plain": [
       "<Figure size 432x288 with 1 Axes>"
      ]
     },
     "metadata": {},
     "output_type": "display_data"
    }
   ],
   "source": [
    "# bar plot for HouseStyle\n",
    "sns.set()\n",
    "sns.countplot(x='HouseStyle', data=df)\n",
    "plt.title(\"HouseStyle Bar Chart\")\n",
    "plt.show()"
   ]
  },
  {
   "cell_type": "code",
   "execution_count": 8,
   "metadata": {},
   "outputs": [],
   "source": [
    "data_set[\"LotAreaClass\"] = data_set.apply(lambda row: \"Small\" if ((row.LotArea>=2645) & (row.LotArea <= 15000))\n",
    "                                          else (\"Medium\" if ((row.LotArea>15000) & (row.LotArea <= 35000))\n",
    "                                          else \"Large\"), axis=1) "
   ]
  },
  {
   "cell_type": "code",
   "execution_count": 15,
   "metadata": {},
   "outputs": [
    {
     "data": {
      "image/png": "[encoded data removed]",
      "text/plain": [
       "<Figure size 720x576 with 1 Axes>"
      ]
     },
     "metadata": {},
     "output_type": "display_data"
    }
   ],
   "source": [
    "sns.set()\n",
    "figure = plt.figure(figsize=(10,8))\n",
    "ax = sns.scatterplot('YearRemodAdd', 'SalePrice', hue='LotAreaClass', \n",
    "                      data=data_set, palette='OrRd',  legend='full')\n",
    "plt.xlabel(\"YearRemodAdd\")\n",
    "plt.ylabel(\"SalePrice\")\n",
    "plt.title(\"Scatter plot with LotAreaClass\")\n",
    "plt.show()"
   ]
  },
  {
   "cell_type": "code",
   "execution_count": 26,
   "metadata": {},
   "outputs": [
    {
     "data": {
      "image/png": "[encoded data removed]",
      "text/plain": [
       "<Figure size 864x576 with 1 Axes>"
      ]
     },
     "metadata": {
      "needs_background": "light"
     },
     "output_type": "display_data"
    }
   ],
   "source": [
    "df = data_set[[\"SalePrice\", \"YearBuilt\"]].groupby(\"YearBuilt\").mean()\n",
    "df.plot(figsize=(12, 8))\n",
    "plt.grid()\n",
    "#plt.show()"
   ]
  },
  {
   "cell_type": "code",
   "execution_count": 51,
   "metadata": {},
   "outputs": [
    {
     "data": {
      "image/png": "[encoded data removed]",
      "text/plain": [
       "<Figure size 576x432 with 1 Axes>"
      ]
     },
     "metadata": {
      "needs_background": "light"
     },
     "output_type": "display_data"
    }
   ],
   "source": [
    "figure = plt.figure(figsize=(8,6))\n",
    "ax = sns.boxplot(x='OverallCond', y=\"SalePrice\", data=data[['OverallCond', 'SalePrice']])\n",
    "plt.title('SalePrice Boxplots by OverallCond')\n",
    "plt.show()\n"
   ]
  },
  {
   "cell_type": "code",
   "execution_count": null,
   "metadata": {},
   "outputs": [],
   "source": []
  }
 ],
 "metadata": {
  "kernelspec": {
   "display_name": "Python 3",
   "language": "python",
   "name": "python3"
  },
  "language_info": {
   "codemirror_mode": {
    "name": "ipython",
    "version": 3
   },
   "file_extension": ".py",
   "mimetype": "text/x-python",
   "name": "python",
   "nbconvert_exporter": "python",
   "pygments_lexer": "ipython3",
   "version": "3.7.4"
  }
 },
 "nbformat": 4,
 "nbformat_minor": 2
}
