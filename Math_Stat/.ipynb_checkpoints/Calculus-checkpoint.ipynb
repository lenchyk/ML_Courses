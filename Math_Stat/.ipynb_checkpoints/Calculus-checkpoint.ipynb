{
 "cells": [
  {
   "cell_type": "code",
   "execution_count": 1,
   "metadata": {
    "colab": {},
    "colab_type": "code",
    "id": "vcmjEhF3NmuL"
   },
   "outputs": [],
   "source": [
    "import matplotlib.pyplot as plt\n",
    "import math\n",
    "from scipy.optimize import minimize\n",
    "import numpy as np\n",
    "\n",
    "%matplotlib inline"
   ]
  },
  {
   "cell_type": "markdown",
   "metadata": {
    "colab_type": "text",
    "id": "Cbj3m2KzNmuT"
   },
   "source": [
    "### Problem 1\n",
    "1) Find an extrema of the function $f(x)=0.25x^4-x^3+2$ analitically.  \n",
    "2) In order to check the solution draw the graph.  \n",
    "3) Use *scipy.optimize.minimize* to find minima starting from point $x=-1.5$ (set the parameter *method* = BFGS). Is it good solution of the problem? Why?  \n",
    "4) Change initial point by $x=1.5$. Is this result better?"
   ]
  },
  {
   "cell_type": "code",
   "execution_count": 2,
   "metadata": {
    "colab": {},
    "colab_type": "code",
    "id": "ur4Pxp92NmuV"
   },
   "outputs": [],
   "source": [
    "def f(x):\n",
    "    return (0.25*x**4-x**3+2)"
   ]
  },
  {
   "cell_type": "code",
   "execution_count": 3,
   "metadata": {
    "colab": {},
    "colab_type": "code",
    "id": "PZsxagWqNmua"
   },
   "outputs": [],
   "source": [
    "inputs = [x for x in np.arange(-2, 4, 0.01)]\n",
    "y = [f(x) for x in inputs]"
   ]
  },
  {
   "cell_type": "code",
   "execution_count": 4,
   "metadata": {
    "colab": {},
    "colab_type": "code",
    "id": "6bUirm4kNmue"
   },
   "outputs": [
    {
     "data": {
      "image/png": "[encoded data removed]",
      "text/plain": [
       "<Figure size 432x288 with 1 Axes>"
      ]
     },
     "metadata": {
      "needs_background": "light"
     },
     "output_type": "display_data"
    }
   ],
   "source": [
    "plt.plot(inputs, y)\n",
    "plt.grid()\n",
    "plt.xlabel('x')\n",
    "plt.ylabel('y')\n",
    "plt.show()"
   ]
  },
  {
   "cell_type": "code",
   "execution_count": 5,
   "metadata": {
    "colab": {},
    "colab_type": "code",
    "id": "TbYawGBCNmuk"
   },
   "outputs": [
    {
     "data": {
      "text/plain": [
       "      fun: 2.0000000021683753\n",
       " hess_inv: array([[60.73492039]])\n",
       "      jac: array([-5.03659248e-06])\n",
       "  message: 'Optimization terminated successfully.'\n",
       "     nfev: 45\n",
       "      nit: 14\n",
       "     njev: 15\n",
       "   status: 0\n",
       "  success: True\n",
       "        x: array([-0.00129419])"
      ]
     },
     "execution_count": 5,
     "metadata": {},
     "output_type": "execute_result"
    }
   ],
   "source": [
    "minimize(f, -1.5, method=\"BFGS\")"
   ]
  },
  {
   "cell_type": "code",
   "execution_count": 6,
   "metadata": {
    "colab": {},
    "colab_type": "code",
    "id": "gLRtRxJ6Nmun"
   },
   "outputs": [
    {
     "data": {
      "text/plain": [
       "      fun: -4.7499999999999964\n",
       " hess_inv: array([[0.11116603]])\n",
       "      jac: array([-2.38418579e-07])\n",
       "  message: 'Optimization terminated successfully.'\n",
       "     nfev: 24\n",
       "      nit: 4\n",
       "     njev: 8\n",
       "   status: 0\n",
       "  success: True\n",
       "        x: array([2.99999997])"
      ]
     },
     "execution_count": 6,
     "metadata": {},
     "output_type": "execute_result"
    }
   ],
   "source": [
    "minimize(f, 1.5, method=\"BFGS\")"
   ]
  },
  {
   "cell_type": "markdown",
   "metadata": {
    "colab_type": "text",
    "id": "b1s8wSwvNmur"
   },
   "source": [
    "### Problem 2\n",
    "1) Find the gradient of the function $z(x,y)=e^y(x^2+y^2+2x-7)$.  \n",
    "2) Implement the gradient descent algorithm by hand. Check how it works."
   ]
  },
  {
   "cell_type": "code",
   "execution_count": 7,
   "metadata": {
    "colab": {},
    "colab_type": "code",
    "id": "BVErkRSANmut"
   },
   "outputs": [],
   "source": [
    "def func(x,y):\n",
    "    return (math.exp(y)*(x**2+y**2+2*x-7))"
   ]
  },
  {
   "cell_type": "code",
   "execution_count": 8,
   "metadata": {
    "colab": {},
    "colab_type": "code",
    "id": "RJiHjO-7Nmuw"
   },
   "outputs": [
    {
     "data": {
      "text/plain": [
       "-4.0"
      ]
     },
     "execution_count": 8,
     "metadata": {},
     "output_type": "execute_result"
    }
   ],
   "source": [
    "func(1,0)"
   ]
  },
  {
   "cell_type": "code",
   "execution_count": 9,
   "metadata": {
    "colab": {},
    "colab_type": "code",
    "id": "9UEdiLAHNmu0"
   },
   "outputs": [],
   "source": [
    "def grad(x,y):\n",
    "    return math.exp(y)*(2*x+2), math.exp(y)*(x**2+y**2+2*x+2*y-7)"
   ]
  },
  {
   "cell_type": "code",
   "execution_count": 10,
   "metadata": {
    "colab": {},
    "colab_type": "code",
    "id": "pVAxG2BVNmu3"
   },
   "outputs": [
    {
     "data": {
      "text/plain": [
       "(0.0, 0.0)"
      ]
     },
     "execution_count": 10,
     "metadata": {},
     "output_type": "execute_result"
    }
   ],
   "source": [
    "grad(-1,2) # check the validity"
   ]
  },
  {
   "cell_type": "code",
   "execution_count": 11,
   "metadata": {
    "colab": {},
    "colab_type": "code",
    "id": "lgc6oCXrNmu7"
   },
   "outputs": [],
   "source": [
    "def GD(initial, alpha, diff):\n",
    "    x_prev, y_prev = initial[0], initial[1]\n",
    "    error = diff + 1\n",
    "    n_iter = 0\n",
    "    while error > diff:\n",
    "        x_next, y_next = x_prev - alpha*grad(x_prev, y_prev)[0], y_prev - alpha*grad(x_prev, y_prev)[1]\n",
    "        error = abs(func(x_next, y_next) - func(x_prev, y_prev))\n",
    "        x_prev, y_prev = x_next, y_next\n",
    "        n_iter += 1\n",
    "    return [x_prev, y_prev], func(x_prev, y_prev), n_iter"
   ]
  },
  {
   "cell_type": "code",
   "execution_count": 12,
   "metadata": {
    "colab": {},
    "colab_type": "code",
    "id": "svhcg352Nmu-"
   },
   "outputs": [
    {
     "name": "stdout",
     "output_type": "stream",
     "text": [
      "Point of minimum:  (-1.01, 2.0) \n",
      "Min =  -29.56 \n",
      "N iterations =  32\n"
     ]
    }
   ],
   "source": [
    "result = GD([-2,3], 0.01, 0.0001)\n",
    "print (\"Point of minimum: \", (round(result[0][0],2), round(result[0][1],2)), \n",
    "       \"\\nMin = \", round(result[1],2), \"\\nN iterations = \", result[2])"
   ]
  },
  {
   "cell_type": "markdown",
   "metadata": {},
   "source": [
    "### Derivatives"
   ]
  },
  {
   "cell_type": "code",
   "execution_count": 13,
   "metadata": {
    "colab": {},
    "colab_type": "code",
    "id": "9TGhF6JWdaXD"
   },
   "outputs": [
    {
     "ename": "ModuleNotFoundError",
     "evalue": "No module named 'sympy'",
     "output_type": "error",
     "traceback": [
      "\u001b[0;31m---------------------------------------------------------------------------\u001b[0m",
      "\u001b[0;31mModuleNotFoundError\u001b[0m                       Traceback (most recent call last)",
      "\u001b[0;32m<ipython-input-13-a03f9816da30>\u001b[0m in \u001b[0;36m<module>\u001b[0;34m\u001b[0m\n\u001b[0;32m----> 1\u001b[0;31m \u001b[0;32mfrom\u001b[0m \u001b[0msympy\u001b[0m \u001b[0;32mimport\u001b[0m \u001b[0;34m*\u001b[0m\u001b[0;34m\u001b[0m\u001b[0;34m\u001b[0m\u001b[0m\n\u001b[0m",
      "\u001b[0;31mModuleNotFoundError\u001b[0m: No module named 'sympy'"
     ]
    }
   ],
   "source": [
    "from sympy import *"
   ]
  },
  {
   "cell_type": "code",
   "execution_count": null,
   "metadata": {},
   "outputs": [],
   "source": [
    "x = Symbol('x')\n",
    "y = x**2 + exp(x**2)\n",
    "y_der = y.diff(x)\n",
    "y_der"
   ]
  },
  {
   "cell_type": "code",
   "execution_count": null,
   "metadata": {},
   "outputs": [],
   "source": [
    "x = Symbol('x')\n",
    "y = Symbol('y')\n",
    "z = exp(y)*(x**2 + y**2 +2*x -7)\n",
    "z_der_x = z.diff(x)\n",
    "z_der_y = z.diff(y)\n",
    "print(z_der_x)\n",
    "print(z_der_y)"
   ]
  },
  {
   "cell_type": "code",
   "execution_count": null,
   "metadata": {},
   "outputs": [],
   "source": [
    "z_der_x.evalf(subs={x: 3, y: 2})"
   ]
  },
  {
   "cell_type": "markdown",
   "metadata": {
    "colab_type": "text",
    "id": "PbNqGzqSavom"
   },
   "source": [
    "### Exercise"
   ]
  },
  {
   "cell_type": "markdown",
   "metadata": {
    "colab_type": "text",
    "id": "i32lhBaabch2"
   },
   "source": [
    "Find derivative of function $f(x)=x^4+ln(x)-3x+1$ by hand and plot graphs for $x\\in[0,2]$ of both derivative and the function itself"
   ]
  },
  {
   "cell_type": "code",
   "execution_count": null,
   "metadata": {
    "colab": {},
    "colab_type": "code",
    "id": "Kyfbw7zSbvik"
   },
   "outputs": [],
   "source": [
    "# your code here"
   ]
  }
 ],
 "metadata": {
  "colab": {
   "collapsed_sections": [],
   "name": "Problems_1_2.ipynb",
   "provenance": []
  },
  "kernelspec": {
   "display_name": "Python 3",
   "language": "python",
   "name": "python3"
  },
  "language_info": {
   "codemirror_mode": {
    "name": "ipython",
    "version": 3
   },
   "file_extension": ".py",
   "mimetype": "text/x-python",
   "name": "python",
   "nbconvert_exporter": "python",
   "pygments_lexer": "ipython3",
   "version": "3.7.4"
  }
 },
 "nbformat": 4,
 "nbformat_minor": 1
}
