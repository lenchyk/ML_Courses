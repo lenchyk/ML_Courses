{
 "cells": [
  {
   "cell_type": "code",
   "execution_count": 1,
   "metadata": {
    "colab": {},
    "colab_type": "code",
    "id": "wdTLDs-XFlHQ"
   },
   "outputs": [],
   "source": [
    "import numpy as np\n",
    "import math\n",
    "import matplotlib.pyplot as plt"
   ]
  },
  {
   "cell_type": "markdown",
   "metadata": {
    "colab_type": "text",
    "id": "gty4cNo4FlHd"
   },
   "source": [
    "### Vectors"
   ]
  },
  {
   "cell_type": "code",
   "execution_count": 2,
   "metadata": {
    "colab": {},
    "colab_type": "code",
    "id": "3xLtPWbsFlHh"
   },
   "outputs": [],
   "source": [
    "a = np.array([1,-2,4])\n",
    "b = np.array([0,1,2.4])"
   ]
  },
  {
   "cell_type": "code",
   "execution_count": 3,
   "metadata": {
    "colab": {
     "base_uri": "https://localhost:8080/",
     "height": 35
    },
    "colab_type": "code",
    "executionInfo": {
     "elapsed": 775,
     "status": "ok",
     "timestamp": 1569949154466,
     "user": {
      "displayName": "Tetiana Manzhos",
      "photoUrl": "https://lh3.googleusercontent.com/a-/AAuE7mCH7sNu-aYldQzAYLU9qyboTDhM5gfGAMjUJM8AoQ=s64",
      "userId": "11032964286053787838"
     },
     "user_tz": -180
    },
    "id": "qeKzIrUnFlHq",
    "outputId": "a1f437ae-eb66-4667-fff2-52fb17ac5ebb"
   },
   "outputs": [
    {
     "name": "stdout",
     "output_type": "stream",
     "text": [
      "[ 1 -2  4]\n"
     ]
    }
   ],
   "source": [
    "print(a)"
   ]
  },
  {
   "cell_type": "code",
   "execution_count": 4,
   "metadata": {
    "colab": {
     "base_uri": "https://localhost:8080/",
     "height": 35
    },
    "colab_type": "code",
    "executionInfo": {
     "elapsed": 630,
     "status": "ok",
     "timestamp": 1569949163448,
     "user": {
      "displayName": "Tetiana Manzhos",
      "photoUrl": "https://lh3.googleusercontent.com/a-/AAuE7mCH7sNu-aYldQzAYLU9qyboTDhM5gfGAMjUJM8AoQ=s64",
      "userId": "11032964286053787838"
     },
     "user_tz": -180
    },
    "id": "1BIbSqKnFlH0",
    "outputId": "7a1cb6b8-fd3f-49c4-d44d-e07da0d2cea8"
   },
   "outputs": [
    {
     "data": {
      "text/plain": [
       "4.58257569495584"
      ]
     },
     "execution_count": 4,
     "metadata": {},
     "output_type": "execute_result"
    }
   ],
   "source": [
    "# The magnitude of a\n",
    "np.linalg.norm(a)"
   ]
  },
  {
   "cell_type": "code",
   "execution_count": 5,
   "metadata": {
    "colab": {},
    "colab_type": "code",
    "id": "AUwTLS7kFlH7"
   },
   "outputs": [],
   "source": [
    "def direction_cosines(a):\n",
    "    return a/np.linalg.norm(a)"
   ]
  },
  {
   "cell_type": "code",
   "execution_count": 6,
   "metadata": {
    "colab": {},
    "colab_type": "code",
    "id": "6lR78E04FlIA"
   },
   "outputs": [],
   "source": [
    "def angles_with_axes(a):\n",
    "    return np.array([math.degrees(math.acos(x)) for x in direction_cosines(a)])"
   ]
  },
  {
   "cell_type": "code",
   "execution_count": 7,
   "metadata": {
    "colab": {
     "base_uri": "https://localhost:8080/",
     "height": 35
    },
    "colab_type": "code",
    "executionInfo": {
     "elapsed": 847,
     "status": "ok",
     "timestamp": 1569949201351,
     "user": {
      "displayName": "Tetiana Manzhos",
      "photoUrl": "https://lh3.googleusercontent.com/a-/AAuE7mCH7sNu-aYldQzAYLU9qyboTDhM5gfGAMjUJM8AoQ=s64",
      "userId": "11032964286053787838"
     },
     "user_tz": -180
    },
    "id": "kzsTDe1GFlIF",
    "outputId": "34888352-c11a-450e-8d95-e6590d87c258"
   },
   "outputs": [
    {
     "data": {
      "text/plain": [
       "array([ 0.21821789, -0.43643578,  0.87287156])"
      ]
     },
     "execution_count": 7,
     "metadata": {},
     "output_type": "execute_result"
    }
   ],
   "source": [
    "direction_cosines(a)"
   ]
  },
  {
   "cell_type": "code",
   "execution_count": 8,
   "metadata": {
    "colab": {
     "base_uri": "https://localhost:8080/",
     "height": 35
    },
    "colab_type": "code",
    "executionInfo": {
     "elapsed": 595,
     "status": "ok",
     "timestamp": 1569949209751,
     "user": {
      "displayName": "Tetiana Manzhos",
      "photoUrl": "https://lh3.googleusercontent.com/a-/AAuE7mCH7sNu-aYldQzAYLU9qyboTDhM5gfGAMjUJM8AoQ=s64",
      "userId": "11032964286053787838"
     },
     "user_tz": -180
    },
    "id": "PFAtINXrFlIJ",
    "outputId": "1078b386-b9a6-4924-c56e-a60b3958bd8d"
   },
   "outputs": [
    {
     "data": {
      "text/plain": [
       "array([ 77.39561735, 115.87669006,  29.20593225])"
      ]
     },
     "execution_count": 8,
     "metadata": {},
     "output_type": "execute_result"
    }
   ],
   "source": [
    "angles_with_axes(a)"
   ]
  },
  {
   "cell_type": "code",
   "execution_count": 9,
   "metadata": {
    "colab": {
     "base_uri": "https://localhost:8080/",
     "height": 35
    },
    "colab_type": "code",
    "executionInfo": {
     "elapsed": 576,
     "status": "ok",
     "timestamp": 1569949261653,
     "user": {
      "displayName": "Tetiana Manzhos",
      "photoUrl": "https://lh3.googleusercontent.com/a-/AAuE7mCH7sNu-aYldQzAYLU9qyboTDhM5gfGAMjUJM8AoQ=s64",
      "userId": "11032964286053787838"
     },
     "user_tz": -180
    },
    "id": "f4O2MZeYFlIN",
    "outputId": "798cc0bd-69d9-47b2-faac-41e41d757664"
   },
   "outputs": [
    {
     "data": {
      "text/plain": [
       "array([ 2.5, -5. , 10. ])"
      ]
     },
     "execution_count": 9,
     "metadata": {},
     "output_type": "execute_result"
    }
   ],
   "source": [
    "# multiplication by a scalar\n",
    "2.5 * a"
   ]
  },
  {
   "cell_type": "code",
   "execution_count": 10,
   "metadata": {
    "colab": {
     "base_uri": "https://localhost:8080/",
     "height": 35
    },
    "colab_type": "code",
    "executionInfo": {
     "elapsed": 626,
     "status": "ok",
     "timestamp": 1569949282635,
     "user": {
      "displayName": "Tetiana Manzhos",
      "photoUrl": "https://lh3.googleusercontent.com/a-/AAuE7mCH7sNu-aYldQzAYLU9qyboTDhM5gfGAMjUJM8AoQ=s64",
      "userId": "11032964286053787838"
     },
     "user_tz": -180
    },
    "id": "blBpB-qZFlIU",
    "outputId": "4fe880d9-bb5a-460b-ae20-241bd2e1375f"
   },
   "outputs": [
    {
     "data": {
      "text/plain": [
       "array([ 1. , -1. ,  6.4])"
      ]
     },
     "execution_count": 10,
     "metadata": {},
     "output_type": "execute_result"
    }
   ],
   "source": [
    "# vector addition\n",
    "a + b"
   ]
  },
  {
   "cell_type": "code",
   "execution_count": 11,
   "metadata": {
    "colab": {
     "base_uri": "https://localhost:8080/",
     "height": 35
    },
    "colab_type": "code",
    "executionInfo": {
     "elapsed": 854,
     "status": "ok",
     "timestamp": 1569949291120,
     "user": {
      "displayName": "Tetiana Manzhos",
      "photoUrl": "https://lh3.googleusercontent.com/a-/AAuE7mCH7sNu-aYldQzAYLU9qyboTDhM5gfGAMjUJM8AoQ=s64",
      "userId": "11032964286053787838"
     },
     "user_tz": -180
    },
    "id": "BNvoNyEsFlIZ",
    "outputId": "3ac54a58-96b2-43c1-be1e-7c2528aab6d3"
   },
   "outputs": [
    {
     "data": {
      "text/plain": [
       "array([ 1. , -3. ,  1.6])"
      ]
     },
     "execution_count": 11,
     "metadata": {},
     "output_type": "execute_result"
    }
   ],
   "source": [
    "# vector subtraction\n",
    "a - b"
   ]
  },
  {
   "cell_type": "code",
   "execution_count": 12,
   "metadata": {
    "colab": {
     "base_uri": "https://localhost:8080/",
     "height": 35
    },
    "colab_type": "code",
    "executionInfo": {
     "elapsed": 579,
     "status": "ok",
     "timestamp": 1569949298046,
     "user": {
      "displayName": "Tetiana Manzhos",
      "photoUrl": "https://lh3.googleusercontent.com/a-/AAuE7mCH7sNu-aYldQzAYLU9qyboTDhM5gfGAMjUJM8AoQ=s64",
      "userId": "11032964286053787838"
     },
     "user_tz": -180
    },
    "id": "ZPWYzP7hFlId",
    "outputId": "bd18f65a-e06d-4063-92fb-5ed3a10bb8b0"
   },
   "outputs": [
    {
     "data": {
      "text/plain": [
       "7.6"
      ]
     },
     "execution_count": 12,
     "metadata": {},
     "output_type": "execute_result"
    }
   ],
   "source": [
    "# dot product of a and b\n",
    "a.dot(b)"
   ]
  },
  {
   "cell_type": "code",
   "execution_count": 13,
   "metadata": {},
   "outputs": [
    {
     "data": {
      "text/plain": [
       "array([ 0. , -2. ,  9.6])"
      ]
     },
     "execution_count": 13,
     "metadata": {},
     "output_type": "execute_result"
    }
   ],
   "source": [
    "a * b"
   ]
  },
  {
   "cell_type": "markdown",
   "metadata": {
    "colab_type": "text",
    "id": "6mM8cIu7FlIh"
   },
   "source": [
    "### Metric space"
   ]
  },
  {
   "cell_type": "code",
   "execution_count": 14,
   "metadata": {
    "colab": {},
    "colab_type": "code",
    "id": "Dv1mrxv2FlIk"
   },
   "outputs": [
    {
     "ename": "ModuleNotFoundError",
     "evalue": "No module named 'scipy'",
     "output_type": "error",
     "traceback": [
      "\u001b[0;31m---------------------------------------------------------------------------\u001b[0m",
      "\u001b[0;31mModuleNotFoundError\u001b[0m                       Traceback (most recent call last)",
      "\u001b[0;32m<ipython-input-14-2f7c8290ad6e>\u001b[0m in \u001b[0;36m<module>\u001b[0;34m\u001b[0m\n\u001b[0;32m----> 1\u001b[0;31m \u001b[0;32mfrom\u001b[0m \u001b[0mscipy\u001b[0m\u001b[0;34m.\u001b[0m\u001b[0mspatial\u001b[0m \u001b[0;32mimport\u001b[0m \u001b[0mdistance\u001b[0m\u001b[0;34m\u001b[0m\u001b[0;34m\u001b[0m\u001b[0m\n\u001b[0m",
      "\u001b[0;31mModuleNotFoundError\u001b[0m: No module named 'scipy'"
     ]
    }
   ],
   "source": [
    "from scipy.spatial import distance"
   ]
  },
  {
   "cell_type": "code",
   "execution_count": null,
   "metadata": {
    "colab": {
     "base_uri": "https://localhost:8080/",
     "height": 35
    },
    "colab_type": "code",
    "executionInfo": {
     "elapsed": 692,
     "status": "ok",
     "timestamp": 1569949375928,
     "user": {
      "displayName": "Tetiana Manzhos",
      "photoUrl": "https://lh3.googleusercontent.com/a-/AAuE7mCH7sNu-aYldQzAYLU9qyboTDhM5gfGAMjUJM8AoQ=s64",
      "userId": "11032964286053787838"
     },
     "user_tz": -180
    },
    "id": "rxx1WFkvFlIn",
    "outputId": "ff001584-f2b9-4933-f5da-e056e7286842"
   },
   "outputs": [],
   "source": [
    "distance.euclidean(a,b)"
   ]
  },
  {
   "cell_type": "code",
   "execution_count": null,
   "metadata": {
    "colab": {
     "base_uri": "https://localhost:8080/",
     "height": 35
    },
    "colab_type": "code",
    "executionInfo": {
     "elapsed": 577,
     "status": "ok",
     "timestamp": 1569949415610,
     "user": {
      "displayName": "Tetiana Manzhos",
      "photoUrl": "https://lh3.googleusercontent.com/a-/AAuE7mCH7sNu-aYldQzAYLU9qyboTDhM5gfGAMjUJM8AoQ=s64",
      "userId": "11032964286053787838"
     },
     "user_tz": -180
    },
    "id": "nEYEgBPbFlIr",
    "outputId": "516f4587-e678-4c7b-9828-833a9fa04e9c"
   },
   "outputs": [],
   "source": [
    "distance.minkowski(a,b, p=1)"
   ]
  },
  {
   "cell_type": "code",
   "execution_count": null,
   "metadata": {},
   "outputs": [],
   "source": [
    "# 2D space example\n",
    "\n",
    "a = [3,5]\n",
    "b = [1,0]\n",
    "c = [3,2]\n",
    "names = ('A', 'B', 'C')\n",
    "Array = np.array([a,b,c]).T\n",
    "Array"
   ]
  },
  {
   "cell_type": "code",
   "execution_count": null,
   "metadata": {},
   "outputs": [],
   "source": [
    "import matplotlib.patches as patches\n",
    "\n",
    "plt.figure(figsize=(5,5))\n",
    "colors = np.array(['r', 'g', 'b'])\n",
    "categories = [0,1,2]\n",
    "plt.scatter(Array[0], Array[1], c=colors[categories])\n",
    "for i in range(Array.shape[1]):\n",
    "    plt.text(Array[0,i]-0.4, Array[1,i]-0.4, names[i], fontsize=12)\n",
    "\n",
    "# point neighborhood with euclidean metrics\n",
    "circle1 = plt.Circle(Array[:,2], 3, color='r', alpha=0.2)\n",
    "ax = plt.gca()\n",
    "ax.add_artist(circle1)\n",
    "\n",
    "# point neighborhood with manhattan metrics\n",
    "x = [3,6,3,0]\n",
    "y = [5,2,-1,2]\n",
    "ax.add_patch(patches.Polygon(xy=list(zip(x,y)), fill=True, alpha=0.2))\n",
    "\n",
    "plt.grid()\n",
    "plt.xlim([-1,6])\n",
    "plt.ylim([-1,6])\n",
    "plt.xlabel('x')\n",
    "plt.ylabel('y')\n",
    "plt.show()"
   ]
  },
  {
   "cell_type": "code",
   "execution_count": null,
   "metadata": {},
   "outputs": [],
   "source": [
    "distance.euclidean(a,c)"
   ]
  },
  {
   "cell_type": "code",
   "execution_count": null,
   "metadata": {},
   "outputs": [],
   "source": [
    "distance.euclidean(b,c)"
   ]
  },
  {
   "cell_type": "code",
   "execution_count": null,
   "metadata": {},
   "outputs": [],
   "source": [
    "distance.minkowski(a,c, p=1)"
   ]
  },
  {
   "cell_type": "code",
   "execution_count": null,
   "metadata": {},
   "outputs": [],
   "source": [
    "distance.minkowski(b,c, p=1)"
   ]
  },
  {
   "cell_type": "markdown",
   "metadata": {
    "colab_type": "text",
    "id": "CSIu2NAcFlIv"
   },
   "source": [
    "### Matrices"
   ]
  },
  {
   "cell_type": "code",
   "execution_count": null,
   "metadata": {
    "colab": {},
    "colab_type": "code",
    "id": "MwxpyB9fFlIw"
   },
   "outputs": [],
   "source": [
    "A = np.array([[1,2,3],[4,5,6],[-2,5,-6]])\n",
    "B = np.array([[2,4],[-4,6],[-1,0]])\n",
    "C = np.array([[-1,4,0],[8,-5,7],[-8,1,4]])"
   ]
  },
  {
   "cell_type": "code",
   "execution_count": null,
   "metadata": {
    "colab": {
     "base_uri": "https://localhost:8080/",
     "height": 69
    },
    "colab_type": "code",
    "executionInfo": {
     "elapsed": 1283,
     "status": "ok",
     "timestamp": 1569953901213,
     "user": {
      "displayName": "Tetiana Manzhos",
      "photoUrl": "https://lh3.googleusercontent.com/a-/AAuE7mCH7sNu-aYldQzAYLU9qyboTDhM5gfGAMjUJM8AoQ=s64",
      "userId": "11032964286053787838"
     },
     "user_tz": -180
    },
    "id": "bg0CMpLYFlI0",
    "outputId": "6972d766-933e-465f-fbe4-d7787beba636"
   },
   "outputs": [],
   "source": [
    "print(A)"
   ]
  },
  {
   "cell_type": "code",
   "execution_count": null,
   "metadata": {
    "colab": {
     "base_uri": "https://localhost:8080/",
     "height": 69
    },
    "colab_type": "code",
    "executionInfo": {
     "elapsed": 1155,
     "status": "ok",
     "timestamp": 1569953919812,
     "user": {
      "displayName": "Tetiana Manzhos",
      "photoUrl": "https://lh3.googleusercontent.com/a-/AAuE7mCH7sNu-aYldQzAYLU9qyboTDhM5gfGAMjUJM8AoQ=s64",
      "userId": "11032964286053787838"
     },
     "user_tz": -180
    },
    "id": "-P13H5sgFlI4",
    "outputId": "ac7974d6-3394-437a-d577-85eae749833f"
   },
   "outputs": [],
   "source": [
    "print(B)"
   ]
  },
  {
   "cell_type": "code",
   "execution_count": null,
   "metadata": {
    "colab": {},
    "colab_type": "code",
    "id": "ygi8u0_LFlI8"
   },
   "outputs": [],
   "source": [
    "print(C)"
   ]
  },
  {
   "cell_type": "code",
   "execution_count": null,
   "metadata": {
    "colab": {
     "base_uri": "https://localhost:8080/",
     "height": 69
    },
    "colab_type": "code",
    "executionInfo": {
     "elapsed": 1115,
     "status": "ok",
     "timestamp": 1569953944160,
     "user": {
      "displayName": "Tetiana Manzhos",
      "photoUrl": "https://lh3.googleusercontent.com/a-/AAuE7mCH7sNu-aYldQzAYLU9qyboTDhM5gfGAMjUJM8AoQ=s64",
      "userId": "11032964286053787838"
     },
     "user_tz": -180
    },
    "id": "B4AeK5QxFlJB",
    "outputId": "5edcbd66-abbd-4e2e-dab9-77147fa48188"
   },
   "outputs": [],
   "source": [
    "# indentity matrix\n",
    "np.eye(3)"
   ]
  },
  {
   "cell_type": "code",
   "execution_count": null,
   "metadata": {
    "colab": {
     "base_uri": "https://localhost:8080/",
     "height": 69
    },
    "colab_type": "code",
    "executionInfo": {
     "elapsed": 606,
     "status": "ok",
     "timestamp": 1569953962091,
     "user": {
      "displayName": "Tetiana Manzhos",
      "photoUrl": "https://lh3.googleusercontent.com/a-/AAuE7mCH7sNu-aYldQzAYLU9qyboTDhM5gfGAMjUJM8AoQ=s64",
      "userId": "11032964286053787838"
     },
     "user_tz": -180
    },
    "id": "4Mcbe82FFlJH",
    "outputId": "9e9411d2-6492-4e9d-861b-1806f53ab42e"
   },
   "outputs": [],
   "source": [
    "# diagonal matrix\n",
    "np.diag((1, 2, 3))"
   ]
  },
  {
   "cell_type": "code",
   "execution_count": null,
   "metadata": {
    "colab": {
     "base_uri": "https://localhost:8080/",
     "height": 35
    },
    "colab_type": "code",
    "executionInfo": {
     "elapsed": 608,
     "status": "ok",
     "timestamp": 1569953995283,
     "user": {
      "displayName": "Tetiana Manzhos",
      "photoUrl": "https://lh3.googleusercontent.com/a-/AAuE7mCH7sNu-aYldQzAYLU9qyboTDhM5gfGAMjUJM8AoQ=s64",
      "userId": "11032964286053787838"
     },
     "user_tz": -180
    },
    "id": "CP0CGt74FlJO",
    "outputId": "37be5af0-10fd-45a5-fe59-e015f26c2b76"
   },
   "outputs": [],
   "source": [
    "# determinant of square matrix\n",
    "np.linalg.det(C)"
   ]
  },
  {
   "cell_type": "code",
   "execution_count": null,
   "metadata": {
    "colab": {
     "base_uri": "https://localhost:8080/",
     "height": 69
    },
    "colab_type": "code",
    "executionInfo": {
     "elapsed": 605,
     "status": "ok",
     "timestamp": 1569954012993,
     "user": {
      "displayName": "Tetiana Manzhos",
      "photoUrl": "https://lh3.googleusercontent.com/a-/AAuE7mCH7sNu-aYldQzAYLU9qyboTDhM5gfGAMjUJM8AoQ=s64",
      "userId": "11032964286053787838"
     },
     "user_tz": -180
    },
    "id": "zsQuUnqJFlJR",
    "outputId": "baebd6d0-03c7-4673-9f4e-0bacf84b1cd2"
   },
   "outputs": [],
   "source": [
    "# multiplying of matrix by a scalar\n",
    "3 * A"
   ]
  },
  {
   "cell_type": "code",
   "execution_count": null,
   "metadata": {
    "colab": {
     "base_uri": "https://localhost:8080/",
     "height": 69
    },
    "colab_type": "code",
    "executionInfo": {
     "elapsed": 611,
     "status": "ok",
     "timestamp": 1569954027001,
     "user": {
      "displayName": "Tetiana Manzhos",
      "photoUrl": "https://lh3.googleusercontent.com/a-/AAuE7mCH7sNu-aYldQzAYLU9qyboTDhM5gfGAMjUJM8AoQ=s64",
      "userId": "11032964286053787838"
     },
     "user_tz": -180
    },
    "id": "oDX0PXcNFlJV",
    "outputId": "975ed80a-b692-46f3-a130-effcc8adcbf7"
   },
   "outputs": [],
   "source": [
    "# sum of two matrices\n",
    "A + C"
   ]
  },
  {
   "cell_type": "code",
   "execution_count": null,
   "metadata": {
    "colab": {
     "base_uri": "https://localhost:8080/",
     "height": 35
    },
    "colab_type": "code",
    "executionInfo": {
     "elapsed": 606,
     "status": "ok",
     "timestamp": 1569954113675,
     "user": {
      "displayName": "Tetiana Manzhos",
      "photoUrl": "https://lh3.googleusercontent.com/a-/AAuE7mCH7sNu-aYldQzAYLU9qyboTDhM5gfGAMjUJM8AoQ=s64",
      "userId": "11032964286053787838"
     },
     "user_tz": -180
    },
    "id": "UMTrZaPzFlJZ",
    "outputId": "80ccc41b-5798-419a-995c-2a233ce0b6eb"
   },
   "outputs": [],
   "source": [
    "# matrix multiplication\n",
    "np.matmul(A, B).shape"
   ]
  },
  {
   "cell_type": "code",
   "execution_count": null,
   "metadata": {
    "colab": {
     "base_uri": "https://localhost:8080/",
     "height": 69
    },
    "colab_type": "code",
    "executionInfo": {
     "elapsed": 607,
     "status": "ok",
     "timestamp": 1569954096547,
     "user": {
      "displayName": "Tetiana Manzhos",
      "photoUrl": "https://lh3.googleusercontent.com/a-/AAuE7mCH7sNu-aYldQzAYLU9qyboTDhM5gfGAMjUJM8AoQ=s64",
      "userId": "11032964286053787838"
     },
     "user_tz": -180
    },
    "id": "MezgRtsMFlJf",
    "outputId": "c435f379-3fca-4d95-c7b9-1ef1468cacf7"
   },
   "outputs": [],
   "source": [
    "np.matmul(A, B)"
   ]
  },
  {
   "cell_type": "code",
   "execution_count": null,
   "metadata": {
    "colab": {
     "base_uri": "https://localhost:8080/",
     "height": 69
    },
    "colab_type": "code",
    "executionInfo": {
     "elapsed": 637,
     "status": "ok",
     "timestamp": 1569954059852,
     "user": {
      "displayName": "Tetiana Manzhos",
      "photoUrl": "https://lh3.googleusercontent.com/a-/AAuE7mCH7sNu-aYldQzAYLU9qyboTDhM5gfGAMjUJM8AoQ=s64",
      "userId": "11032964286053787838"
     },
     "user_tz": -180
    },
    "id": "-fbikAe_FlJi",
    "outputId": "63888039-f3b6-44d9-f2a8-966cf6951cca"
   },
   "outputs": [],
   "source": [
    "A.dot(B)"
   ]
  },
  {
   "cell_type": "code",
   "execution_count": null,
   "metadata": {
    "colab": {
     "base_uri": "https://localhost:8080/",
     "height": 186
    },
    "colab_type": "code",
    "executionInfo": {
     "elapsed": 599,
     "status": "error",
     "timestamp": 1569954149820,
     "user": {
      "displayName": "Tetiana Manzhos",
      "photoUrl": "https://lh3.googleusercontent.com/a-/AAuE7mCH7sNu-aYldQzAYLU9qyboTDhM5gfGAMjUJM8AoQ=s64",
      "userId": "11032964286053787838"
     },
     "user_tz": -180
    },
    "id": "rrawE0rNFlJl",
    "outputId": "f097395d-3118-47a9-caa5-560d5be54e85"
   },
   "outputs": [],
   "source": [
    "np.matmul(B, A)"
   ]
  },
  {
   "cell_type": "code",
   "execution_count": null,
   "metadata": {},
   "outputs": [],
   "source": [
    "A * B"
   ]
  },
  {
   "cell_type": "code",
   "execution_count": null,
   "metadata": {
    "colab": {
     "base_uri": "https://localhost:8080/",
     "height": 69
    },
    "colab_type": "code",
    "executionInfo": {
     "elapsed": 879,
     "status": "ok",
     "timestamp": 1569954190974,
     "user": {
      "displayName": "Tetiana Manzhos",
      "photoUrl": "https://lh3.googleusercontent.com/a-/AAuE7mCH7sNu-aYldQzAYLU9qyboTDhM5gfGAMjUJM8AoQ=s64",
      "userId": "11032964286053787838"
     },
     "user_tz": -180
    },
    "id": "MwtBsJnFFlJr",
    "outputId": "12038c32-5f57-412f-8ca5-f0f9911deac8"
   },
   "outputs": [],
   "source": [
    "# transpose of matrix\n",
    "C.transpose()"
   ]
  },
  {
   "cell_type": "code",
   "execution_count": null,
   "metadata": {
    "colab": {
     "base_uri": "https://localhost:8080/",
     "height": 69
    },
    "colab_type": "code",
    "executionInfo": {
     "elapsed": 633,
     "status": "ok",
     "timestamp": 1569954209759,
     "user": {
      "displayName": "Tetiana Manzhos",
      "photoUrl": "https://lh3.googleusercontent.com/a-/AAuE7mCH7sNu-aYldQzAYLU9qyboTDhM5gfGAMjUJM8AoQ=s64",
      "userId": "11032964286053787838"
     },
     "user_tz": -180
    },
    "id": "7T0hZtjxFlJv",
    "outputId": "a2b631d4-dfe2-4a86-dfd8-72d057f590e8"
   },
   "outputs": [],
   "source": [
    "#inverse of matrix\n",
    "np.linalg.inv(C)"
   ]
  },
  {
   "cell_type": "code",
   "execution_count": null,
   "metadata": {
    "colab": {},
    "colab_type": "code",
    "id": "1JwAdZKuFlJy"
   },
   "outputs": [],
   "source": [
    "# eigen values and eigenvectors\n",
    "w, v = np.linalg.eig(A)"
   ]
  },
  {
   "cell_type": "code",
   "execution_count": null,
   "metadata": {
    "colab": {
     "base_uri": "https://localhost:8080/",
     "height": 35
    },
    "colab_type": "code",
    "executionInfo": {
     "elapsed": 602,
     "status": "ok",
     "timestamp": 1569954275161,
     "user": {
      "displayName": "Tetiana Manzhos",
      "photoUrl": "https://lh3.googleusercontent.com/a-/AAuE7mCH7sNu-aYldQzAYLU9qyboTDhM5gfGAMjUJM8AoQ=s64",
      "userId": "11032964286053787838"
     },
     "user_tz": -180
    },
    "id": "_Tw_8UWDFlJ1",
    "outputId": "a16a8b3d-c2af-460a-b2b5-8916d46d52d2"
   },
   "outputs": [],
   "source": [
    "print(w)"
   ]
  },
  {
   "cell_type": "code",
   "execution_count": null,
   "metadata": {
    "colab": {
     "base_uri": "https://localhost:8080/",
     "height": 69
    },
    "colab_type": "code",
    "executionInfo": {
     "elapsed": 591,
     "status": "ok",
     "timestamp": 1569954286994,
     "user": {
      "displayName": "Tetiana Manzhos",
      "photoUrl": "https://lh3.googleusercontent.com/a-/AAuE7mCH7sNu-aYldQzAYLU9qyboTDhM5gfGAMjUJM8AoQ=s64",
      "userId": "11032964286053787838"
     },
     "user_tz": -180
    },
    "id": "_4vshV5YFlJ4",
    "outputId": "e574779e-2ef6-439e-e473-636aa2ab09dd"
   },
   "outputs": [],
   "source": [
    "print(v)"
   ]
  },
  {
   "cell_type": "markdown",
   "metadata": {
    "colab_type": "text",
    "id": "OfK5p30nFlJ6"
   },
   "source": [
    "### Exercises"
   ]
  },
  {
   "cell_type": "markdown",
   "metadata": {
    "colab_type": "text",
    "id": "cgIwJlVZFlJ7"
   },
   "source": [
    "1) Write the function to find an angle between two vectors:"
   ]
  },
  {
   "cell_type": "code",
   "execution_count": null,
   "metadata": {
    "colab": {},
    "colab_type": "code",
    "id": "v73YAct8FlJ8"
   },
   "outputs": [],
   "source": [
    "def angle_between_vectors(a,b):\n",
    "    # your code here"
   ]
  },
  {
   "cell_type": "markdown",
   "metadata": {
    "colab_type": "text",
    "id": "HkrXXvU2FlJ-"
   },
   "source": [
    "2) Find an angle between two vectors (defined below):"
   ]
  },
  {
   "cell_type": "code",
   "execution_count": null,
   "metadata": {
    "colab": {},
    "colab_type": "code",
    "id": "S5C4EIEGFlKB"
   },
   "outputs": [],
   "source": [
    "x =  # number of letters in your name\n",
    "np.random.seed(x)\n",
    "a = x*np.random.rand(3)\n",
    "print(a)"
   ]
  },
  {
   "cell_type": "code",
   "execution_count": null,
   "metadata": {
    "colab": {},
    "colab_type": "code",
    "id": "WYcWyr3IFlKE"
   },
   "outputs": [],
   "source": [
    "y =  # number of letters in your surname\n",
    "np.random.seed(y)\n",
    "b = (x - y) * np.random.rand(3)\n",
    "print(b)"
   ]
  },
  {
   "cell_type": "code",
   "execution_count": null,
   "metadata": {
    "colab": {},
    "colab_type": "code",
    "id": "iXPqPkxzFlKH"
   },
   "outputs": [],
   "source": [
    "print(\"The angle between vectros a and b is {} degrees\".format(angle_between_vectors(a,b)))"
   ]
  },
  {
   "cell_type": "markdown",
   "metadata": {
    "colab_type": "text",
    "id": "hCy6NvPsFlKK"
   },
   "source": [
    "3) Find inverse of matrix _D_ and check the answer"
   ]
  },
  {
   "cell_type": "code",
   "execution_count": null,
   "metadata": {
    "colab": {},
    "colab_type": "code",
    "id": "t-bsymMFFlKL"
   },
   "outputs": [],
   "source": [
    "np.random.seed(x)\n",
    "D = x*np.random.rand(4,4)"
   ]
  },
  {
   "cell_type": "code",
   "execution_count": null,
   "metadata": {
    "colab": {},
    "colab_type": "code",
    "id": "KJ94_6lkFlKQ"
   },
   "outputs": [],
   "source": [
    "print(D)"
   ]
  },
  {
   "cell_type": "code",
   "execution_count": null,
   "metadata": {
    "colab": {},
    "colab_type": "code",
    "id": "7sLOQerKFlKT"
   },
   "outputs": [],
   "source": [
    "D_inv = # your code here"
   ]
  },
  {
   "cell_type": "code",
   "execution_count": null,
   "metadata": {
    "colab": {},
    "colab_type": "code",
    "id": "PrKe0WaYFlKW"
   },
   "outputs": [],
   "source": [
    "np.allclose(np.dot(D, D_inv), np.eye(4))"
   ]
  },
  {
   "cell_type": "markdown",
   "metadata": {
    "colab_type": "text",
    "id": "RIz3c4j3FlKZ"
   },
   "source": [
    "4) Find eigen values and eigenvectors of matrix _D_ given above"
   ]
  },
  {
   "cell_type": "code",
   "execution_count": null,
   "metadata": {
    "colab": {},
    "colab_type": "code",
    "id": "obity9HlFlKa"
   },
   "outputs": [],
   "source": [
    "# your code here"
   ]
  },
  {
   "cell_type": "markdown",
   "metadata": {},
   "source": [
    "5) Write function for counting entries of given element in given matrix   \n",
    "\n",
    "_Input_: integer (or float), np.array  \n",
    "_Output_: number of entries (int)"
   ]
  },
  {
   "cell_type": "code",
   "execution_count": null,
   "metadata": {},
   "outputs": [],
   "source": [
    "def counter(element, matrix):\n",
    "    # your code here"
   ]
  },
  {
   "cell_type": "code",
   "execution_count": null,
   "metadata": {},
   "outputs": [],
   "source": [
    "counter(0, np.array([[2.2,0], [2,9], [-9,0]]))"
   ]
  },
  {
   "cell_type": "markdown",
   "metadata": {},
   "source": [
    "6) Write function which takes matrix with vectors as rows and results all pairs of vectors with minimal distance between\n",
    "\n",
    "_Input:_ np.array, parameter **_p_** for minkowski distance (set euclidean metric by default)  \n",
    "_Output_: two vectors (np.arrays), distance (float)"
   ]
  },
  {
   "cell_type": "code",
   "execution_count": null,
   "metadata": {},
   "outputs": [],
   "source": [
    "def closest_vectors(matrix, p=2):\n",
    "    # your code here"
   ]
  },
  {
   "cell_type": "code",
   "execution_count": null,
   "metadata": {},
   "outputs": [],
   "source": [
    "closest_vectors(np.array([[1,2], [2,3], [1,2.5], [2,3.9]]))"
   ]
  },
  {
   "cell_type": "code",
   "execution_count": null,
   "metadata": {},
   "outputs": [],
   "source": [
    "closest_vectors(np.array([[1,3], [2,3], [1,2], [1,1]]), p=1)"
   ]
  },
  {
   "cell_type": "code",
   "execution_count": null,
   "metadata": {},
   "outputs": [],
   "source": []
  }
 ],
 "metadata": {
  "colab": {
   "collapsed_sections": [
    "CSIu2NAcFlIv",
    "OfK5p30nFlJ6"
   ],
   "name": "Linear_algebra.ipynb",
   "provenance": []
  },
  "kernelspec": {
   "display_name": "Python 3",
   "language": "python",
   "name": "python3"
  },
  "language_info": {
   "codemirror_mode": {
    "name": "ipython",
    "version": 3
   },
   "file_extension": ".py",
   "mimetype": "text/x-python",
   "name": "python",
   "nbconvert_exporter": "python",
   "pygments_lexer": "ipython3",
   "version": "3.7.4"
  }
 },
 "nbformat": 4,
 "nbformat_minor": 1
}
