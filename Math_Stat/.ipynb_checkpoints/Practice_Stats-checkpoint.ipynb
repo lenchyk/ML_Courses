{
 "cells": [
  {
   "cell_type": "markdown",
   "metadata": {},
   "source": [
    "### Your task:"
   ]
  },
  {
   "cell_type": "markdown",
   "metadata": {},
   "source": [
    "- Read data from **train.csv**  \n",
    "Form new dataset from rows (houses) with high OverallQual (8,9,10) and following columns:  \n",
    "'LotArea', 'YearBuilt', 'LotShape', 'HouseStyle', 'OverallCond', 'Heating', 'KitchenQual',   \n",
    "'Functional', 'YearRemodAdd', 'GarageCars', 'GarageArea', 'GarageQual','GarageFinish','PoolArea',  \n",
    " 'SalePrice'"
   ]
  },
  {
   "cell_type": "markdown",
   "metadata": {},
   "source": [
    "- \n",
    "1) Find averages (mean, mode, median), standard deviation, skew and kurtosis for 3 numerical columns (your choise);  \n",
    "comment the results  \n",
    "2) Draw histograms, boxplots for data from chosen columns   \n",
    "3) Provide _**log**_ transformation for columns with skewness > 1 and plot histograms for scaled data;  \n",
    "compare histograms before and after transformation  \n",
    "4) Find mode for all nominal columns (create a table); plot bar charts for any two of them  \n",
    "5) Create new column which groups LotArea into 3 bins: Small, Medium, Large (your choise for thresholds);  \n",
    "draw scatter plot to show dependency between SalePrice, YearRemodAdd colored by Small/Medium/Large groups  \n",
    "6) Draw graph to show changes of average SalePrice grouped by YearBuilt  \n",
    "7) Draw box-plots of SalePrice grouped by OverallCond score  "
   ]
  },
  {
   "cell_type": "markdown",
   "metadata": {},
   "source": [
    "- Provide in-depth analysis of the dataset (find as many insights in data as possible ;))"
   ]
  },
  {
   "cell_type": "code",
   "execution_count": 1,
   "metadata": {},
   "outputs": [],
   "source": [
    "import pandas as pd\n",
    "import matplotlib.pyplot as plt\n",
    "import seaborn as sns"
   ]
  },
  {
   "cell_type": "code",
   "execution_count": null,
   "metadata": {},
   "outputs": [],
   "source": [
    "data = pd.read_csv('')"
   ]
  }
 ],
 "metadata": {
  "kernelspec": {
   "display_name": "Python 3",
   "language": "python",
   "name": "python3"
  },
  "language_info": {
   "codemirror_mode": {
    "name": "ipython",
    "version": 3
   },
   "file_extension": ".py",
   "mimetype": "text/x-python",
   "name": "python",
   "nbconvert_exporter": "python",
   "pygments_lexer": "ipython3",
   "version": "3.7.4"
  }
 },
 "nbformat": 4,
 "nbformat_minor": 2
}
