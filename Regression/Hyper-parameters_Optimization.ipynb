{
 "cells": [
  {
   "cell_type": "code",
   "execution_count": 1,
   "metadata": {},
   "outputs": [],
   "source": [
    "import pandas as pd\n",
    "import numpy as np\n",
    "import math\n",
    "import matplotlib.pyplot as plt\n",
    "import seaborn as sns\n",
    "from sklearn.model_selection import train_test_split\n",
    "from sklearn.metrics import mean_squared_error\n",
    "from sklearn.linear_model import LinearRegression, Ridge, Lasso"
   ]
  },
  {
   "cell_type": "code",
   "execution_count": 2,
   "metadata": {},
   "outputs": [],
   "source": [
    "data = pd.read_csv('train.csv', usecols = ['LotArea', 'YearBuilt','GarageCars', 'OverallCond', 'SalePrice'])"
   ]
  },
  {
   "cell_type": "code",
   "execution_count": 3,
   "metadata": {},
   "outputs": [
    {
     "name": "stdout",
     "output_type": "stream",
     "text": [
      "<class 'pandas.core.frame.DataFrame'>\n",
      "RangeIndex: 1460 entries, 0 to 1459\n",
      "Data columns (total 5 columns):\n",
      "LotArea        1460 non-null int64\n",
      "OverallCond    1460 non-null int64\n",
      "YearBuilt      1460 non-null int64\n",
      "GarageCars     1460 non-null int64\n",
      "SalePrice      1460 non-null int64\n",
      "dtypes: int64(5)\n",
      "memory usage: 57.2 KB\n"
     ]
    }
   ],
   "source": [
    "data.info()"
   ]
  },
  {
   "cell_type": "code",
   "execution_count": 4,
   "metadata": {},
   "outputs": [],
   "source": [
    "# y - target value (value that we gonna predict)\n",
    "X = data[['LotArea', 'YearBuilt','GarageCars', 'OverallCond']].values\n",
    "y = data.SalePrice"
   ]
  },
  {
   "cell_type": "code",
   "execution_count": 5,
   "metadata": {},
   "outputs": [],
   "source": [
    "X_train, X_test, y_train, y_test = train_test_split(X, y, test_size = 0.2, random_state= 42)"
   ]
  },
  {
   "cell_type": "code",
   "execution_count": 6,
   "metadata": {},
   "outputs": [
    {
     "name": "stdout",
     "output_type": "stream",
     "text": [
      "rmse on train 54340.14422715648\n",
      "rmse on test 62162.40346436413\n"
     ]
    }
   ],
   "source": [
    "lr_r = Ridge(alpha=1.0)\n",
    "lr_r.fit(X_train, y_train)\n",
    "test_pred = lr_r.predict(X_test)\n",
    "train_pred = lr_r.predict(X_train)\n",
    "print('rmse on train', math.sqrt(mean_squared_error(y_train, train_pred)))\n",
    "print('rmse on test', math.sqrt(mean_squared_error(y_test, test_pred)))"
   ]
  },
  {
   "cell_type": "code",
   "execution_count": 7,
   "metadata": {},
   "outputs": [
    {
     "name": "stdout",
     "output_type": "stream",
     "text": [
      "Best: 0.495083 using {'alpha': 0.01, 'fit_intercept': True, 'solver': 'auto'}\n"
     ]
    }
   ],
   "source": [
    "from sklearn.model_selection import GridSearchCV\n",
    "\n",
    "param_grid={'alpha': [0.01, 0.1,1,10,100],\n",
    "            'fit_intercept': [True, False],\n",
    "            'solver':  ['auto', 'saga']}\n",
    "lr_r = Ridge()\n",
    "gs = GridSearchCV(lr_r, param_grid, cv=5)\n",
    "\n",
    "gs.fit(X_train, y_train)\n",
    "print(\"Best: %f using %s\" % (gs.best_score_, gs.best_params_))"
   ]
  },
  {
   "cell_type": "code",
   "execution_count": 8,
   "metadata": {},
   "outputs": [
    {
     "name": "stdout",
     "output_type": "stream",
     "text": [
      "rmse on train 54340.10252170124\n",
      "rmse on test 62160.25671371721\n"
     ]
    }
   ],
   "source": [
    "lr_r = Ridge(alpha=0.01)\n",
    "lr_r.fit(X_train, y_train)\n",
    "test_pred = lr_r.predict(X_test)\n",
    "train_pred = lr_r.predict(X_train)\n",
    "print('rmse on train', math.sqrt(mean_squared_error(y_train, train_pred)))\n",
    "print('rmse on test', math.sqrt(mean_squared_error(y_test, test_pred)))"
   ]
  },
  {
   "cell_type": "code",
   "execution_count": 12,
   "metadata": {},
   "outputs": [
    {
     "name": "stdout",
     "output_type": "stream",
     "text": [
      "Best: 0.494701 using {'alpha': 10.829343303536564}\n"
     ]
    }
   ],
   "source": [
    "from sklearn.model_selection import RandomizedSearchCV\n",
    "from scipy.stats import uniform\n",
    "\n",
    "param_grid_rand={'alpha': uniform(0, 100)}\n",
    "\n",
    "lr_r = Ridge()\n",
    "gs = RandomizedSearchCV(lr_r, param_grid_rand, cv=5)\n",
    "\n",
    "gs.fit(X_train, y_train)\n",
    "print(\"Best: %f using %s\" % (gs.best_score_, gs.best_params_))"
   ]
  },
  {
   "cell_type": "code",
   "execution_count": 14,
   "metadata": {},
   "outputs": [
    {
     "name": "stdout",
     "output_type": "stream",
     "text": [
      "rmse on train 54344.311330247234\n",
      "rmse on test 62185.3407808536\n"
     ]
    }
   ],
   "source": [
    "lr_r = Ridge(alpha=10.25)\n",
    "lr_r.fit(X_train, y_train)\n",
    "test_pred = lr_r.predict(X_test)\n",
    "train_pred = lr_r.predict(X_train)\n",
    "print('rmse on train', math.sqrt(mean_squared_error(y_train, train_pred)))\n",
    "print('rmse on test', math.sqrt(mean_squared_error(y_test, test_pred)))"
   ]
  },
  {
   "cell_type": "code",
   "execution_count": null,
   "metadata": {},
   "outputs": [],
   "source": []
  }
 ],
 "metadata": {
  "kernelspec": {
   "display_name": "Python 3",
   "language": "python",
   "name": "python3"
  },
  "language_info": {
   "codemirror_mode": {
    "name": "ipython",
    "version": 3
   },
   "file_extension": ".py",
   "mimetype": "text/x-python",
   "name": "python",
   "nbconvert_exporter": "python",
   "pygments_lexer": "ipython3",
   "version": "3.7.4"
  }
 },
 "nbformat": 4,
 "nbformat_minor": 2
}
