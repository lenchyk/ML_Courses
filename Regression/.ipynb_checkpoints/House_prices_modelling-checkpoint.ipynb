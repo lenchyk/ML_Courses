{
 "cells": [
  {
   "cell_type": "code",
   "execution_count": null,
   "metadata": {
    "colab": {},
    "colab_type": "code",
    "id": "f0waK70WfKkN"
   },
   "outputs": [],
   "source": [
    "import pandas as pd\n",
    "import numpy as np\n",
    "import math\n",
    "import io\n",
    "import matplotlib.pyplot as plt\n",
    "import seaborn as sns\n",
    "from sklearn.model_selection import train_test_split\n",
    "from sklearn.metrics import mean_squared_error\n",
    "from sklearn.linear_model import LinearRegression, Ridge, Lasso\n",
    "from sklearn.tree import DecisionTreeRegressor"
   ]
  },
  {
   "cell_type": "code",
   "execution_count": null,
   "metadata": {
    "colab": {},
    "colab_type": "code",
    "id": "Hj-32PAphpjL"
   },
   "outputs": [],
   "source": [
    "# Reading of the data\n",
    "data = pd.read_csv('train.csv')"
   ]
  },
  {
   "cell_type": "code",
   "execution_count": null,
   "metadata": {
    "colab": {},
    "colab_type": "code",
    "id": "bFvxs3XBQigl"
   },
   "outputs": [],
   "source": [
    "sns.set(font_scale=1)"
   ]
  },
  {
   "cell_type": "markdown",
   "metadata": {
    "colab_type": "text",
    "id": "SDRvkZsVi16B"
   },
   "source": [
    "### Meanings of the features"
   ]
  },
  {
   "cell_type": "markdown",
   "metadata": {
    "colab_type": "text",
    "id": "gnxJ4kZ8l5yr"
   },
   "source": [
    "*   **SalePrice** : The property's sale price in dollars. This is the *target* variable that you're trying to predict.\n",
    "*   **MSSubClass**: The building class\n",
    "*   **MSZoning**: The general zoning classification\n",
    "*   **LotFrontage**: Linear feet of street connected to property\n",
    "*   **LotArea**: Lot size in square feet\n",
    "*   **Street**: Type of road access\n",
    "*   **Alley**: Type of alley access\n",
    "*   **LotShape**: General shape of property\n",
    "*   **LandContour**: Flatness of the property\n",
    "*   **Utilities**: Type of utilities available\n",
    "*   **LotConfig**: Lot configuration\n",
    "*   **LandSlope**: Slope of property\n",
    "*   **Neighborhood**: Physical locations within Ames city limits\n",
    "*   **Condition1**: Proximity to main road or railroad\n",
    "*   **Condition2**: Proximity to main road or railroad (if a second is present)\n",
    "*   **BldgType**: Type of dwelling\n",
    "*   **HouseStyle**: Style of dwelling\n",
    "*   **OverallQual**: Overall material and finish quality\n",
    "*   **OverallCond**: Overall condition rating\n",
    "*   **YearBuilt**: Original construction date\n",
    "*   **YearRemodAdd**: Remodel date\n",
    "*   **RoofStyle**: Type of roof\n",
    "*   **RoofMatl**: Roof material\n",
    "*   **Exterior1st**: Exterior covering on house\n",
    "*   **Exterior2nd**: Exterior covering on house (if more than one material)\n",
    "*   **MasVnrType**: Masonry veneer type\n",
    "*   **MasVnrArea**: Masonry veneer area in square feet\n",
    "*   **ExterQual**: Exterior material quality\n",
    "*   **ExterCond**: Present condition of the material on the exterior\n",
    "*   **Foundation**: Type of foundation\n",
    "*   **BsmtQual**: Height of the basement\n",
    "*   **BsmtCond**: General condition of the basement\n",
    "*   **BsmtExposure**: Walkout or garden level basement walls\n",
    "*   **BsmtFinType1**: Quality of basement finished area\n",
    "*   **BsmtFinSF1**: Type 1 finished square feet\n",
    "*   **BsmtFinType2**: Quality of second finished area (if present)\n",
    "*   **BsmtFinSF2**: Type 2 finished square feet\n",
    "*   **BsmtUnfSF**: Unfinished square feet of basement area\n",
    "*   **TotalBsmtSF**: Total square feet of basement area\n",
    "*   **Heating**: Type of heating\n",
    "*   **HeatingQC**: Heating quality and condition\n",
    "*   **CentralAir**: Central air conditioning\n",
    "*   **Electrical**: Electrical system\n",
    "*   **1stFlrSF**: First Floor square feet\n",
    "*   **2ndFlrSF**: Second floor square feet\n",
    "*   **LowQualFinSF**: Low quality finished square feet (all floors)\n",
    "*   **GrLivArea**: Above grade (ground) living area square feet\n",
    "*   **BsmtFullBath**: Basement full bathrooms\n",
    "*   **BsmtHalfBath**: Basement half bathrooms\n",
    "*   **FullBath**: Full bathrooms above grade\n",
    "*   **HalfBath**: Half baths above grade\n",
    "*   **Bedroom**: Number of bedrooms above basement level\n",
    "*   **Kitchen**: Number of kitchens\n",
    "*   **KitchenQual**: Kitchen quality\n",
    "*   **TotRmsAbvGrd**: Total rooms above grade (does not include bathrooms)\n",
    "*   **Functional**: Home functionality rating\n",
    "*   **Fireplaces**: Number of fireplaces\n",
    "*   **FireplaceQu**: Fireplace quality\n",
    "*   **GarageType**: Garage location\n",
    "*   **GarageYrBlt**: Year garage was built\n",
    "*   **GarageFinish**: Interior finish of the garage\n",
    "*   **GarageCars**: Size of garage in car capacity\n",
    "*   **GarageArea**: Size of garage in square feet\n",
    "*   **GarageQual**: Garage quality\n",
    "*   **GarageCond**: Garage condition\n",
    "*   **PavedDrive**: Paved driveway\n",
    "*   **WoodDeckSF**: Wood deck area in square feet\n",
    "*   **OpenPorchSF**: Open porch area in square feet\n",
    "*   **EnclosedPorch**: Enclosed porch area in square feet\n",
    "*   **3SsnPorch**: Three season porch area in square feet\n",
    "*   **ScreenPorch**: Screen porch area in square feet\n",
    "*   **PoolArea**: Pool area in square feet\n",
    "*   **PoolQC**: Pool quality\n",
    "*   **Fence**: Fence quality\n",
    "*   **MiscFeature**: Miscellaneous feature not covered in other categories\n",
    "*   **MiscVal**: $Value of miscellaneous feature\n",
    "*   **MoSold**: Month Sold\n",
    "*   **YrSold**: Year Sold\n",
    "*   **SaleType**: Type of sale\n",
    "*   **SaleCondition**: Condition of sale"
   ]
  },
  {
   "cell_type": "code",
   "execution_count": null,
   "metadata": {
    "colab": {
     "base_uri": "https://localhost:8080/",
     "height": 35
    },
    "colab_type": "code",
    "id": "jB4pMSJ16AIa",
    "outputId": "4156f129-0e32-4f5b-b308-e7c25ec5ae15"
   },
   "outputs": [],
   "source": [
    "data.shape"
   ]
  },
  {
   "cell_type": "code",
   "execution_count": null,
   "metadata": {
    "colab": {
     "base_uri": "https://localhost:8080/",
     "height": 1092
    },
    "colab_type": "code",
    "id": "st1D9cpj-DqB",
    "outputId": "ee844a41-819e-4a53-82fe-c4d8ff9d2e2c"
   },
   "outputs": [],
   "source": [
    "data.dtypes"
   ]
  },
  {
   "cell_type": "markdown",
   "metadata": {},
   "source": [
    "### Data cleaning and dealing with missing data"
   ]
  },
  {
   "cell_type": "code",
   "execution_count": null,
   "metadata": {
    "colab": {
     "base_uri": "https://localhost:8080/",
     "height": 509
    },
    "colab_type": "code",
    "id": "KIukZTbWBdBE",
    "outputId": "9326b327-259d-41fd-ff13-02e5edfed222"
   },
   "outputs": [],
   "source": [
    "plt.figure(figsize = (10,8))\n",
    "plt.scatter(data['YearBuilt'], data['SalePrice'])\n",
    "plt.xlabel('YearBuilt')\n",
    "plt.ylabel('SalePrice')\n",
    "plt.show()"
   ]
  },
  {
   "cell_type": "code",
   "execution_count": null,
   "metadata": {
    "colab": {},
    "colab_type": "code",
    "id": "LlV1GE1ZCEeA"
   },
   "outputs": [],
   "source": [
    "data.drop(data[(data.YearBuilt < 1900) & (data.SalePrice > 300000)].index, axis=0, inplace=True)"
   ]
  },
  {
   "cell_type": "code",
   "execution_count": null,
   "metadata": {
    "colab": {
     "base_uri": "https://localhost:8080/",
     "height": 509
    },
    "colab_type": "code",
    "id": "zvXTbOJ6DzIk",
    "outputId": "164d5ceb-9d02-48c5-837b-badcc794542d"
   },
   "outputs": [],
   "source": [
    "plt.figure(figsize = (10,8))\n",
    "plt.scatter(data['GrLivArea'], data['SalePrice'])\n",
    "plt.xlabel('GrLivArea')\n",
    "plt.ylabel('SalePrice')\n",
    "plt.show()"
   ]
  },
  {
   "cell_type": "code",
   "execution_count": null,
   "metadata": {
    "colab": {},
    "colab_type": "code",
    "id": "9tyvyM9rFPfu"
   },
   "outputs": [],
   "source": [
    "data.drop(data[(data.GrLivArea > 4000) & (data.SalePrice < 200000)].index, axis=0, inplace=True)"
   ]
  },
  {
   "cell_type": "code",
   "execution_count": null,
   "metadata": {
    "colab": {
     "base_uri": "https://localhost:8080/",
     "height": 364
    },
    "colab_type": "code",
    "id": "6RYByUiih5ld",
    "outputId": "668cef6d-c185-48ab-85fd-c28dddb60b51"
   },
   "outputs": [],
   "source": [
    "data.isnull().mean()[data.isnull().mean() > 0].sort_values(ascending=False)"
   ]
  },
  {
   "cell_type": "code",
   "execution_count": null,
   "metadata": {
    "colab": {},
    "colab_type": "code",
    "id": "VOsM01xqikAj"
   },
   "outputs": [],
   "source": [
    "data.drop(['PoolQC', 'MiscFeature', 'Alley', 'Fence', 'Id'], axis=1, inplace =True)"
   ]
  },
  {
   "cell_type": "code",
   "execution_count": null,
   "metadata": {
    "colab": {},
    "colab_type": "code",
    "id": "l9xUe5mgPMA0"
   },
   "outputs": [],
   "source": [
    "data = data.reset_index(drop=True)"
   ]
  },
  {
   "cell_type": "code",
   "execution_count": null,
   "metadata": {
    "colab": {},
    "colab_type": "code",
    "id": "jSd8NEnH8JsB"
   },
   "outputs": [],
   "source": [
    "# separate categorical and numerical features\n",
    "\n",
    "categorical_features = data.select_dtypes(include=['object']).columns\n",
    "numerical_features = data.select_dtypes(include=['int64', 'float64']).columns"
   ]
  },
  {
   "cell_type": "code",
   "execution_count": null,
   "metadata": {
    "colab": {
     "base_uri": "https://localhost:8080/",
     "height": 173
    },
    "colab_type": "code",
    "id": "ON-bXKeI-LOC",
    "outputId": "8a8c76ab-1d51-4553-c0a3-efd1d24f134e"
   },
   "outputs": [],
   "source": [
    "categorical_features"
   ]
  },
  {
   "cell_type": "code",
   "execution_count": null,
   "metadata": {
    "colab": {
     "base_uri": "https://localhost:8080/",
     "height": 173
    },
    "colab_type": "code",
    "id": "3sP1O31g-NEC",
    "outputId": "45b7a45e-5c49-4752-e0cc-c1a96aaf4c84"
   },
   "outputs": [],
   "source": [
    "numerical_features"
   ]
  },
  {
   "cell_type": "code",
   "execution_count": null,
   "metadata": {
    "colab": {
     "base_uri": "https://localhost:8080/",
     "height": 52
    },
    "colab_type": "code",
    "id": "equUyIgM-PYC",
    "outputId": "85ee851e-5ed6-4f49-cd28-4744233d39bb"
   },
   "outputs": [],
   "source": [
    "print(\"Number of numerical features : \" + str(len(numerical_features)))\n",
    "print(\"Number of categorical features : \" + str(len(categorical_features)))"
   ]
  },
  {
   "cell_type": "code",
   "execution_count": null,
   "metadata": {
    "colab": {},
    "colab_type": "code",
    "id": "40FHGeV1Agxj"
   },
   "outputs": [],
   "source": [
    "# missing numerical values is replaced by median\n",
    "\n",
    "data_num = data[numerical_features].fillna(data[numerical_features].median())"
   ]
  },
  {
   "cell_type": "code",
   "execution_count": null,
   "metadata": {
    "colab": {},
    "colab_type": "code",
    "id": "fJVwEB9AA_gy"
   },
   "outputs": [],
   "source": [
    "# missing categorical values is replaced by mode\n",
    "\n",
    "data_cat = data[categorical_features].fillna(data[categorical_features].mode())"
   ]
  },
  {
   "cell_type": "markdown",
   "metadata": {
    "colab_type": "text",
    "id": "-I3jzIjJKBbY"
   },
   "source": [
    "### Data transformation and categorical features encoding"
   ]
  },
  {
   "cell_type": "code",
   "execution_count": null,
   "metadata": {
    "colab": {
     "base_uri": "https://localhost:8080/",
     "height": 676
    },
    "colab_type": "code",
    "id": "GZ1DA7YZKy5a",
    "outputId": "94f9cf19-a714-4bb1-a34b-755e5e4dcde8"
   },
   "outputs": [],
   "source": [
    "# skewness\n",
    "\n",
    "from scipy.stats import skew \n",
    "skewness = data_num.apply(lambda x: skew(x))\n",
    "skewness.sort_values(ascending=False)"
   ]
  },
  {
   "cell_type": "code",
   "execution_count": null,
   "metadata": {
    "colab": {
     "base_uri": "https://localhost:8080/",
     "height": 393
    },
    "colab_type": "code",
    "id": "G10zp6RXQ3sY",
    "outputId": "107ad4bb-3d03-4964-bb36-d900d90b7a1c"
   },
   "outputs": [],
   "source": [
    "plt.rcParams['figure.figsize'] = (14.0, 6.0)\n",
    "prices = pd.DataFrame({\"price\": data[\"SalePrice\"], \"log(price + 1)\":np.log1p(data[\"SalePrice\"])})\n",
    "prices.hist(bins=20, alpha=0.85, rwidth=0.95)\n",
    "plt.show()"
   ]
  },
  {
   "cell_type": "code",
   "execution_count": null,
   "metadata": {
    "colab": {},
    "colab_type": "code",
    "id": "HZ96RRM7LTdW"
   },
   "outputs": [],
   "source": [
    "skewed_cols = skewness[abs(skewness)>1].index"
   ]
  },
  {
   "cell_type": "code",
   "execution_count": null,
   "metadata": {},
   "outputs": [],
   "source": [
    "skewed_cols"
   ]
  },
  {
   "cell_type": "code",
   "execution_count": null,
   "metadata": {
    "colab": {},
    "colab_type": "code",
    "id": "mGaVdtWMOa6W"
   },
   "outputs": [],
   "source": [
    "data_num[skewed_cols] = np.log1p(data_num[skewed_cols])"
   ]
  },
  {
   "cell_type": "code",
   "execution_count": null,
   "metadata": {
    "colab": {
     "base_uri": "https://localhost:8080/",
     "height": 35
    },
    "colab_type": "code",
    "id": "fIQ2xyRtPnVz",
    "outputId": "1738d2b8-5c04-4d8e-ece1-66fff8e00add"
   },
   "outputs": [],
   "source": [
    "# dummy variables\n",
    "\n",
    "data_cat = pd.get_dummies(data_cat)\n",
    "data_cat.shape"
   ]
  },
  {
   "cell_type": "code",
   "execution_count": null,
   "metadata": {
    "colab": {
     "base_uri": "https://localhost:8080/",
     "height": 269
    },
    "colab_type": "code",
    "id": "MH_Xzbg3QS9L",
    "outputId": "6f25b77d-bb08-4904-afea-6ce3403f11c9"
   },
   "outputs": [],
   "source": [
    "data_cat.head()"
   ]
  },
  {
   "cell_type": "code",
   "execution_count": null,
   "metadata": {
    "colab": {},
    "colab_type": "code",
    "id": "Ny2xT4vSQfmW"
   },
   "outputs": [],
   "source": [
    "X = pd.concat([data_cat, data_num], axis=1)\n",
    "y = X.SalePrice\n",
    "X.drop(['SalePrice'], axis=1, inplace=True)"
   ]
  },
  {
   "cell_type": "code",
   "execution_count": null,
   "metadata": {
    "colab": {
     "base_uri": "https://localhost:8080/",
     "height": 35
    },
    "colab_type": "code",
    "id": "ePK_elDtTVFX",
    "outputId": "1d3dc8e7-2559-470a-f37e-77b3e16dff36"
   },
   "outputs": [],
   "source": [
    "X.shape"
   ]
  },
  {
   "cell_type": "code",
   "execution_count": null,
   "metadata": {
    "colab": {
     "base_uri": "https://localhost:8080/",
     "height": 35
    },
    "colab_type": "code",
    "id": "URITozONTW7X",
    "outputId": "5a62246e-2910-4182-bcef-fd255d26d0f8"
   },
   "outputs": [],
   "source": [
    "y.shape"
   ]
  },
  {
   "cell_type": "code",
   "execution_count": null,
   "metadata": {
    "colab": {
     "base_uri": "https://localhost:8080/",
     "height": 35
    },
    "colab_type": "code",
    "id": "ub4QZ_IlTYxn",
    "outputId": "75eceb2d-924b-466e-8133-fa7f93163082"
   },
   "outputs": [],
   "source": [
    "X.isnull().sum().sum()"
   ]
  },
  {
   "cell_type": "markdown",
   "metadata": {
    "colab_type": "text",
    "id": "iaXDEuNETzn9"
   },
   "source": [
    "### Modelling"
   ]
  },
  {
   "cell_type": "code",
   "execution_count": null,
   "metadata": {
    "colab": {},
    "colab_type": "code",
    "id": "7tm9G6hTT3yS"
   },
   "outputs": [],
   "source": [
    "# train/test split\n",
    "\n",
    "X_train, X_test, y_train, y_test = train_test_split(X, y, test_size = 0.2, random_state= 42)"
   ]
  },
  {
   "cell_type": "code",
   "execution_count": null,
   "metadata": {
    "colab": {
     "base_uri": "https://localhost:8080/",
     "height": 35
    },
    "colab_type": "code",
    "id": "65twcFI_Uf3y",
    "outputId": "3865589a-cf8c-4dad-eefc-9bf3c0609904"
   },
   "outputs": [],
   "source": [
    "X_train.shape"
   ]
  },
  {
   "cell_type": "code",
   "execution_count": null,
   "metadata": {
    "colab": {
     "base_uri": "https://localhost:8080/",
     "height": 35
    },
    "colab_type": "code",
    "id": "FfRSzGPrUh5z",
    "outputId": "35cdb9be-4f84-4305-d4a4-d1821e59adf2"
   },
   "outputs": [],
   "source": [
    "X_test.shape"
   ]
  },
  {
   "cell_type": "code",
   "execution_count": null,
   "metadata": {
    "colab": {
     "base_uri": "https://localhost:8080/",
     "height": 52
    },
    "colab_type": "code",
    "id": "_yPM8y8oUlCC",
    "outputId": "afc25886-c596-415b-8320-89e3aadfda6b"
   },
   "outputs": [],
   "source": [
    "# Linear Regression\n",
    "\n",
    "lr = LinearRegression()\n",
    "lr.fit(X_train, y_train)\n",
    "test_pred = lr.predict(X_test)\n",
    "train_pred = lr.predict(X_train)\n",
    "print('rmse on train', math.sqrt(mean_squared_error(y_train, train_pred)))\n",
    "print('rmse on test', math.sqrt(mean_squared_error(y_test, test_pred)))"
   ]
  },
  {
   "cell_type": "code",
   "execution_count": null,
   "metadata": {
    "colab": {
     "base_uri": "https://localhost:8080/",
     "height": 519
    },
    "colab_type": "code",
    "id": "T1E1_EZGUvQQ",
    "outputId": "0aad8e04-288b-4ab7-85ce-e8aef0a5f6c5"
   },
   "outputs": [],
   "source": [
    "# scatter plot for real vs predicted values\n",
    "\n",
    "plt.figure(figsize=(10,8))\n",
    "plt.scatter(train_pred, y_train, c = \"blue\",  label = \"Training data\")\n",
    "plt.scatter(test_pred, y_test, c = \"green\",  label = \"Validation data\")\n",
    "plt.title(\"Linear regression without regularization\")\n",
    "plt.xlabel(\"Predicted values\")\n",
    "plt.ylabel(\"Real values\")\n",
    "plt.legend(loc = \"upper left\")\n",
    "plt.plot([10, 14], [10, 14], c = \"black\")\n",
    "#plt.xlim((10,14))\n",
    "#plt.ylim((10,14))\n",
    "plt.show()"
   ]
  },
  {
   "cell_type": "code",
   "execution_count": null,
   "metadata": {
    "colab": {
     "base_uri": "https://localhost:8080/",
     "height": 52
    },
    "colab_type": "code",
    "id": "j5nqN1IBVxhw",
    "outputId": "e1a9948a-d9fb-486d-da4b-2420941e256f"
   },
   "outputs": [],
   "source": [
    "# Ridge regression\n",
    "\n",
    "lr_r = Ridge(alpha=1.0)\n",
    "lr_r.fit(X_train, y_train)\n",
    "test_pred = lr_r.predict(X_test)\n",
    "train_pred = lr_r.predict(X_train)\n",
    "print('rmse on train', math.sqrt(mean_squared_error(y_train, train_pred)))\n",
    "print('rmse on test', math.sqrt(mean_squared_error(y_test, test_pred)))"
   ]
  },
  {
   "cell_type": "code",
   "execution_count": null,
   "metadata": {
    "colab": {
     "base_uri": "https://localhost:8080/",
     "height": 519
    },
    "colab_type": "code",
    "id": "kO_3eBcPaJ14",
    "outputId": "2bf0ee3a-5a74-484d-af5d-6c022414530d"
   },
   "outputs": [],
   "source": [
    "# scatter plot for real vs predicted values\n",
    "\n",
    "plt.figure(figsize=(10,8))\n",
    "plt.scatter(train_pred, y_train, c = \"blue\",  label = \"Training data\")\n",
    "plt.scatter(test_pred, y_test, c = \"green\",  label = \"Validation data\")\n",
    "plt.title(\"Linear regression with Ridge regularization\")\n",
    "plt.xlabel(\"Predicted values\")\n",
    "plt.ylabel(\"Real values\")\n",
    "plt.legend(loc = \"upper left\")\n",
    "plt.plot([10, 14], [10, 14], c = \"black\")\n",
    "plt.show()"
   ]
  },
  {
   "cell_type": "code",
   "execution_count": null,
   "metadata": {
    "colab": {
     "base_uri": "https://localhost:8080/",
     "height": 52
    },
    "colab_type": "code",
    "id": "-kLL1PDsa8RB",
    "outputId": "29836a2c-3d09-4a47-81e2-8508811dcece"
   },
   "outputs": [],
   "source": [
    "# LASSO regression\n",
    "\n",
    "lr_l = Lasso(alpha=1)\n",
    "lr_l.fit(X_train, y_train)\n",
    "test_pred = lr_l.predict(X_test)\n",
    "train_pred = lr_l.predict(X_train)\n",
    "print('rmse on train', math.sqrt(mean_squared_error(y_train, train_pred)))\n",
    "print('rmse on test', math.sqrt(mean_squared_error(y_test, test_pred)))"
   ]
  },
  {
   "cell_type": "code",
   "execution_count": null,
   "metadata": {
    "colab": {
     "base_uri": "https://localhost:8080/",
     "height": 519
    },
    "colab_type": "code",
    "id": "POyCUcqWbzFZ",
    "outputId": "3610d0b1-c14d-4cc9-a213-631045845df0"
   },
   "outputs": [],
   "source": [
    "# scatter plot for real vs predicted values\n",
    "\n",
    "plt.figure(figsize=(10,8))\n",
    "plt.scatter(train_pred, y_train, c = \"blue\",  label = \"Training data\")\n",
    "plt.scatter(test_pred, y_test, c = \"green\",  label = \"Validation data\")\n",
    "plt.title(\"Linear regression with LASSO regularization\")\n",
    "plt.xlabel(\"Predicted values\")\n",
    "plt.ylabel(\"Real values\")\n",
    "plt.legend(loc = \"upper left\")\n",
    "plt.plot([10, 14], [10, 14], c = \"black\")\n",
    "plt.show()"
   ]
  },
  {
   "cell_type": "code",
   "execution_count": null,
   "metadata": {
    "colab": {
     "base_uri": "https://localhost:8080/",
     "height": 509
    },
    "colab_type": "code",
    "id": "bF6iaADrb804",
    "outputId": "278f10e5-88c6-423e-e89b-06653be88d2b"
   },
   "outputs": [],
   "source": [
    "plt.figure(figsize = (10,8))\n",
    "plt.plot(lr_r.coef_, 's', label=\"Ridge (alpha=1)\")\n",
    "plt.plot(lr_l.coef_, '^', label=\"LASSO (alpha=1)\")\n",
    "#plt.plot(lr.coef_, 'o', label=\"LinearRegression\")\n",
    "plt.xlabel(\"Coefficient index\")\n",
    "plt.ylabel(\"Coefficient magnitude\")\n",
    "plt.legend(loc = 'lower right')\n",
    "plt.show()"
   ]
  },
  {
   "cell_type": "code",
   "execution_count": null,
   "metadata": {
    "colab": {},
    "colab_type": "code",
    "id": "y_bJB3Hcdsa8"
   },
   "outputs": [],
   "source": [
    "coef_lasso = pd.Series(lr_l.coef_, index = X_train.columns)\n",
    "coef_lasso"
   ]
  },
  {
   "cell_type": "code",
   "execution_count": null,
   "metadata": {
    "colab": {
     "base_uri": "https://localhost:8080/",
     "height": 35
    },
    "colab_type": "code",
    "id": "yoJfrQ5pe1Q6",
    "outputId": "638d96ee-dc77-43a9-97ab-7e0e142df8cd"
   },
   "outputs": [],
   "source": [
    "print(\"Lasso has remained \" + str(sum(coef_lasso != 0)) + \" variables and excluded \" +  str(sum(coef_lasso == 0)))"
   ]
  },
  {
   "cell_type": "code",
   "execution_count": null,
   "metadata": {
    "colab": {},
    "colab_type": "code",
    "id": "jPJQPqlde8-h"
   },
   "outputs": [],
   "source": [
    "important_coef = coef_lasso.sort_values().tail(9)"
   ]
  },
  {
   "cell_type": "code",
   "execution_count": null,
   "metadata": {
    "colab": {
     "base_uri": "https://localhost:8080/",
     "height": 393
    },
    "colab_type": "code",
    "id": "93HPNU19gLB7",
    "outputId": "3fd859df-7087-43bd-ccf3-458f9f65f3b5"
   },
   "outputs": [],
   "source": [
    "plt.figure(figsize = (6,6))\n",
    "important_coef.plot(kind = \"barh\")\n",
    "plt.title(\"Coefficients in the Lasso Regression\")\n",
    "plt.show()"
   ]
  },
  {
   "cell_type": "code",
   "execution_count": null,
   "metadata": {
    "colab": {},
    "colab_type": "code",
    "id": "Z0KCHcU38-ny"
   },
   "outputs": [],
   "source": [
    "coef_ridge = pd.Series(lr_r.coef_, index = X_train.columns)\n",
    "coef_ridge"
   ]
  },
  {
   "cell_type": "code",
   "execution_count": null,
   "metadata": {},
   "outputs": [],
   "source": [
    "print(\"Ridge has remained \" + str(sum(coef_ridge != 0)) + \" variables and excluded \" +  str(sum(coef_ridge == 0)))"
   ]
  },
  {
   "cell_type": "code",
   "execution_count": null,
   "metadata": {},
   "outputs": [],
   "source": [
    "coef_ridge.sort_values().tail(20)"
   ]
  },
  {
   "cell_type": "code",
   "execution_count": null,
   "metadata": {},
   "outputs": [],
   "source": [
    "plt.figure(figsize = (6,6))\n",
    "coef_ridge.sort_values().tail(20).plot(kind = \"barh\")\n",
    "plt.title(\"Top 20 coefficients in the Ridge Regression\")\n",
    "plt.show()"
   ]
  },
  {
   "cell_type": "code",
   "execution_count": null,
   "metadata": {},
   "outputs": [],
   "source": [
    "coef_lr = pd.Series(lr.coef_, index = X_train.columns)\n",
    "coef_lr"
   ]
  },
  {
   "cell_type": "markdown",
   "metadata": {},
   "source": [
    "### Exercises"
   ]
  },
  {
   "cell_type": "markdown",
   "metadata": {},
   "source": [
    "1) Try one more way to encode categorical variables. Compare the result of modelling with previous one. Make conclusions.   \n",
    "2) Try one more way to fill missing values. Make conclusions.  \n",
    "3) Find the best value of parameter alpha for both Ridge and LASSO regressions using Grid Search or Random Search. Make conclusions.  \n",
    "4) Try ElasticNet for modelling. Choose the best model and explain your choise.  "
   ]
  },
  {
   "cell_type": "code",
   "execution_count": null,
   "metadata": {},
   "outputs": [],
   "source": [
    "# k-nearest neighbors regressor"
   ]
  },
  {
   "cell_type": "code",
   "execution_count": null,
   "metadata": {},
   "outputs": [],
   "source": [
    "from sklearn.neighbors import KNeighborsRegressor"
   ]
  },
  {
   "cell_type": "code",
   "execution_count": null,
   "metadata": {},
   "outputs": [],
   "source": [
    "knn = KNeighborsRegressor(n_neighbors=6)\n",
    "knn.fit(X_train, y_train)\n",
    "test_pred = knn.predict(X_test)\n",
    "train_pred = knn.predict(X_train)\n",
    "print('rmse on train', math.sqrt(mean_squared_error(y_train, train_pred)))\n",
    "print('rmse on test', math.sqrt(mean_squared_error(y_test, test_pred)))"
   ]
  },
  {
   "cell_type": "code",
   "execution_count": null,
   "metadata": {},
   "outputs": [],
   "source": [
    "# scatter plot for real vs predicted values\n",
    "\n",
    "plt.figure(figsize=(10,8))\n",
    "plt.scatter(train_pred, y_train, c = \"blue\",  label = \"Training data\")\n",
    "plt.scatter(test_pred, y_test, c = \"green\",  label = \"Validation data\")\n",
    "plt.title(\"KNN (k=6)\")\n",
    "plt.xlabel(\"Predicted values\")\n",
    "plt.ylabel(\"Real values\")\n",
    "plt.legend(loc = \"upper left\")\n",
    "plt.plot([10, 14], [10, 14], c = \"black\")\n",
    "plt.show()"
   ]
  },
  {
   "cell_type": "code",
   "execution_count": null,
   "metadata": {},
   "outputs": [],
   "source": [
    "# Minkowski distance\n",
    "# See about metrics in more details https://scikit-learn.org/stable/modules/generated/sklearn.neighbors.DistanceMetric.html\n",
    "\n",
    "knn = KNeighborsRegressor(n_neighbors=5, p=1)\n",
    "knn.fit(X_train, y_train)\n",
    "test_pred = knn.predict(X_test)\n",
    "train_pred = knn.predict(X_train)\n",
    "print('rmse on train', math.sqrt(mean_squared_error(y_train, train_pred)))\n",
    "print('rmse on test', math.sqrt(mean_squared_error(y_test, test_pred)))"
   ]
  },
  {
   "cell_type": "code",
   "execution_count": null,
   "metadata": {},
   "outputs": [],
   "source": [
    "# scatter plot for real vs predicted values\n",
    "\n",
    "plt.figure(figsize=(10,8))\n",
    "plt.scatter(train_pred, y_train, c = \"blue\",  label = \"Training data\")\n",
    "plt.scatter(test_pred, y_test, c = \"green\",  label = \"Validation data\")\n",
    "plt.title(\"KNN with L1-metric (k=5)\")\n",
    "plt.xlabel(\"Predicted values\")\n",
    "plt.ylabel(\"Real values\")\n",
    "plt.legend(loc = \"upper left\")\n",
    "plt.plot([10, 14], [10, 14], c = \"black\")\n",
    "plt.show()"
   ]
  },
  {
   "cell_type": "code",
   "execution_count": null,
   "metadata": {},
   "outputs": [],
   "source": [
    "# weights parameter\n",
    "\n",
    "knn = KNeighborsRegressor(n_neighbors=5, weights='distance', p=1)\n",
    "knn.fit(X_train, y_train)\n",
    "test_pred_knn = knn.predict(X_test)\n",
    "train_pred_knn = knn.predict(X_train)\n",
    "print('rmse on train', math.sqrt(mean_squared_error(y_train, train_pred_knn)))\n",
    "print('rmse on test', math.sqrt(mean_squared_error(y_test, test_pred_knn)))"
   ]
  },
  {
   "cell_type": "markdown",
   "metadata": {},
   "source": [
    "### Exercise"
   ]
  },
  {
   "cell_type": "markdown",
   "metadata": {},
   "source": [
    "Find the best value of parameters for KNN regressor using Grid Search or Random Search. Make conclusions."
   ]
  },
  {
   "cell_type": "code",
   "execution_count": null,
   "metadata": {},
   "outputs": [],
   "source": [
    "# Decision Tree regressor"
   ]
  },
  {
   "cell_type": "code",
   "execution_count": null,
   "metadata": {},
   "outputs": [],
   "source": [
    "dt = DecisionTreeRegressor(max_depth=6, min_samples_leaf=20, random_state=0)\n",
    "dt.fit(X_train, y_train)\n",
    "test_pred_dt = dt.predict(X_test)\n",
    "train_pred_dt = dt.predict(X_train)\n",
    "print('rmse on train', math.sqrt(mean_squared_error(y_train, train_pred_dt)))\n",
    "print('rmse on test', math.sqrt(mean_squared_error(y_test, test_pred_dt)))"
   ]
  },
  {
   "cell_type": "code",
   "execution_count": null,
   "metadata": {},
   "outputs": [],
   "source": [
    "# scatter plot for real vs predicted values\n",
    "\n",
    "plt.figure(figsize=(10,8))\n",
    "plt.scatter(train_pred_dt, y_train, c = \"blue\",  label = \"Training data\")\n",
    "plt.scatter(test_pred_dt, y_test, c = \"green\",  label = \"Validation data\")\n",
    "plt.title(\"KNN with L1-metric (k=5)\")\n",
    "plt.xlabel(\"Predicted values\")\n",
    "plt.ylabel(\"Real values\")\n",
    "plt.legend(loc = \"upper left\")\n",
    "plt.plot([10, 14], [10, 14], c = \"black\")\n",
    "plt.show()"
   ]
  },
  {
   "cell_type": "code",
   "execution_count": null,
   "metadata": {},
   "outputs": [],
   "source": [
    "from sklearn.externals.six import StringIO  \n",
    "from IPython.display import Image  \n",
    "from sklearn.tree import export_graphviz\n",
    "import pydotplus\n",
    "\n",
    "dot_data = StringIO()\n",
    "feature_names = X_train.columns\n",
    "export_graphviz(dt, out_file=dot_data,  \n",
    "                filled=True, rounded=True, \n",
    "                feature_names=feature_names,\n",
    "                special_characters=True)\n",
    "graph = pydotplus.graph_from_dot_data(dot_data.getvalue())  \n",
    "#graph.set_size('\"12,12\"')\n",
    "Image(graph.create_png())"
   ]
  },
  {
   "cell_type": "code",
   "execution_count": null,
   "metadata": {},
   "outputs": [],
   "source": [
    "#https://graphviz.gitlab.io/_pages/Download/Download_windows.html\n",
    "#import os     \n",
    "#os.environ[\"PATH\"] += os.pathsep + 'C:/Program Files (x86)/Graphviz2.38/bin/'"
   ]
  },
  {
   "cell_type": "code",
   "execution_count": null,
   "metadata": {},
   "outputs": [],
   "source": [
    "imp = pd.DataFrame({'feature': X_train.columns, 'importance': dt.feature_importances_})\n",
    "imp = imp[imp.importance > 0].sort_values(by = 'importance', ascending=True)"
   ]
  },
  {
   "cell_type": "code",
   "execution_count": null,
   "metadata": {},
   "outputs": [],
   "source": [
    "imp.plot.barh(y='importance', x='feature', legend=False, figsize=(6,6))\n",
    "plt.title(\"Feature importances by Decision Tree\")\n",
    "plt.show()"
   ]
  },
  {
   "cell_type": "code",
   "execution_count": null,
   "metadata": {},
   "outputs": [],
   "source": [
    "# Ensemble methods"
   ]
  },
  {
   "cell_type": "code",
   "execution_count": null,
   "metadata": {},
   "outputs": [],
   "source": [
    "# simple averaging\n",
    "\n",
    "print('rmse on train', math.sqrt(mean_squared_error(y_train, 0.5*train_pred_knn+0.5*train_pred_dt)))\n",
    "print('rmse on test', math.sqrt(mean_squared_error(y_test, 0.5*test_pred_knn+0.5*test_pred_dt)))"
   ]
  },
  {
   "cell_type": "code",
   "execution_count": null,
   "metadata": {},
   "outputs": [],
   "source": [
    "# scatter plot for real vs predicted values\n",
    "\n",
    "plt.figure(figsize=(10,8))\n",
    "plt.scatter(0.5*train_pred_knn+0.5*train_pred_dt, y_train, c = \"blue\",  label = \"Training data\")\n",
    "plt.scatter(0.5*test_pred_knn+0.5*test_pred_dt, y_test, c = \"green\",  label = \"Validation data\")\n",
    "plt.title(\"KNN with L1-metric (k=5)\")\n",
    "plt.xlabel(\"Predicted values\")\n",
    "plt.ylabel(\"Real values\")\n",
    "plt.legend(loc = \"upper left\")\n",
    "plt.plot([10, 14], [10, 14], c = \"black\")\n",
    "plt.show()"
   ]
  },
  {
   "cell_type": "code",
   "execution_count": null,
   "metadata": {},
   "outputs": [],
   "source": [
    "# Random Forest"
   ]
  },
  {
   "cell_type": "code",
   "execution_count": null,
   "metadata": {},
   "outputs": [],
   "source": [
    "from sklearn.ensemble import RandomForestRegressor"
   ]
  },
  {
   "cell_type": "code",
   "execution_count": null,
   "metadata": {},
   "outputs": [],
   "source": [
    "rf = RandomForestRegressor(n_estimators=50, max_depth=6, random_state=1)\n",
    "rf.fit(X_train, y_train)\n",
    "test_pred_rf = rf.predict(X_test)\n",
    "train_pred_rf = rf.predict(X_train)\n",
    "print('rmse on train', math.sqrt(mean_squared_error(y_train, train_pred_rf)))\n",
    "print('rmse on test', math.sqrt(mean_squared_error(y_test, test_pred_rf)))"
   ]
  },
  {
   "cell_type": "code",
   "execution_count": null,
   "metadata": {},
   "outputs": [],
   "source": [
    "# scatter plot for real vs predicted values\n",
    "\n",
    "plt.figure(figsize=(10,8))\n",
    "plt.scatter(train_pred_rf, y_train, c = \"blue\",  label = \"Training data\")\n",
    "plt.scatter(test_pred_rf, y_test, c = \"green\",  label = \"Validation data\")\n",
    "plt.title(\"RF (n_estimators=50)\")\n",
    "plt.xlabel(\"Predicted values\")\n",
    "plt.ylabel(\"Real values\")\n",
    "plt.legend(loc = \"upper left\")\n",
    "plt.plot([10, 14], [10, 14], c = \"black\")\n",
    "plt.show()"
   ]
  },
  {
   "cell_type": "code",
   "execution_count": null,
   "metadata": {},
   "outputs": [],
   "source": [
    "# Feature importance is calculated as the decrease in node impurity weighted by the probability of reaching that node \n",
    "# averaged over all trees of the ensemble\n",
    "imp = pd.DataFrame({'feature': X_train.columns, 'importance': rf.feature_importances_})\n",
    "imp = imp.sort_values(by = 'importance', ascending=True)"
   ]
  },
  {
   "cell_type": "code",
   "execution_count": null,
   "metadata": {},
   "outputs": [],
   "source": [
    "imp.tail(20).plot.barh(y='importance', x='feature', legend=False, figsize=(8,6))\n",
    "plt.title(\"Feature importances by RF\")\n",
    "plt.show()"
   ]
  },
  {
   "cell_type": "markdown",
   "metadata": {},
   "source": [
    "### Exercise"
   ]
  },
  {
   "cell_type": "markdown",
   "metadata": {},
   "source": [
    "Find the best value of parameters for RF regressor using Grid Search or Random Search. Make conclusions."
   ]
  },
  {
   "cell_type": "code",
   "execution_count": null,
   "metadata": {},
   "outputs": [],
   "source": [
    "# Extra Tree"
   ]
  },
  {
   "cell_type": "code",
   "execution_count": null,
   "metadata": {},
   "outputs": [],
   "source": [
    "from sklearn.ensemble import ExtraTreesRegressor"
   ]
  },
  {
   "cell_type": "code",
   "execution_count": null,
   "metadata": {},
   "outputs": [],
   "source": [
    "tr = ExtraTreesRegressor(n_estimators=50, max_depth=6, random_state=1)\n",
    "tr.fit(X_train, y_train)\n",
    "test_pred_tr = tr.predict(X_test)\n",
    "train_pred_tr = tr.predict(X_train)\n",
    "print('rmse on train', math.sqrt(mean_squared_error(y_train, train_pred_tr)))\n",
    "print('rmse on test', math.sqrt(mean_squared_error(y_test, test_pred_tr)))"
   ]
  },
  {
   "cell_type": "code",
   "execution_count": null,
   "metadata": {},
   "outputs": [],
   "source": [
    "imp = pd.DataFrame({'feature': X_train.columns, 'importance': tr.feature_importances_})\n",
    "imp = imp.sort_values(by = 'importance', ascending=True)"
   ]
  },
  {
   "cell_type": "code",
   "execution_count": null,
   "metadata": {},
   "outputs": [],
   "source": [
    "imp.tail(20).plot.barh(y='importance', x='feature', legend=False, figsize=(8,6))\n",
    "plt.title(\"Feature importances by ExtraTree\")\n",
    "plt.show()"
   ]
  },
  {
   "cell_type": "code",
   "execution_count": null,
   "metadata": {},
   "outputs": [],
   "source": [
    "# Gradient Boosting"
   ]
  },
  {
   "cell_type": "code",
   "execution_count": null,
   "metadata": {},
   "outputs": [],
   "source": [
    "from sklearn.ensemble import GradientBoostingRegressor"
   ]
  },
  {
   "cell_type": "code",
   "execution_count": null,
   "metadata": {},
   "outputs": [],
   "source": [
    "gbr = GradientBoostingRegressor(n_estimators=500, learning_rate=0.01, max_depth=3, \n",
    "                                max_features=0.7, min_samples_leaf=20, random_state=42)\n",
    "gbr.fit(X_train, y_train)\n",
    "test_pred_tr = gbr.predict(X_test)\n",
    "train_pred_tr = gbr.predict(X_train)\n",
    "print('rmse on train', math.sqrt(mean_squared_error(y_train, train_pred_tr)))\n",
    "print('rmse on test', math.sqrt(mean_squared_error(y_test, test_pred_tr)))"
   ]
  },
  {
   "cell_type": "code",
   "execution_count": null,
   "metadata": {},
   "outputs": [],
   "source": [
    "imp = pd.DataFrame({'feature': X_train.columns, 'importance': gbr.feature_importances_})\n",
    "imp = imp.sort_values(by = 'importance', ascending=True)"
   ]
  },
  {
   "cell_type": "code",
   "execution_count": null,
   "metadata": {},
   "outputs": [],
   "source": [
    "imp.tail(20).plot.barh(y='importance', x='feature', legend=False, figsize=(8,6))\n",
    "plt.title(\"Feature importances by Gradient Boost\")\n",
    "plt.show()"
   ]
  },
  {
   "cell_type": "code",
   "execution_count": null,
   "metadata": {},
   "outputs": [],
   "source": [
    "# Further reading https://scikit-learn.org/stable/modules/generated/sklearn.ensemble.GradientBoostingRegressor.html"
   ]
  },
  {
   "cell_type": "code",
   "execution_count": null,
   "metadata": {},
   "outputs": [],
   "source": [
    "### LightGBM"
   ]
  },
  {
   "cell_type": "code",
   "execution_count": null,
   "metadata": {},
   "outputs": [],
   "source": [
    "import lightgbm as lgb"
   ]
  },
  {
   "cell_type": "code",
   "execution_count": null,
   "metadata": {},
   "outputs": [],
   "source": [
    "parameters = {\n",
    "    'application': 'regression',\n",
    "    'metric': 'mse',\n",
    "    'boosting': 'gbdt',\n",
    "    'num_leaves': 34,\n",
    "    'max_depth': 2,\n",
    "    'feature_fraction': 0.8,\n",
    "    'bagging_fraction': 0.4,\n",
    "    'bagging_freq': 2,\n",
    "    'learning_rate': 0.02\n",
    "}"
   ]
  },
  {
   "cell_type": "code",
   "execution_count": null,
   "metadata": {},
   "outputs": [],
   "source": [
    "train_data = lgb.Dataset(X_train.values, label=y_train.values)\n",
    "lgbm = lgb.train(parameters, train_data, num_boost_round=600)\n",
    "test_pred_tr = lgbm.predict(X_test.values)\n",
    "train_pred_tr = lgbm.predict(X_train.values)\n",
    "print('rmse on train', math.sqrt(mean_squared_error(y_train, train_pred_tr)))\n",
    "print('rmse on test', math.sqrt(mean_squared_error(y_test, test_pred_tr)))"
   ]
  },
  {
   "cell_type": "code",
   "execution_count": null,
   "metadata": {},
   "outputs": [],
   "source": [
    "impTmp = lgbm.feature_importance()\n",
    "importances = pd.concat([pd.Series(X_train.columns, name='feature'), pd.Series(impTmp/np.sum(impTmp), name='importance')], \n",
    "                        axis=1).sort_values('importance')"
   ]
  },
  {
   "cell_type": "code",
   "execution_count": null,
   "metadata": {},
   "outputs": [],
   "source": [
    "importances.tail(20).plot.barh(y='importance', x='feature', legend=False, figsize=(8,6))\n",
    "plt.title(\"Feature importances by Gradient Boost\")\n",
    "plt.show()"
   ]
  },
  {
   "cell_type": "code",
   "execution_count": null,
   "metadata": {},
   "outputs": [],
   "source": [
    "# Further reading https://lightgbm.readthedocs.io/en/latest/Parameters.html"
   ]
  },
  {
   "cell_type": "code",
   "execution_count": null,
   "metadata": {},
   "outputs": [],
   "source": [
    "### XGboost"
   ]
  },
  {
   "cell_type": "code",
   "execution_count": null,
   "metadata": {},
   "outputs": [],
   "source": [
    "import xgboost as xgb\n",
    "from sklearn.model_selection import GridSearchCV\n",
    "\n",
    "# Parameters tuning\n",
    "model = xgb.XGBRegressor()\n",
    "param_dict = {\"max_depth\": [2,3,5],\n",
    "              \"n_estimators\": [200, 300],\n",
    "              \"learning_rate\": [0.05, 0.1],\n",
    "              \"colsample_bytree\": [0.6]}\n",
    "xgboost = GridSearchCV(model, param_grid=param_dict, cv = 3, n_jobs=-1)\n",
    "xgboost.fit(X_train, y_train)\n",
    "\n",
    "xgboost.best_estimator_"
   ]
  },
  {
   "cell_type": "code",
   "execution_count": null,
   "metadata": {},
   "outputs": [],
   "source": [
    "test_pred_tr = xgboost.best_estimator_.predict(X_test)\n",
    "train_pred_tr = xgboost.best_estimator_.predict(X_train)\n",
    "print('rmse on train', math.sqrt(mean_squared_error(y_train, train_pred_tr)))\n",
    "print('rmse on test', math.sqrt(mean_squared_error(y_test, test_pred_tr)))"
   ]
  },
  {
   "cell_type": "code",
   "execution_count": null,
   "metadata": {},
   "outputs": [],
   "source": [
    "imp = pd.DataFrame({'feature': X_train.columns, 'importance': xgboost.best_estimator_.feature_importances_})\n",
    "imp = imp.sort_values(by = 'importance', ascending=True)"
   ]
  },
  {
   "cell_type": "code",
   "execution_count": null,
   "metadata": {},
   "outputs": [],
   "source": [
    "imp.tail(20).plot.barh(y='importance', x='feature', legend=False, figsize=(8,6))\n",
    "plt.title(\"Feature importances by Gradient Boost\")\n",
    "plt.show()"
   ]
  },
  {
   "cell_type": "code",
   "execution_count": null,
   "metadata": {},
   "outputs": [],
   "source": [
    "### Further reading: https://xgboost.readthedocs.io/en/latest/parameter.html"
   ]
  }
 ],
 "metadata": {
  "colab": {
   "collapsed_sections": [
    "SDRvkZsVi16B"
   ],
   "name": "House_prices_modelling.ipynb",
   "provenance": [],
   "version": "0.3.2"
  },
  "kernelspec": {
   "display_name": "Python 3",
   "language": "python",
   "name": "python3"
  },
  "language_info": {
   "codemirror_mode": {
    "name": "ipython",
    "version": 3
   },
   "file_extension": ".py",
   "mimetype": "text/x-python",
   "name": "python",
   "nbconvert_exporter": "python",
   "pygments_lexer": "ipython3",
   "version": "3.7.4"
  }
 },
 "nbformat": 4,
 "nbformat_minor": 1
}
