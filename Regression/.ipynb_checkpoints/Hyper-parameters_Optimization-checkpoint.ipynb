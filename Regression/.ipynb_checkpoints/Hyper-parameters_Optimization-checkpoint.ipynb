{
 "cells": [
  {
   "cell_type": "code",
   "execution_count": null,
   "metadata": {},
   "outputs": [],
   "source": [
    "import pandas as pd\n",
    "import numpy as np\n",
    "import math\n",
    "import matplotlib.pyplot as plt\n",
    "import seaborn as sns\n",
    "from sklearn.model_selection import train_test_split\n",
    "from sklearn.metrics import mean_squared_error\n",
    "from sklearn.linear_model import LinearRegression, Ridge, Lasso"
   ]
  },
  {
   "cell_type": "code",
   "execution_count": null,
   "metadata": {},
   "outputs": [],
   "source": [
    "data = pd.read_csv('train.csv', usecols = ['LotArea', 'YearBuilt','GarageCars', 'OverallCond', 'SalePrice'])"
   ]
  },
  {
   "cell_type": "code",
   "execution_count": null,
   "metadata": {},
   "outputs": [],
   "source": [
    "data.info()"
   ]
  },
  {
   "cell_type": "code",
   "execution_count": null,
   "metadata": {},
   "outputs": [],
   "source": [
    "X = data[['LotArea', 'YearBuilt','GarageCars', 'OverallCond']].values\n",
    "y = data.SalePrice"
   ]
  },
  {
   "cell_type": "code",
   "execution_count": null,
   "metadata": {},
   "outputs": [],
   "source": [
    "X_train, X_test, y_train, y_test = train_test_split(X, y, test_size = 0.2, random_state= 42)"
   ]
  },
  {
   "cell_type": "code",
   "execution_count": null,
   "metadata": {},
   "outputs": [],
   "source": [
    "lr_r = Ridge(alpha=1.0)\n",
    "lr_r.fit(X_train, y_train)\n",
    "test_pred = lr_r.predict(X_test)\n",
    "train_pred = lr_r.predict(X_train)\n",
    "print('rmse on train', math.sqrt(mean_squared_error(y_train, train_pred)))\n",
    "print('rmse on test', math.sqrt(mean_squared_error(y_test, test_pred)))"
   ]
  },
  {
   "cell_type": "code",
   "execution_count": null,
   "metadata": {},
   "outputs": [],
   "source": [
    "from sklearn.model_selection import GridSearchCV\n",
    "\n",
    "param_grid={'alpha': [0.01, 0.1,1,10,100],\n",
    "            'fit_intercept': [True, False],\n",
    "            'solver':  ['auto', 'saga']}\n",
    "lr_r = Ridge()\n",
    "gs = GridSearchCV(lr_r, param_grid, cv=5)\n",
    "\n",
    "gs.fit(X_train, y_train)\n",
    "print(\"Best: %f using %s\" % (gs.best_score_, gs.best_params_))"
   ]
  },
  {
   "cell_type": "code",
   "execution_count": null,
   "metadata": {},
   "outputs": [],
   "source": [
    "lr_r = Ridge(alpha=0.01)\n",
    "lr_r.fit(X_train, y_train)\n",
    "test_pred = lr_r.predict(X_test)\n",
    "train_pred = lr_r.predict(X_train)\n",
    "print('rmse on train', math.sqrt(mean_squared_error(y_train, train_pred)))\n",
    "print('rmse on test', math.sqrt(mean_squared_error(y_test, test_pred)))"
   ]
  },
  {
   "cell_type": "code",
   "execution_count": null,
   "metadata": {},
   "outputs": [],
   "source": [
    "from sklearn.model_selection import RandomizedSearchCV\n",
    "from scipy.stats import uniform\n",
    "\n",
    "param_grid_rand={'alpha': uniform(0, 100)}\n",
    "\n",
    "lr_r = Ridge()\n",
    "gs = RandomizedSearchCV(lr_r, param_grid_rand, cv=5)\n",
    "\n",
    "gs.fit(X_train, y_train)\n",
    "print(\"Best: %f using %s\" % (gs.best_score_, gs.best_params_))"
   ]
  },
  {
   "cell_type": "code",
   "execution_count": null,
   "metadata": {},
   "outputs": [],
   "source": [
    "lr_r = Ridge(alpha=4.25)\n",
    "lr_r.fit(X_train, y_train)\n",
    "test_pred = lr_r.predict(X_test)\n",
    "train_pred = lr_r.predict(X_train)\n",
    "print('rmse on train', math.sqrt(mean_squared_error(y_train, train_pred)))\n",
    "print('rmse on test', math.sqrt(mean_squared_error(y_test, test_pred)))"
   ]
  },
  {
   "cell_type": "code",
   "execution_count": null,
   "metadata": {},
   "outputs": [],
   "source": []
  }
 ],
 "metadata": {
  "kernelspec": {
   "display_name": "Python 3",
   "language": "python",
   "name": "python3"
  },
  "language_info": {
   "codemirror_mode": {
    "name": "ipython",
    "version": 3
   },
   "file_extension": ".py",
   "mimetype": "text/x-python",
   "name": "python",
   "nbconvert_exporter": "python",
   "pygments_lexer": "ipython3",
   "version": "3.7.4"
  }
 },
 "nbformat": 4,
 "nbformat_minor": 2
}
