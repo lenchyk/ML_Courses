{
 "cells": [
  {
   "cell_type": "code",
   "execution_count": 1,
   "metadata": {},
   "outputs": [
    {
     "ename": "ModuleNotFoundError",
     "evalue": "No module named 'sklearn'",
     "output_type": "error",
     "traceback": [
      "\u001b[0;31m---------------------------------------------------------------------------\u001b[0m",
      "\u001b[0;31mModuleNotFoundError\u001b[0m                       Traceback (most recent call last)",
      "\u001b[0;32m<ipython-input-1-d318c2043dd9>\u001b[0m in \u001b[0;36m<module>\u001b[0;34m\u001b[0m\n\u001b[1;32m      3\u001b[0m \u001b[0;32mimport\u001b[0m \u001b[0mmatplotlib\u001b[0m\u001b[0;34m.\u001b[0m\u001b[0mpyplot\u001b[0m \u001b[0;32mas\u001b[0m \u001b[0mplt\u001b[0m\u001b[0;34m\u001b[0m\u001b[0;34m\u001b[0m\u001b[0m\n\u001b[1;32m      4\u001b[0m \u001b[0;32mimport\u001b[0m \u001b[0mseaborn\u001b[0m \u001b[0;32mas\u001b[0m \u001b[0msns\u001b[0m\u001b[0;34m\u001b[0m\u001b[0;34m\u001b[0m\u001b[0m\n\u001b[0;32m----> 5\u001b[0;31m \u001b[0;32mfrom\u001b[0m \u001b[0msklearn\u001b[0m\u001b[0;34m.\u001b[0m\u001b[0mlinear_model\u001b[0m \u001b[0;32mimport\u001b[0m \u001b[0mLinearRegression\u001b[0m\u001b[0;34m,\u001b[0m \u001b[0mRidge\u001b[0m\u001b[0;34m,\u001b[0m \u001b[0mLasso\u001b[0m\u001b[0;34m,\u001b[0m \u001b[0mElasticNet\u001b[0m\u001b[0;34m\u001b[0m\u001b[0;34m\u001b[0m\u001b[0m\n\u001b[0m\u001b[1;32m      6\u001b[0m \u001b[0;32mfrom\u001b[0m \u001b[0msklearn\u001b[0m\u001b[0;34m.\u001b[0m\u001b[0mmetrics\u001b[0m \u001b[0;32mimport\u001b[0m \u001b[0mmean_squared_error\u001b[0m\u001b[0;34m\u001b[0m\u001b[0;34m\u001b[0m\u001b[0m\n\u001b[1;32m      7\u001b[0m \u001b[0;32mimport\u001b[0m \u001b[0mmath\u001b[0m\u001b[0;34m\u001b[0m\u001b[0;34m\u001b[0m\u001b[0m\n",
      "\u001b[0;31mModuleNotFoundError\u001b[0m: No module named 'sklearn'"
     ]
    }
   ],
   "source": [
    "import numpy as np\n",
    "import pandas as pd\n",
    "import matplotlib.pyplot as plt\n",
    "import seaborn as sns\n",
    "from sklearn.linear_model import LinearRegression, Ridge, Lasso, ElasticNet\n",
    "from sklearn.metrics import mean_squared_error\n",
    "import math\n",
    "\n",
    "%matplotlib inline"
   ]
  },
  {
   "cell_type": "markdown",
   "metadata": {},
   "source": [
    "### Linear Regression"
   ]
  },
  {
   "cell_type": "code",
   "execution_count": null,
   "metadata": {},
   "outputs": [],
   "source": [
    "sns.set()"
   ]
  },
  {
   "cell_type": "code",
   "execution_count": null,
   "metadata": {},
   "outputs": [],
   "source": [
    "x = np.array([1,2,2,3]).reshape(-1,1)\n",
    "y = np.array([1,1,2,2])"
   ]
  },
  {
   "cell_type": "code",
   "execution_count": null,
   "metadata": {},
   "outputs": [],
   "source": [
    "model = LinearRegression().fit(x, y)"
   ]
  },
  {
   "cell_type": "code",
   "execution_count": null,
   "metadata": {},
   "outputs": [],
   "source": [
    "a0 = model.coef_\n",
    "b0 = model.intercept_"
   ]
  },
  {
   "cell_type": "code",
   "execution_count": null,
   "metadata": {},
   "outputs": [],
   "source": [
    "print(a0[0], b0)"
   ]
  },
  {
   "cell_type": "code",
   "execution_count": null,
   "metadata": {},
   "outputs": [],
   "source": [
    "def func(a,b):\n",
    "    return (1-a-b)**2 + (1-2*a-b)**2 + (2-2*a-b)**2 + (2-3*a-b)**2"
   ]
  },
  {
   "cell_type": "code",
   "execution_count": null,
   "metadata": {},
   "outputs": [],
   "source": [
    "def grad(a,b):\n",
    "    return -2*(1-a-b) - 4*(1-2*a-b) - 4*(2-2*a-b) - 6*(2-3*a-b), -2*(1-a-b) - 2*(1-2*a-b) - 2*(2-2*a-b) - 2*(2-3*a-b)"
   ]
  },
  {
   "cell_type": "code",
   "execution_count": null,
   "metadata": {},
   "outputs": [],
   "source": [
    "def plotting(iteration, a, b):\n",
    "    plt.figure(figsize=(8,6))\n",
    "    x_1 = [1,2,2,3]\n",
    "    y_1 = [1,1,2,2]\n",
    "    plt.scatter(x_1,y_1,color='b')\n",
    "    x = np.linspace(0, 4, 100)\n",
    "    y=a*x+b\n",
    "    plt.plot(x, y, linestyle='dashed', color='g')\n",
    "    plt.plot(x, a0*x+b0, color='r')\n",
    "    plt.legend(['$y=ax+b$', 'OLS regression', 'data'], loc='upper right')\n",
    "    plt.xlim([0, 4])\n",
    "    plt.ylim([0, 3])\n",
    "    plt.xlabel('x')\n",
    "    plt.ylabel('y')\n",
    "    plt.title('Iteration {}'.format(iteration))\n",
    "    plt.savefig('./img/it_{}.png'.format(iteration))"
   ]
  },
  {
   "cell_type": "code",
   "execution_count": null,
   "metadata": {},
   "outputs": [],
   "source": [
    "def GD(initial, alpha, diff):\n",
    "    x_prev, y_prev = initial[0], initial[1]\n",
    "    error = diff + 1\n",
    "    n_iter = 0\n",
    "    while error > diff:\n",
    "        x_next, y_next = x_prev - alpha*grad(x_prev, y_prev)[0], y_prev - alpha*grad(x_prev, y_prev)[1]\n",
    "        error = abs(func(x_next, y_next) - func(x_prev, y_prev))\n",
    "        x_prev, y_prev = x_next, y_next\n",
    "        n_iter += 1\n",
    "        plotting(n_iter, a=x_next, b=y_next)\n",
    "    return [x_prev, y_prev], func(x_prev, y_prev), n_iter"
   ]
  },
  {
   "cell_type": "code",
   "execution_count": null,
   "metadata": {},
   "outputs": [],
   "source": [
    "result = GD([-5,5], 0.015, 0.00001)\n",
    "print (\"Point of minimum: \", (round(result[0][0],2), round(result[0][1],2)), \n",
    "       \"\\nMin = \", round(result[1],2), \"\\nN iterations = \", result[2])"
   ]
  },
  {
   "cell_type": "code",
   "execution_count": null,
   "metadata": {},
   "outputs": [],
   "source": [
    "import imageio\n",
    "images = []\n",
    "filenames = ['./img/it_{}.png'.format(iteration) for iteration in range(1,469)]\n",
    "for filename in filenames:\n",
    "    images.append(imageio.imread(filename))\n",
    "imageio.mimsave('movie.gif', images)"
   ]
  },
  {
   "cell_type": "markdown",
   "metadata": {},
   "source": [
    "### Multinomial Regression"
   ]
  },
  {
   "cell_type": "code",
   "execution_count": null,
   "metadata": {},
   "outputs": [],
   "source": [
    "X = [1,3,4,2,5,1,5,6]\n",
    "Y = [1,2,5,5,3,1,1,2]"
   ]
  },
  {
   "cell_type": "code",
   "execution_count": null,
   "metadata": {},
   "outputs": [],
   "source": [
    "x = np.array(X).reshape((-1, 1))\n",
    "y = np.array(Y)"
   ]
  },
  {
   "cell_type": "code",
   "execution_count": null,
   "metadata": {},
   "outputs": [],
   "source": [
    "x"
   ]
  },
  {
   "cell_type": "code",
   "execution_count": null,
   "metadata": {},
   "outputs": [],
   "source": [
    "y"
   ]
  },
  {
   "cell_type": "code",
   "execution_count": null,
   "metadata": {},
   "outputs": [],
   "source": [
    "plt.figure(figsize=(8,6))\n",
    "plt.scatter(X,Y,color='b')\n",
    "plt.ylim([-7,7])\n",
    "plt.show()"
   ]
  },
  {
   "cell_type": "code",
   "execution_count": null,
   "metadata": {},
   "outputs": [],
   "source": [
    "scores = pd.DataFrame()"
   ]
  },
  {
   "cell_type": "code",
   "execution_count": null,
   "metadata": {},
   "outputs": [],
   "source": [
    "model = LinearRegression().fit(x, y)"
   ]
  },
  {
   "cell_type": "code",
   "execution_count": null,
   "metadata": {},
   "outputs": [],
   "source": [
    "y_pred_r1 = model.predict(x)"
   ]
  },
  {
   "cell_type": "code",
   "execution_count": null,
   "metadata": {},
   "outputs": [],
   "source": [
    "y_pred_r1"
   ]
  },
  {
   "cell_type": "code",
   "execution_count": null,
   "metadata": {},
   "outputs": [],
   "source": [
    "r_sq = model.score(x, y)\n",
    "r_sq"
   ]
  },
  {
   "cell_type": "code",
   "execution_count": null,
   "metadata": {},
   "outputs": [],
   "source": [
    "a = model.coef_\n",
    "b = model.intercept_"
   ]
  },
  {
   "cell_type": "code",
   "execution_count": null,
   "metadata": {},
   "outputs": [],
   "source": [
    "print(a,b)"
   ]
  },
  {
   "cell_type": "code",
   "execution_count": null,
   "metadata": {},
   "outputs": [],
   "source": [
    "plt.figure(figsize=(8,6))\n",
    "plt.scatter(X,Y,color='b')\n",
    "x_r1 = np.linspace(0, 7, 10)\n",
    "y_r1 = a*x_r1 + b\n",
    "plt.plot(x_r1, y_r1, linestyle='dashed', color='g')\n",
    "plt.ylim([-7,7])\n",
    "plt.show()"
   ]
  },
  {
   "cell_type": "code",
   "execution_count": null,
   "metadata": {},
   "outputs": [],
   "source": [
    "math.sqrt(mean_squared_error(y, y_pred_r1))"
   ]
  },
  {
   "cell_type": "code",
   "execution_count": null,
   "metadata": {},
   "outputs": [],
   "source": [
    "scores = pd.concat([pd.DataFrame({'degree': [1], 'train_rmse':[math.sqrt(mean_squared_error(y, y_pred_r1))]}),scores], axis=0)\n",
    "scores"
   ]
  },
  {
   "cell_type": "code",
   "execution_count": null,
   "metadata": {},
   "outputs": [],
   "source": [
    "from sklearn.preprocessing import PolynomialFeatures"
   ]
  },
  {
   "cell_type": "code",
   "execution_count": null,
   "metadata": {},
   "outputs": [],
   "source": [
    "transformer = PolynomialFeatures(degree=2, include_bias=False)\n",
    "transformer.fit(x)"
   ]
  },
  {
   "cell_type": "code",
   "execution_count": null,
   "metadata": {},
   "outputs": [],
   "source": [
    "x_2 = transformer.transform(x)"
   ]
  },
  {
   "cell_type": "code",
   "execution_count": null,
   "metadata": {},
   "outputs": [],
   "source": [
    "model2 = LinearRegression().fit(x_2, y)"
   ]
  },
  {
   "cell_type": "code",
   "execution_count": null,
   "metadata": {},
   "outputs": [],
   "source": [
    "model2.coef_"
   ]
  },
  {
   "cell_type": "code",
   "execution_count": null,
   "metadata": {},
   "outputs": [],
   "source": [
    "model2.intercept_"
   ]
  },
  {
   "cell_type": "code",
   "execution_count": null,
   "metadata": {},
   "outputs": [],
   "source": [
    "a2 = model2.coef_[1]\n",
    "b2 = model2.coef_[0]\n",
    "c2 = model2.intercept_"
   ]
  },
  {
   "cell_type": "code",
   "execution_count": null,
   "metadata": {},
   "outputs": [],
   "source": [
    "plt.figure(figsize=(8,6))\n",
    "plt.scatter(X,Y,color='b')\n",
    "x_r2 = np.linspace(0, 7, 100)\n",
    "y_r2 = a[0]*x_r2+b\n",
    "y_2 = a2*(x_r2**2) + b2*x_r2 + c2\n",
    "plt.plot(x_r2, y_r2, linestyle='dashed', color='g')\n",
    "plt.plot(x_r2, y_2, linestyle='dashed', color='red')\n",
    "plt.ylim([-7,7])\n",
    "plt.legend(['linear regression', 'quadratic function', 'data'])\n",
    "plt.show()"
   ]
  },
  {
   "cell_type": "code",
   "execution_count": null,
   "metadata": {},
   "outputs": [],
   "source": [
    "r_sq_2 = model2.score(x_2, y)\n",
    "r_sq_2"
   ]
  },
  {
   "cell_type": "code",
   "execution_count": null,
   "metadata": {},
   "outputs": [],
   "source": [
    "math.sqrt(mean_squared_error(y, model2.predict(x_2)))"
   ]
  },
  {
   "cell_type": "code",
   "execution_count": null,
   "metadata": {},
   "outputs": [],
   "source": [
    "scores = pd.concat([scores, pd.DataFrame({'degree': [2], 'train_rmse':[math.sqrt(mean_squared_error(y, model2.predict(x_2)))]})],\n",
    "                   axis=0, ignore_index=True)\n",
    "scores"
   ]
  },
  {
   "cell_type": "code",
   "execution_count": null,
   "metadata": {},
   "outputs": [],
   "source": [
    "transformer = PolynomialFeatures(degree=5, include_bias=False)\n",
    "transformer.fit(x)"
   ]
  },
  {
   "cell_type": "code",
   "execution_count": null,
   "metadata": {},
   "outputs": [],
   "source": [
    "x_5 = transformer.transform(x)"
   ]
  },
  {
   "cell_type": "code",
   "execution_count": null,
   "metadata": {},
   "outputs": [],
   "source": [
    "x_5"
   ]
  },
  {
   "cell_type": "code",
   "execution_count": null,
   "metadata": {},
   "outputs": [],
   "source": [
    "model5 = LinearRegression().fit(x_5, y)"
   ]
  },
  {
   "cell_type": "code",
   "execution_count": null,
   "metadata": {},
   "outputs": [],
   "source": [
    "model5.coef_"
   ]
  },
  {
   "cell_type": "code",
   "execution_count": null,
   "metadata": {},
   "outputs": [],
   "source": [
    "model5.intercept_"
   ]
  },
  {
   "cell_type": "code",
   "execution_count": null,
   "metadata": {},
   "outputs": [],
   "source": [
    "a5 = model5.coef_[4]\n",
    "b5 = model5.coef_[3]\n",
    "c5 = model5.coef_[2]\n",
    "d5 = model5.coef_[1]\n",
    "e5 = model5.coef_[0]\n",
    "f5 = model5.intercept_"
   ]
  },
  {
   "cell_type": "code",
   "execution_count": null,
   "metadata": {},
   "outputs": [],
   "source": [
    "plt.figure(figsize=(8,6))\n",
    "plt.scatter(X,Y,color='b')\n",
    "x_r5 = np.linspace(0, 7, 100)\n",
    "y_r5 = a[0]*x_r5+b\n",
    "y_2 = a2*(x_r5**2) + b2*x_r5 + c2\n",
    "y_5 = a5*(x_r5**5) + b5*(x_r5**4) + c5*(x_r5**3) + d5*(x_r5**2) + e5*x_r5 + f5\n",
    "plt.plot(x_r5, y_r5, linestyle='dashed', color='g')\n",
    "plt.plot(x_r5, y_2, linestyle='dashed', color='red')\n",
    "plt.plot(x_r5, y_5, linestyle='dashed', color='grey')\n",
    "plt.legend(['linear regression', 'quadratic function', 'polynomial of 5 degree','data'])\n",
    "plt.ylim([-7,7])\n",
    "plt.show()"
   ]
  },
  {
   "cell_type": "code",
   "execution_count": null,
   "metadata": {},
   "outputs": [],
   "source": [
    "r_sq_5 = model5.score(x_5, y)\n",
    "r_sq_5"
   ]
  },
  {
   "cell_type": "code",
   "execution_count": null,
   "metadata": {},
   "outputs": [],
   "source": [
    "math.sqrt(mean_squared_error(y, model5.predict(x_5)))"
   ]
  },
  {
   "cell_type": "code",
   "execution_count": null,
   "metadata": {},
   "outputs": [],
   "source": [
    "scores = pd.concat([scores, pd.DataFrame({'degree': [5], 'train_rmse':[math.sqrt(mean_squared_error(y, model5.predict(x_5)))]})],\n",
    "                   axis=0, ignore_index=True)\n",
    "scores"
   ]
  },
  {
   "cell_type": "code",
   "execution_count": null,
   "metadata": {},
   "outputs": [],
   "source": [
    "import statsmodels.api as sm"
   ]
  },
  {
   "cell_type": "code",
   "execution_count": null,
   "metadata": {},
   "outputs": [],
   "source": [
    "x_stat = x.copy()\n",
    "x_stat = sm.add_constant(x)"
   ]
  },
  {
   "cell_type": "code",
   "execution_count": null,
   "metadata": {},
   "outputs": [],
   "source": [
    "model_stat = sm.OLS(y,x_stat)"
   ]
  },
  {
   "cell_type": "code",
   "execution_count": null,
   "metadata": {},
   "outputs": [],
   "source": [
    "results = model_stat.fit()"
   ]
  },
  {
   "cell_type": "code",
   "execution_count": null,
   "metadata": {},
   "outputs": [],
   "source": [
    "results.summary()"
   ]
  },
  {
   "cell_type": "code",
   "execution_count": null,
   "metadata": {},
   "outputs": [],
   "source": [
    "model_r = Ridge(alpha=10).fit(x_5, y)"
   ]
  },
  {
   "cell_type": "code",
   "execution_count": null,
   "metadata": {},
   "outputs": [],
   "source": [
    "model_r.coef_"
   ]
  },
  {
   "cell_type": "code",
   "execution_count": null,
   "metadata": {},
   "outputs": [],
   "source": [
    "model_r.intercept_"
   ]
  },
  {
   "cell_type": "code",
   "execution_count": null,
   "metadata": {},
   "outputs": [],
   "source": [
    "ar = model_r.coef_[4]\n",
    "br = model_r.coef_[3]\n",
    "cr = model_r.coef_[2]\n",
    "dr = model_r.coef_[1]\n",
    "er = model_r.coef_[0]\n",
    "fr = model_r.intercept_"
   ]
  },
  {
   "cell_type": "code",
   "execution_count": null,
   "metadata": {},
   "outputs": [],
   "source": [
    "model_l = Lasso(alpha=10).fit(x_5, y)"
   ]
  },
  {
   "cell_type": "code",
   "execution_count": null,
   "metadata": {},
   "outputs": [],
   "source": [
    "model_l.coef_"
   ]
  },
  {
   "cell_type": "code",
   "execution_count": null,
   "metadata": {},
   "outputs": [],
   "source": [
    "model_l.intercept_"
   ]
  },
  {
   "cell_type": "code",
   "execution_count": null,
   "metadata": {},
   "outputs": [],
   "source": [
    "al = model_l.coef_[4]\n",
    "bl = model_l.coef_[3]\n",
    "cl = model_l.coef_[2]\n",
    "dl = model_l.coef_[1]\n",
    "el = model_l.coef_[0]\n",
    "fl = model_l.intercept_"
   ]
  },
  {
   "cell_type": "code",
   "execution_count": null,
   "metadata": {},
   "outputs": [],
   "source": [
    "plt.figure(figsize=(8,6))\n",
    "plt.scatter(X,Y,color='b')\n",
    "x_r5 = np.linspace(0, 7, 100)\n",
    "y_r5 = a[0]*x_r5+b\n",
    "y_2 = a2*(x_r5**2) + b2*x_r5 + c2\n",
    "y_5 = a5*(x_r5**5) + b5*(x_r5**4) + c5*(x_r5**3) + d5*(x_r5**2) + e5*x_r5 + f5\n",
    "y_r = ar*(x_r5**5) + br*(x_r5**4) + cr*(x_r5**3) + dr*(x_r5**2) + er*x_r5 + fr\n",
    "y_l = al*(x_r5**5) + bl*(x_r5**4) + cl*(x_r5**3) + dl*(x_r5**2) + el*x_r5 + fl\n",
    "plt.plot(x_r5, y_r5, linestyle='dashed', color='g')\n",
    "plt.plot(x_r5, y_2, linestyle='dashed', color='red')\n",
    "plt.plot(x_r5, y_5, linestyle='dashed', color='grey')\n",
    "plt.plot(x_r5, y_r, linestyle='dashed', color='magenta')\n",
    "plt.plot(x_r5, y_l, linestyle='dashed', color='orange')\n",
    "plt.legend(['linear regression', 'quadratic function', 'polynomial of 5 degree','Ridge', 'Lasso','data'])\n",
    "plt.ylim([-7,7])\n",
    "plt.show()"
   ]
  },
  {
   "cell_type": "code",
   "execution_count": null,
   "metadata": {},
   "outputs": [],
   "source": [
    "r_sq_r = model_r.score(x_5, y)\n",
    "r_sq_r"
   ]
  },
  {
   "cell_type": "code",
   "execution_count": null,
   "metadata": {},
   "outputs": [],
   "source": [
    "x_test = np.array([1, 3, 6.5]).reshape(-1,1)\n",
    "y_test = np.array([4, 6, -2])"
   ]
  },
  {
   "cell_type": "code",
   "execution_count": null,
   "metadata": {},
   "outputs": [],
   "source": [
    "plt.figure(figsize=(8,6))\n",
    "plt.scatter(X,Y,color='b')\n",
    "plt.scatter(x_test, y_test, color='black', marker='*')\n",
    "x_r5 = np.linspace(0, 7, 100)\n",
    "y_r5 = a[0]*x_r5+b\n",
    "y_2 = a2*(x_r5**2) + b2*x_r5 + c2\n",
    "y_5 = a5*(x_r5**5) + b5*(x_r5**4) + c5*(x_r5**3) + d5*(x_r5**2) + e5*x_r5 + f5\n",
    "y_r = ar*(x_r5**5) + br*(x_r5**4) + cr*(x_r5**3) + dr*(x_r5**2) + er*x_r5 + fr\n",
    "y_l = al*(x_r5**5) + bl*(x_r5**4) + cl*(x_r5**3) + dl*(x_r5**2) + el*x_r5 + fl\n",
    "plt.plot(x_r5, y_r5, linestyle='dashed', color='g')\n",
    "plt.plot(x_r5, y_2, linestyle='dashed', color='red')\n",
    "plt.plot(x_r5, y_5, linestyle='dashed', color='grey')\n",
    "plt.plot(x_r5, y_r, linestyle='dashed', color='magenta')\n",
    "plt.plot(x_r5, y_l, linestyle='dashed', color='orange')\n",
    "plt.legend(['linear regression', 'quadratic function', 'polynomial of 5 degree','Ridge', 'Lasso','data', 'test'])\n",
    "plt.ylim([-7,8])\n",
    "plt.show()"
   ]
  },
  {
   "cell_type": "markdown",
   "metadata": {},
   "source": [
    "### Problem"
   ]
  },
  {
   "cell_type": "markdown",
   "metadata": {},
   "source": [
    "1) In a loop find _train_ and _test_ _**rmse**_ for the data and train_data defined above.  \n",
    "2) Draw a graph of _train_ vs _test_ _**rmse**_ with complexity of model (polynomial degree) as independent variable.  \n",
    "3) Fit Ridge, Lasso and ElasticNet regression and compare results.  \n",
    "4) Make conclusions.  \n",
    "See https://scikit-learn.org/stable/modules/generated/sklearn.linear_model.LinearRegression.html  \n",
    "https://scikit-learn.org/stable/modules/generated/sklearn.linear_model.Ridge.html    \n",
    "https://scikit-learn.org/stable/modules/generated/sklearn.linear_model.Lasso.html  \n",
    "https://scikit-learn.org/stable/modules/generated/sklearn.linear_model.ElasticNet.html  "
   ]
  },
  {
   "cell_type": "code",
   "execution_count": null,
   "metadata": {},
   "outputs": [],
   "source": [
    "res = pd.DataFrame()\n",
    "for i in range(1,6):\n",
    "    transformer = PolynomialFeatures(degree=i, include_bias=False)\n",
    "    transformer.fit(x)\n",
    "    x_ = transformer.transform(x)\n",
    "    x_t = transformer.transform(x_test)\n",
    "    for Name, Regressor in {'lr' : LinearRegression(), 'ridge': Ridge(alpha=10), 'lasso': Lasso(alpha=10),\n",
    "                           'elasticnet': ElasticNet(l1_ratio=0.5)}.items():\n",
    "        model = Regressor.fit(x_, y)\n",
    "        train_pr = model.predict(x_)\n",
    "        test_pr = model.predict(x_t)\n",
    "        res = pd.concat([res, pd.DataFrame({'complexity': [i], 'train_rmse': [math.sqrt(mean_squared_error(y, train_pr))],\n",
    "                                           'test_rmse': [math.sqrt(mean_squared_error(y_test,test_pr))],\n",
    "                                           'model':[Name]})], ignore_index=True)"
   ]
  },
  {
   "cell_type": "code",
   "execution_count": null,
   "metadata": {},
   "outputs": [],
   "source": [
    "res"
   ]
  },
  {
   "cell_type": "code",
   "execution_count": null,
   "metadata": {},
   "outputs": [],
   "source": [
    "def plot_rmse(res=res, mod='lr'):\n",
    "    plt.figure(figsize=(8,6))\n",
    "    plt.plot(res[res.model == mod].complexity.values, res[res.model == mod].train_rmse.values, '-ok', color='b')\n",
    "    plt.plot(res[res.model == mod].complexity.values, res[res.model == mod].test_rmse.values, '-ok', color='r')\n",
    "    plt.ylim([0,10])\n",
    "    plt.xlabel('Polynomial degree')\n",
    "    plt.ylabel('RMSE')\n",
    "    plt.legend(['train', 'test'])\n",
    "    plt.title('Perfomance of the {} on train and test data'.format(mod.upper()))\n",
    "    plt.show()"
   ]
  },
  {
   "cell_type": "code",
   "execution_count": null,
   "metadata": {},
   "outputs": [],
   "source": [
    "plot_rmse()"
   ]
  },
  {
   "cell_type": "code",
   "execution_count": null,
   "metadata": {},
   "outputs": [],
   "source": [
    "plot_rmse(mod='ridge')"
   ]
  },
  {
   "cell_type": "code",
   "execution_count": null,
   "metadata": {},
   "outputs": [],
   "source": [
    "plot_rmse(mod='lasso')"
   ]
  },
  {
   "cell_type": "code",
   "execution_count": null,
   "metadata": {},
   "outputs": [],
   "source": [
    "plot_rmse(mod='elasticnet')"
   ]
  },
  {
   "cell_type": "markdown",
   "metadata": {},
   "source": [
    "### K-nearest Neighbours"
   ]
  },
  {
   "cell_type": "code",
   "execution_count": null,
   "metadata": {},
   "outputs": [],
   "source": [
    "from sklearn.neighbors import KNeighborsRegressor\n",
    "neigh = KNeighborsRegressor(n_neighbors=2)\n",
    "neigh.fit(x, y) "
   ]
  },
  {
   "cell_type": "code",
   "execution_count": null,
   "metadata": {},
   "outputs": [],
   "source": [
    "test_pr_knn = neigh.predict(x_test)\n",
    "train_knn = neigh.predict(x)"
   ]
  },
  {
   "cell_type": "code",
   "execution_count": null,
   "metadata": {},
   "outputs": [],
   "source": [
    "math.sqrt(mean_squared_error(y_test,test_pr_knn))"
   ]
  },
  {
   "cell_type": "code",
   "execution_count": null,
   "metadata": {},
   "outputs": [],
   "source": [
    "math.sqrt(mean_squared_error(y,train_knn))"
   ]
  },
  {
   "cell_type": "code",
   "execution_count": null,
   "metadata": {},
   "outputs": [],
   "source": [
    "res_knn = pd.DataFrame()\n",
    "for i in range(1,5):\n",
    "    model = KNeighborsRegressor(n_neighbors=i)\n",
    "    model.fit(x, y) \n",
    "    train_pr = model.predict(x)\n",
    "    test_pr = model.predict(x_test)\n",
    "    res_knn = pd.concat([res_knn, pd.DataFrame({'k': [i], 'train_rmse': [math.sqrt(mean_squared_error(y, train_pr))],\n",
    "                                        'test_rmse': [math.sqrt(mean_squared_error(y_test,test_pr))]})], ignore_index=True)"
   ]
  },
  {
   "cell_type": "code",
   "execution_count": null,
   "metadata": {},
   "outputs": [],
   "source": [
    "res_knn"
   ]
  },
  {
   "cell_type": "code",
   "execution_count": null,
   "metadata": {},
   "outputs": [],
   "source": [
    "x_linsp = np.linspace(0,7,100).reshape(-1,1)\n",
    "model1 = KNeighborsRegressor(n_neighbors=1).fit(x,y)\n",
    "y_knn_1 = model1.predict(x_linsp)\n",
    "model2 = KNeighborsRegressor(n_neighbors=2).fit(x,y)\n",
    "y_knn_2 = model2.predict(x_linsp)\n",
    "model3 = KNeighborsRegressor(n_neighbors=3).fit(x,y)\n",
    "y_knn_3 = model3.predict(x_linsp)\n",
    "model4 = KNeighborsRegressor(n_neighbors=4).fit(x,y)\n",
    "y_knn_4 = model4.predict(x_linsp)"
   ]
  },
  {
   "cell_type": "code",
   "execution_count": null,
   "metadata": {},
   "outputs": [],
   "source": [
    "plt.figure(figsize=(8,6))\n",
    "plt.scatter(X,Y,color='b')\n",
    "plt.scatter(x_test, y_test, color='black', marker='*')\n",
    "x_knn = np.linspace(0, 7, 100)\n",
    "plt.plot(x_knn, y_knn_1, linestyle='dashed', color='orange')\n",
    "plt.plot(x_knn, y_knn_2, linestyle='dashed', color='green')\n",
    "plt.plot(x_knn, y_knn_3, linestyle='dashed', color='red')\n",
    "plt.plot(x_knn, y_knn_4, linestyle='dashed', color='grey')\n",
    "plt.legend(['knn-1', 'knn-2', 'knn-3', 'knn-4', 'data', 'test'])\n",
    "plt.ylim([-5,8])\n",
    "plt.show()"
   ]
  },
  {
   "cell_type": "code",
   "execution_count": null,
   "metadata": {},
   "outputs": [],
   "source": [
    "plt.figure(figsize=(8,6))\n",
    "plt.plot(res_knn.k.values, res_knn.train_rmse.values, '-ok', color='b')\n",
    "plt.plot(res_knn.k.values, res_knn.test_rmse.values, '-ok', color='r')\n",
    "plt.ylim([0,5])\n",
    "plt.xlabel('# of neighbors (k)')\n",
    "plt.ylabel('RMSE')\n",
    "plt.legend(['train', 'test'])\n",
    "plt.title('Perfomance of the KNN on train and test data')\n",
    "plt.show()"
   ]
  },
  {
   "cell_type": "markdown",
   "metadata": {},
   "source": [
    "### Decision Tree"
   ]
  },
  {
   "cell_type": "code",
   "execution_count": null,
   "metadata": {},
   "outputs": [],
   "source": [
    "from sklearn.tree import DecisionTreeRegressor"
   ]
  },
  {
   "cell_type": "code",
   "execution_count": null,
   "metadata": {},
   "outputs": [],
   "source": [
    "dt = DecisionTreeRegressor(max_depth=2)\n",
    "dt.fit(x, y)\n",
    "test_pred = dt.predict(x_test)\n",
    "train_pred = dt.predict(x)\n",
    "print('rmse on train', math.sqrt(mean_squared_error(y, train_pred)))\n",
    "print('rmse on test', math.sqrt(mean_squared_error(y_test, test_pred)))"
   ]
  },
  {
   "cell_type": "code",
   "execution_count": null,
   "metadata": {},
   "outputs": [],
   "source": [
    "x_linsp = np.linspace(0,7,100).reshape(-1,1)\n",
    "model1 = DecisionTreeRegressor(max_depth=2).fit(x,y)\n",
    "y_dt_1 = model1.predict(x_linsp)\n",
    "model2 = DecisionTreeRegressor(max_depth=3).fit(x,y)\n",
    "y_dt_2 = model2.predict(x_linsp)\n",
    "model3 = DecisionTreeRegressor(max_depth=4).fit(x,y)\n",
    "y_dt_3 = model3.predict(x_linsp)"
   ]
  },
  {
   "cell_type": "code",
   "execution_count": null,
   "metadata": {},
   "outputs": [],
   "source": [
    "plt.figure(figsize=(8,6))\n",
    "plt.scatter(X,Y,color='b')\n",
    "plt.scatter(x_test, y_test, color='black', marker='*')\n",
    "x_dt = np.linspace(0, 7, 100)\n",
    "plt.plot(x_dt, y_dt_1, linestyle='dashed', color='orange')\n",
    "plt.plot(x_dt, y_dt_2, linestyle='dashed', color='green')\n",
    "plt.plot(x_dt, y_dt_3, linestyle='dashed', color='red')\n",
    "plt.legend(['max_depth=2', 'max_depth=3', 'max_depth=4', 'data', 'test'])\n",
    "plt.ylim([-5,8])\n",
    "plt.show()"
   ]
  },
  {
   "cell_type": "code",
   "execution_count": null,
   "metadata": {},
   "outputs": [],
   "source": [
    "res_dt = pd.DataFrame()\n",
    "for i in range(1,5):\n",
    "    model = DecisionTreeRegressor(max_depth=i)\n",
    "    model.fit(x, y) \n",
    "    train_pr = model.predict(x)\n",
    "    test_pr = model.predict(x_test)\n",
    "    res_dt = pd.concat([res_dt, pd.DataFrame({'max_depth': [i], 'train_rmse': [math.sqrt(mean_squared_error(y, train_pr))],\n",
    "                                        'test_rmse': [math.sqrt(mean_squared_error(y_test,test_pr))]})], ignore_index=True)"
   ]
  },
  {
   "cell_type": "code",
   "execution_count": null,
   "metadata": {},
   "outputs": [],
   "source": [
    "plt.figure(figsize=(8,6))\n",
    "plt.plot(res_dt.max_depth.values, res_dt.train_rmse.values, '-ok', color='b')\n",
    "plt.plot(res_dt.max_depth.values, res_dt.test_rmse.values, '-ok', color='r')\n",
    "plt.ylim([0,5])\n",
    "plt.xlabel('max_depth')\n",
    "plt.ylabel('RMSE')\n",
    "plt.legend(['train', 'test'])\n",
    "plt.title('Perfomance of the DT on train and test data')\n",
    "plt.show()"
   ]
  },
  {
   "cell_type": "markdown",
   "metadata": {},
   "source": [
    "### Random forest"
   ]
  },
  {
   "cell_type": "code",
   "execution_count": null,
   "metadata": {},
   "outputs": [],
   "source": [
    "from sklearn.ensemble import RandomForestRegressor"
   ]
  },
  {
   "cell_type": "code",
   "execution_count": null,
   "metadata": {},
   "outputs": [],
   "source": [
    "rf = RandomForestRegressor(n_estimators=6, random_state=40)\n",
    "rf.fit(x, y)\n",
    "test_pred = rf.predict(x_test)\n",
    "train_pred = rf.predict(x)\n",
    "print('rmse on train', math.sqrt(mean_squared_error(y, train_pred)))\n",
    "print('rmse on test', math.sqrt(mean_squared_error(y_test, test_pred)))"
   ]
  },
  {
   "cell_type": "code",
   "execution_count": null,
   "metadata": {},
   "outputs": [],
   "source": [
    "rf1 = RandomForestRegressor(n_estimators=4, max_depth=3).fit(x,y)\n",
    "y_rf_1 = rf1.predict(x_linsp)\n",
    "rf2 = RandomForestRegressor(n_estimators=5, max_depth=3).fit(x,y)\n",
    "y_rf_2 = rf2.predict(x_linsp)\n",
    "rf3 = RandomForestRegressor(n_estimators=6, max_depth=3).fit(x,y)\n",
    "y_rf_3 = rf3.predict(x_linsp)"
   ]
  },
  {
   "cell_type": "code",
   "execution_count": null,
   "metadata": {},
   "outputs": [],
   "source": [
    "plt.figure(figsize=(10,8))\n",
    "plt.scatter(X,Y,color='b')\n",
    "plt.scatter(x_test, y_test, color='black', marker='*')\n",
    "x_ = np.linspace(0, 7, 100)\n",
    "plt.plot(x_, y_rf_1, linestyle='dashed', color='orange')\n",
    "plt.plot(x_, y_rf_2, linestyle='dashed', color='green')\n",
    "plt.plot(x_, y_rf_3, linestyle='dashed', color='grey')\n",
    "plt.plot(x_, y_dt_2, linestyle='-', color='red')\n",
    "plt.legend(['RF_4trees', 'RF_5trees', 'RF_6trees', 'SingleDT', 'data', 'test'])\n",
    "plt.ylim([-5,8])\n",
    "plt.show()"
   ]
  },
  {
   "cell_type": "code",
   "execution_count": null,
   "metadata": {},
   "outputs": [],
   "source": [
    "res_rf = pd.DataFrame()\n",
    "for i in (3,5,8,10,20):\n",
    "    model = RandomForestRegressor(n_estimators=i)\n",
    "    model.fit(x, y) \n",
    "    train_pr = model.predict(x)\n",
    "    test_pr = model.predict(x_test)\n",
    "    res_rf = pd.concat([res_rf, pd.DataFrame({'n_estimators': [i], 'train_rmse': [math.sqrt(mean_squared_error(y, train_pr))],\n",
    "                                        'test_rmse': [math.sqrt(mean_squared_error(y_test,test_pr))]})], ignore_index=True)"
   ]
  },
  {
   "cell_type": "code",
   "execution_count": null,
   "metadata": {},
   "outputs": [],
   "source": [
    "plt.figure(figsize=(8,6))\n",
    "plt.plot(res_rf.n_estimators.values, res_rf.train_rmse.values, '-ok', color='b')\n",
    "plt.plot(res_rf.n_estimators.values, res_rf.test_rmse.values, '-ok', color='r')\n",
    "plt.ylim([0,5])\n",
    "plt.xlabel('n_estimators')\n",
    "plt.ylabel('RMSE')\n",
    "plt.legend(['train', 'test'])\n",
    "plt.title('Perfomance of the RF on train and test data')\n",
    "plt.show()"
   ]
  },
  {
   "cell_type": "markdown",
   "metadata": {},
   "source": [
    "### Gradient Boosting"
   ]
  },
  {
   "cell_type": "code",
   "execution_count": null,
   "metadata": {},
   "outputs": [],
   "source": [
    "from sklearn.ensemble import GradientBoostingRegressor"
   ]
  },
  {
   "cell_type": "code",
   "execution_count": null,
   "metadata": {},
   "outputs": [],
   "source": [
    "gbr = GradientBoostingRegressor(n_estimators=50, learning_rate=0.02, max_depth=2)\n",
    "gbr.fit(x, y)\n",
    "test_pred = gbr.predict(x_test)\n",
    "train_pred = gbr.predict(x)\n",
    "print('rmse on train', math.sqrt(mean_squared_error(y, train_pred)))\n",
    "print('rmse on test', math.sqrt(mean_squared_error(y_test, test_pred)))"
   ]
  },
  {
   "cell_type": "code",
   "execution_count": null,
   "metadata": {},
   "outputs": [],
   "source": [
    "gbr1 =  GradientBoostingRegressor(n_estimators=5, max_depth=2).fit(x,y)\n",
    "y_gbr_1 = gbr1.predict(x_linsp)\n",
    "gbr2 =  GradientBoostingRegressor(n_estimators=10, max_depth=2).fit(x,y)\n",
    "y_gbr_2 = gbr2.predict(x_linsp)\n",
    "gbr3 =  GradientBoostingRegressor(n_estimators=20, max_depth=2).fit(x,y)\n",
    "y_gbr_3 = gbr3.predict(x_linsp)\n",
    "gbr4 =  GradientBoostingRegressor(n_estimators=50, max_depth=2).fit(x,y)\n",
    "y_gbr_4 = gbr4.predict(x_linsp)"
   ]
  },
  {
   "cell_type": "code",
   "execution_count": null,
   "metadata": {},
   "outputs": [],
   "source": [
    "plt.figure(figsize=(8,6))\n",
    "plt.scatter(X,Y,color='b')\n",
    "plt.scatter(x_test, y_test, color='black', marker='*')\n",
    "x_ = np.linspace(0, 7, 100)\n",
    "plt.plot(x_, y_gbr_1, linestyle='dashed', color='orange')\n",
    "plt.plot(x_, y_gbr_2, linestyle='dashed', color='green')\n",
    "plt.plot(x_, y_gbr_3, linestyle='dashed', color='grey')\n",
    "plt.plot(x_, y_gbr_4, linestyle='dashed', color='red')\n",
    "plt.legend(['5 estimators', '10 estimators', '20 estimators', '50 estimators', 'data', 'test'])\n",
    "plt.ylim([-5,8])\n",
    "plt.show()"
   ]
  },
  {
   "cell_type": "code",
   "execution_count": null,
   "metadata": {},
   "outputs": [],
   "source": [
    "res_gb = pd.DataFrame()\n",
    "for i in (3,5,8,15,20,40,60):\n",
    "    model = GradientBoostingRegressor(n_estimators=i)\n",
    "    model.fit(x, y) \n",
    "    train_pr = model.predict(x)\n",
    "    test_pr = model.predict(x_test)\n",
    "    res_gb = pd.concat([res_gb, pd.DataFrame({'n_estimators': [i], 'train_rmse': [math.sqrt(mean_squared_error(y, train_pr))],\n",
    "                                        'test_rmse': [math.sqrt(mean_squared_error(y_test,test_pr))]})], ignore_index=True)"
   ]
  },
  {
   "cell_type": "code",
   "execution_count": null,
   "metadata": {},
   "outputs": [],
   "source": [
    "plt.figure(figsize=(8,6))\n",
    "plt.plot(res_gb.n_estimators.values, res_gb.train_rmse.values, '-ok', color='b')\n",
    "plt.plot(res_gb.n_estimators.values, res_gb.test_rmse.values, '-ok', color='r')\n",
    "plt.ylim([0,5])\n",
    "plt.xlabel('n_estimators')\n",
    "plt.ylabel('RMSE')\n",
    "plt.legend(['train', 'test'])\n",
    "plt.title('Perfomance of the GB on train and test data')\n",
    "plt.show()"
   ]
  },
  {
   "cell_type": "code",
   "execution_count": null,
   "metadata": {},
   "outputs": [],
   "source": []
  }
 ],
 "metadata": {
  "kernelspec": {
   "display_name": "Python 3",
   "language": "python",
   "name": "python3"
  },
  "language_info": {
   "codemirror_mode": {
    "name": "ipython",
    "version": 3
   },
   "file_extension": ".py",
   "mimetype": "text/x-python",
   "name": "python",
   "nbconvert_exporter": "python",
   "pygments_lexer": "ipython3",
   "version": "3.7.4"
  }
 },
 "nbformat": 4,
 "nbformat_minor": 2
}
